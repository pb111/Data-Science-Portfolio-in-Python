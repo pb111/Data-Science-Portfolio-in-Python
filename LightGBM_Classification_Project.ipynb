{
  "nbformat": 4,
  "nbformat_minor": 0,
  "metadata": {
    "kernelspec": {
      "name": "python3",
      "display_name": "Python 3",
      "language": "python"
    },
    "language_info": {
      "name": "python",
      "version": "3.6.6",
      "mimetype": "text/x-python",
      "codemirror_mode": {
        "name": "ipython",
        "version": 3
      },
      "pygments_lexer": "ipython3",
      "nbconvert_exporter": "python",
      "file_extension": ".py"
    },
    "colab": {
      "name": "LightGBM Classification Project.ipynb",
      "provenance": [],
      "include_colab_link": true
    }
  },
  "cells": [
    {
      "cell_type": "markdown",
      "metadata": {
        "id": "view-in-github",
        "colab_type": "text"
      },
      "source": [
        "<a href=\"https://colab.research.google.com/github/pb111/Data-Science-Portfolio-in-Python/blob/master/LightGBM_Classification_Project.ipynb\" target=\"_parent\"><img src=\"https://colab.research.google.com/assets/colab-badge.svg\" alt=\"Open In Colab\"/></a>"
      ]
    },
    {
      "cell_type": "markdown",
      "metadata": {
        "id": "FfGLiXmqJASV"
      },
      "source": [
        "# **LightGBM Classification Project**\n",
        "\n",
        "\n"
      ]
    },
    {
      "cell_type": "markdown",
      "metadata": {
        "id": "dzaqibHtJEg-"
      },
      "source": [
        "In this project, I will discuss one of the most successful ML algorithm LightGBM Classifier. LightGBM is a fast, distributed, high performance gradient boosting framework based on decision tree algorithms, used for ranking, classification and many other machine learning tasks. It has helped Kagglers win data science competitions. \n",
        "\n",
        "\n",
        "So, let's get started."
      ]
    },
    {
      "cell_type": "markdown",
      "metadata": {
        "id": "dO0-u-fKJASi"
      },
      "source": [
        "## **Table of Contents** \n",
        "\n",
        "- 1.\tIntroduction to LightGBM\n",
        "- 2.\tLightGBM intuition\n",
        "   - 2.1\tLeaf-wise tree growth\n",
        "   - 2.2\tLevel-wise tree growth\n",
        "   - 2.3\tImportant points about tree-growth\n",
        "- 3.\tXGBoost Vs LightGBM\n",
        "- 4.\tLightGBM Parameters\n",
        "   - 4.1\tControl Parameters\n",
        "   - 4.2\tCore Parameters\n",
        "   - 4.3\tMetric Parameter\n",
        "   - 4.4\tIO Parameter\n",
        "- 5.\tLightGBM implementation in Python\n",
        "   - 5.1\tLoad packages\n",
        "   - 5.2\tRead dataset\n",
        "   - 5.3\tPreview dataset\n",
        "   - 5.4\tSummary of dataset\n",
        "   - 5.5\tCheck the distribution of target variable\n",
        "   - 5.6\tDeclare feature vector and target variable\n",
        "   - 5.7\tSplit data into training and test set\n",
        "   - 5.8\tLightGBM model development and training\n",
        "   - 5.9\tModel prediction\n",
        "   - 5.10\tModel accuracy\n",
        "   - 5.11\tCompare train and test set accuracy\n",
        "   - 5.12\tCheck for overfitting\n",
        "   - 5.13\tConfusion-matrix\n",
        "   - 5.14\tClassification-metrices\n",
        "- 6.\tResults and conclusion\n",
        "- 7.\tLightGBM parameter tuning\n",
        "   - 7.1\tFor faster speed\n",
        "   - 7.2\tFor better accuracy\n",
        "   - 7.3\tTo deal with over-fitting\n",
        "- 8.\tReferences\n",
        "\n",
        "\n"
      ]
    },
    {
      "cell_type": "markdown",
      "metadata": {
        "id": "KN8BLQ9jJASj"
      },
      "source": [
        "## **1. Introduction to LightGBM** \n",
        "\n",
        "\n",
        "- [LightGBM](https://github.com/Microsoft/LightGBM) is a gradient boosting framework that uses tree based learning algorithms. It is designed to be distributed and efficient with the following advantages:\n",
        "\n",
        "  - Faster training speed and higher efficiency.\n",
        "  - Lower memory usage.\n",
        "  - Better accuracy.\n",
        "  - Support of parallel and GPU learning.\n",
        "  - Capable of handling large-scale data.\n",
        "  \n",
        "  \n",
        "- At present, decision tree based machine learning algorithms dominate Kaggle competitions. The winning solutions in these competitions have adopted an alogorithm called **XGBoost**. \n",
        "\n",
        "- A couple of years ago, Microsoft announced its gradient boosting framework LightGBM. Nowadays, it steals the spotlight in gradient boosting machines. Kagglers start to use LightGBM more than XGBoost. LightGBM is 6 times faster than XGBoost. \n",
        "\n",
        "- LightGBM is a relatively new algorithm and have long list of parameters given in the [LightGBM documentation](https://github.com/microsoft/LightGBM),\n",
        "\n",
        "- The size of dataset is increasing rapidly. It is become very difficult for traditional data science algorithms to give accurate results. Light GBM is prefixed as **Light** because of its high speed. **LightGBM can handle the large size of data and takes lower memory to run**. \n",
        "\n",
        "- Another reason why Light GBM is so popular is because it focuses on accuracy of results. LGBM also supports GPU learning and thus data scientists are widely using LGBM for data science application development.\n",
        "\n",
        "- It is not advisable to use LGBM on small datasets. LightGBM is sensitive to overfitting and can easily overfit small data."
      ]
    },
    {
      "cell_type": "markdown",
      "metadata": {
        "id": "Uj4xNW73JASj"
      },
      "source": [
        "## **2. LightGBM intuition** \n",
        "\n",
        "\n",
        "- LightGBM is a gradient boosting framework that uses tree based learning algorithm.\n",
        "\n",
        "\n",
        "- LightGBM documentation states that -\n",
        "\n",
        " `LightGBM grows tree vertically while other tree based learning algorithms grow trees horizontally. \n",
        " It means that LightGBM grows tree leaf-wise while other algorithms grow level-wise. It will choose \n",
        " the leaf with max delta loss to grow. When growing the same leaf, leaf-wise algorithm can reduce more \n",
        " loss than a level-wise algorithm.`\n",
        " \n",
        " \n",
        " - So, we need to understand the distinction between leaf-wise tree growth and level-wise tree growth.\n"
      ]
    },
    {
      "cell_type": "markdown",
      "metadata": {
        "id": "7FIChmnFJASk"
      },
      "source": [
        "### **2.1 Leaf-wise tree growth** \n",
        "\n",
        "\n",
        "- Leaf-wise tree growth can best be explained with the following visual -"
      ]
    },
    {
      "cell_type": "markdown",
      "metadata": {
        "id": "aEu_a4qZJASl"
      },
      "source": [
        "![Leaf-wise tree growth](https://i.stack.imgur.com/YOE9y.png)"
      ]
    },
    {
      "cell_type": "markdown",
      "metadata": {
        "id": "3kV6fmHOJASl"
      },
      "source": [
        "### **2.2 Level-wise tree growth** \n",
        "\n",
        "- Most decision tree learning algorithms grow tree by level (depth)-wise.\n",
        "\n",
        "- Level-wise tree growth can best be explained with the following visual -"
      ]
    },
    {
      "cell_type": "markdown",
      "metadata": {
        "id": "CSG7ox9jJASm"
      },
      "source": [
        "![Level-wise tree growth](https://i.stack.imgur.com/e1FWe.png)"
      ]
    },
    {
      "cell_type": "markdown",
      "metadata": {
        "id": "GJs-TH5_JASm"
      },
      "source": [
        "### **2.3 Important points about tree-growth**\n",
        "\n",
        "\n",
        "- If we grow the full tree, **best-first (leaf-wise)** and **depth-first (level-wise)** will result in the same tree. The difference is in the order in which the tree is expanded. Since we don't normally grow trees to their full depth, order matters.\n",
        "\n",
        "- Application of early stopping criteria and pruning methods can result in very different trees. Because leaf-wise chooses splits based on their contribution to the global loss and not just the loss along a particular branch, it often (not always) will learn lower-error trees \"faster\" than level-wise. \n",
        "\n",
        "- For a small number of nodes, leaf-wise will probably out-perform level-wise. As we add more nodes, without stopping or pruning they will converge to the same performance because they will literally build the same tree eventually."
      ]
    },
    {
      "cell_type": "markdown",
      "metadata": {
        "id": "EQ5-s8FLJASn"
      },
      "source": [
        "## **3. XGBoost Vs LightGBM** \n",
        "\n",
        "\n",
        "- [XGBoost](https://github.com/dmlc/xgboost) is a very fast and accurate ML algorithm. But now it's been challenged by [LightGBM](https://github.com/microsoft/LightGBM) — which runs even faster with comparable model accuracy and more hyperparameters for users to tune. \n",
        "\n",
        "- The key difference in speed is because **XGBoost split the tree nodes one level at a time** and **LightGBM does that one node at a time**.\n",
        "\n",
        "- So XGBoost developers later improved their algorithms to catch up with LightGBM, allowing users to also run XGBoost in split-by-leaf mode `(grow_policy = ‘lossguide’)`. Now XGBoost is much faster with this improvement, but LightGBM is still about 1.3X — 1.5X the speed of XGB. \n",
        "\n",
        "- Another difference between XGBoost and LightGBM is that XGBoost has a feature that LightGBM lacks — **monotonic constraint**. It will sacrifice some model accuracy and increase training time, but may improve model interpretability."
      ]
    },
    {
      "cell_type": "markdown",
      "metadata": {
        "id": "GMHEKx66JASn"
      },
      "source": [
        "## **4. LightGBM Parameters** \n",
        "\n",
        "\n",
        "- [LightGBM](https://github.com/microsoft/LightGBM) provides more than 100 [LightGBM parameters](https://github.com/microsoft/LightGBM/blob/master/docs/Parameters.rst).\n",
        "\n",
        "- It is very important to know some basic parameters of LightGBM. \n",
        "\n",
        "- So, in this section, I will discuss some basic parameters of LightGBM.\n"
      ]
    },
    {
      "cell_type": "markdown",
      "metadata": {
        "id": "uzwEjaYlJASo"
      },
      "source": [
        "### **4.1 Control Parameters** \n",
        "\n",
        "- **max_depth** : It describes the maximum depth of tree. This parameter is used to handle model overfitting. If you feel that your model is overfitted, you should to lower max_depth.\n",
        "\n",
        "- **min_data_in_leaf** : It is the minimum number of the records a leaf may have. The default value is 20, optimum value. It is also used to deal with overfitting.\n",
        "\n",
        "- **feature_fraction**: Used when your boosting is random forest. 0.8 feature fraction means LightGBM will select 80% of parameters randomly in each iteration for building trees.\n",
        "\n",
        "- **bagging_fraction** : specifies the fraction of data to be used for each iteration and is generally used to speed up the training and avoid overfitting.\n",
        "\n",
        "- **early_stopping_round** : This parameter can help you speed up your analysis. Model will stop training if one metric of one validation data doesn’t improve in last early_stopping_round rounds. This will reduce excessive iterations.\n",
        "\n",
        "- **lambda** : lambda specifies regularization. Typical value ranges from 0 to 1.\n",
        "\n",
        "- **min_gain_to_split** : This parameter will describe the minimum gain to make a split. It can used to control number of useful splits in tree.\n",
        "\n",
        "- **max_cat_group** : When the number of category is large, finding the split point on it is easily over-fitting. So LightGBM merges them into ‘max_cat_group’ groups, and finds the split points on the group boundaries, default:64."
      ]
    },
    {
      "cell_type": "markdown",
      "metadata": {
        "id": "sXqF9b6RJASp"
      },
      "source": [
        "### **4.2 Core Parameters** \n",
        "\n",
        "- **Task** : It specifies the task you want to perform on data. It may be either train or predict.\n",
        "\n",
        "- **application** : This is the most important parameter and specifies the application of your model, whether it is a regression problem or classification problem. LightGBM will by default consider model as a regression model.\n",
        "\n",
        "  - **regression** : for regression\n",
        "  - **binary** : for binary classification\n",
        "  - **multiclass** : for multiclass classification problem\n",
        "  \n",
        "  \n",
        "- **boosting** : defines the type of algorithm you want to run, default=gdbt.\n",
        "\n",
        "  - **gbdt** : traditional Gradient Boosting Decision Tree\n",
        "  - **rf** : random forest\n",
        "  - **dart** : Dropouts meet Multiple Additive Regression Trees\n",
        "  - **goss** : Gradient-based One-Side Sampling\n",
        "  \n",
        "  \n",
        "- **num_boost_round** : Number of boosting iterations, typically 100+\n",
        "\n",
        "- **learning_rate** : This determines the impact of each tree on the final outcome. GBM works by starting with an initial estimate which is updated using the output of each tree. The learning parameter controls the magnitude of this change in the estimates. Typical values: 0.1, 0.001, 0.003…\n",
        "\n",
        "- **num_leaves** : number of leaves in full tree, default: 31\n",
        "\n",
        "- **device** : default: cpu, can also pass gpu"
      ]
    },
    {
      "cell_type": "markdown",
      "metadata": {
        "id": "lirkdxWcJASq"
      },
      "source": [
        "### **4.3 Metric Parameter** \n",
        "\n",
        "\n",
        "- metric: again one of the important parameter as it specifies loss for model building. Below are few general losses for regression and classification.\n",
        "\n",
        "  - **mae** : mean absolute error\n",
        "  - **mse** : mean squared error\n",
        "  - **binary_logloss** : loss for binary classification\n",
        "  - **multi_logloss** : loss for multi classification"
      ]
    },
    {
      "cell_type": "markdown",
      "metadata": {
        "id": "fmWPHANZJASr"
      },
      "source": [
        "### **4.4 IO Parameter** \n",
        "\n",
        "- **max_bin** : it denotes the maximum number of bin that feature value will bucket in.\n",
        "\n",
        "- **categorical_feature** : It denotes the index of categorical features. If categorical_features=0,1,2 then column 0, column 1 and column 2 are categorical variables.\n",
        "\n",
        "- **ignore_column** : same as categorical_features just instead of considering specific columns as categorical, it will completely ignore them.\n",
        "\n",
        "- **save_binary** : If you are really dealing with the memory size of your data file then specify this parameter as ‘True’. Specifying parameter true will save the dataset to binary file, this binary file will speed your data reading time for the next time."
      ]
    },
    {
      "cell_type": "markdown",
      "metadata": {
        "id": "wnIyPo6aJASr"
      },
      "source": [
        "Now, we move on to the LightGBM implementation."
      ]
    },
    {
      "cell_type": "markdown",
      "metadata": {
        "trusted": true,
        "id": "x7wb-wbMJASs"
      },
      "source": [
        "## **5. LightGBM implementation in Python** "
      ]
    },
    {
      "cell_type": "markdown",
      "metadata": {
        "id": "CGRAi-RIJASt"
      },
      "source": [
        "### **5.1 Load packages**"
      ]
    },
    {
      "cell_type": "code",
      "metadata": {
        "_uuid": "8f2839f25d086af736a60e9eeb907d3b93b6e0e5",
        "_cell_guid": "b1076dfc-b9ad-4769-8c92-a6c4dae69d19",
        "trusted": true,
        "id": "_c8VaN5XJASt"
      },
      "source": [
        "import numpy as np # linear algebra\n",
        "import pandas as pd # data processing, CSV file I/O (e.g. pd.read_csv)\n",
        "import matplotlib.pyplot as plt # data visualization\n",
        "import seaborn as sns # statistical data visualization\n"
      ],
      "execution_count": 1,
      "outputs": []
    },
    {
      "cell_type": "code",
      "metadata": {
        "trusted": true,
        "id": "kRDdqrGtJASv"
      },
      "source": [
        "# ignore warnings\n",
        "import warnings\n",
        "warnings.filterwarnings(\"ignore\")\n"
      ],
      "execution_count": 2,
      "outputs": []
    },
    {
      "cell_type": "markdown",
      "metadata": {
        "id": "6jroppkXJASw"
      },
      "source": [
        "### **5.2 Read dataset**"
      ]
    },
    {
      "cell_type": "code",
      "metadata": {
        "colab": {
          "base_uri": "https://localhost:8080/"
        },
        "id": "ohmro7n9jDo2",
        "outputId": "4dce02a8-f72f-4232-dd27-22a14f3b95c3"
      },
      "source": [
        "from google.colab import drive\n",
        "\n",
        "drive.mount('/content/drive')\n"
      ],
      "execution_count": 3,
      "outputs": [
        {
          "output_type": "stream",
          "text": [
            "Drive already mounted at /content/drive; to attempt to forcibly remount, call drive.mount(\"/content/drive\", force_remount=True).\n"
          ],
          "name": "stdout"
        }
      ]
    },
    {
      "cell_type": "code",
      "metadata": {
        "trusted": true,
        "id": "2zdnaUb4JASw"
      },
      "source": [
        "# load dataset\n",
        "df = pd.read_csv('/content/drive/MyDrive/datasets/LightGBM/Breast_cancer_data.csv')\n"
      ],
      "execution_count": 4,
      "outputs": []
    },
    {
      "cell_type": "markdown",
      "metadata": {
        "id": "pgj-Lb6np1_N"
      },
      "source": [
        "### **5.3 Preview dataset**"
      ]
    },
    {
      "cell_type": "code",
      "metadata": {
        "colab": {
          "base_uri": "https://localhost:8080/",
          "height": 204
        },
        "id": "EFp3FsShpn-1",
        "outputId": "dc8a16ac-6b5c-43c7-8361-fde17239441a"
      },
      "source": [
        "df.head()"
      ],
      "execution_count": 5,
      "outputs": [
        {
          "output_type": "execute_result",
          "data": {
            "text/html": [
              "<div>\n",
              "<style scoped>\n",
              "    .dataframe tbody tr th:only-of-type {\n",
              "        vertical-align: middle;\n",
              "    }\n",
              "\n",
              "    .dataframe tbody tr th {\n",
              "        vertical-align: top;\n",
              "    }\n",
              "\n",
              "    .dataframe thead th {\n",
              "        text-align: right;\n",
              "    }\n",
              "</style>\n",
              "<table border=\"1\" class=\"dataframe\">\n",
              "  <thead>\n",
              "    <tr style=\"text-align: right;\">\n",
              "      <th></th>\n",
              "      <th>mean_radius</th>\n",
              "      <th>mean_texture</th>\n",
              "      <th>mean_perimeter</th>\n",
              "      <th>mean_area</th>\n",
              "      <th>mean_smoothness</th>\n",
              "      <th>diagnosis</th>\n",
              "    </tr>\n",
              "  </thead>\n",
              "  <tbody>\n",
              "    <tr>\n",
              "      <th>0</th>\n",
              "      <td>17.99</td>\n",
              "      <td>10.38</td>\n",
              "      <td>122.80</td>\n",
              "      <td>1001.0</td>\n",
              "      <td>0.11840</td>\n",
              "      <td>0</td>\n",
              "    </tr>\n",
              "    <tr>\n",
              "      <th>1</th>\n",
              "      <td>20.57</td>\n",
              "      <td>17.77</td>\n",
              "      <td>132.90</td>\n",
              "      <td>1326.0</td>\n",
              "      <td>0.08474</td>\n",
              "      <td>0</td>\n",
              "    </tr>\n",
              "    <tr>\n",
              "      <th>2</th>\n",
              "      <td>19.69</td>\n",
              "      <td>21.25</td>\n",
              "      <td>130.00</td>\n",
              "      <td>1203.0</td>\n",
              "      <td>0.10960</td>\n",
              "      <td>0</td>\n",
              "    </tr>\n",
              "    <tr>\n",
              "      <th>3</th>\n",
              "      <td>11.42</td>\n",
              "      <td>20.38</td>\n",
              "      <td>77.58</td>\n",
              "      <td>386.1</td>\n",
              "      <td>0.14250</td>\n",
              "      <td>0</td>\n",
              "    </tr>\n",
              "    <tr>\n",
              "      <th>4</th>\n",
              "      <td>20.29</td>\n",
              "      <td>14.34</td>\n",
              "      <td>135.10</td>\n",
              "      <td>1297.0</td>\n",
              "      <td>0.10030</td>\n",
              "      <td>0</td>\n",
              "    </tr>\n",
              "  </tbody>\n",
              "</table>\n",
              "</div>"
            ],
            "text/plain": [
              "   mean_radius  mean_texture  ...  mean_smoothness  diagnosis\n",
              "0        17.99         10.38  ...          0.11840          0\n",
              "1        20.57         17.77  ...          0.08474          0\n",
              "2        19.69         21.25  ...          0.10960          0\n",
              "3        11.42         20.38  ...          0.14250          0\n",
              "4        20.29         14.34  ...          0.10030          0\n",
              "\n",
              "[5 rows x 6 columns]"
            ]
          },
          "metadata": {
            "tags": []
          },
          "execution_count": 5
        }
      ]
    },
    {
      "cell_type": "markdown",
      "metadata": {
        "id": "M6zFhvT0JASx"
      },
      "source": [
        "### **5.4 Summary of dataset**"
      ]
    },
    {
      "cell_type": "code",
      "metadata": {
        "trusted": true,
        "id": "dt2vFOatJASx",
        "colab": {
          "base_uri": "https://localhost:8080/"
        },
        "outputId": "b0448196-87ec-4601-9bb8-f63efa73511b"
      },
      "source": [
        "# view summary of dataset\n",
        "df.info()"
      ],
      "execution_count": 6,
      "outputs": [
        {
          "output_type": "stream",
          "text": [
            "<class 'pandas.core.frame.DataFrame'>\n",
            "RangeIndex: 569 entries, 0 to 568\n",
            "Data columns (total 6 columns):\n",
            " #   Column           Non-Null Count  Dtype  \n",
            "---  ------           --------------  -----  \n",
            " 0   mean_radius      569 non-null    float64\n",
            " 1   mean_texture     569 non-null    float64\n",
            " 2   mean_perimeter   569 non-null    float64\n",
            " 3   mean_area        569 non-null    float64\n",
            " 4   mean_smoothness  569 non-null    float64\n",
            " 5   diagnosis        569 non-null    int64  \n",
            "dtypes: float64(5), int64(1)\n",
            "memory usage: 26.8 KB\n"
          ],
          "name": "stdout"
        }
      ]
    },
    {
      "cell_type": "markdown",
      "metadata": {
        "id": "_H0tflN8JASy"
      },
      "source": [
        "- We can see that there are 6 columns in the dataset and there are no missing values."
      ]
    },
    {
      "cell_type": "markdown",
      "metadata": {
        "id": "1AWh1ea-JASy"
      },
      "source": [
        "### **5.5 Check the distribution of target variable**\n",
        "\n",
        "-  Target variable is `diagnosis`\n",
        "-  check the distribution of the target variable."
      ]
    },
    {
      "cell_type": "code",
      "metadata": {
        "trusted": true,
        "id": "Iq9dQm7KJASz",
        "colab": {
          "base_uri": "https://localhost:8080/"
        },
        "outputId": "a4dbbbb5-0c25-43ca-b12e-b1c7aaa49ba3"
      },
      "source": [
        "# check the distribution of the target variable\n",
        "df['diagnosis'].value_counts()"
      ],
      "execution_count": 7,
      "outputs": [
        {
          "output_type": "execute_result",
          "data": {
            "text/plain": [
              "1    357\n",
              "0    212\n",
              "Name: diagnosis, dtype: int64"
            ]
          },
          "metadata": {
            "tags": []
          },
          "execution_count": 7
        }
      ]
    },
    {
      "cell_type": "markdown",
      "metadata": {
        "id": "_ODXCokHJASz"
      },
      "source": [
        "- The target variable is `diagnosis`. It contains 2 values - 0 and 1. \n",
        "\n",
        "- `0` is for **Negative prediction** and `1` for **Positive prediction**.\n",
        "\n",
        "- We  can see that the problem is binary classification task."
      ]
    },
    {
      "cell_type": "markdown",
      "metadata": {
        "id": "r6EMzRKfJAS0"
      },
      "source": [
        "### **5.6 Declare feature vector and target variable**"
      ]
    },
    {
      "cell_type": "code",
      "metadata": {
        "trusted": true,
        "id": "THazGIMuJAS0"
      },
      "source": [
        "X = df[['mean_radius','mean_texture','mean_perimeter','mean_area','mean_smoothness']]\n",
        "y = df['diagnosis']"
      ],
      "execution_count": 8,
      "outputs": []
    },
    {
      "cell_type": "markdown",
      "metadata": {
        "id": "VVOw6X9pJAS0"
      },
      "source": [
        "### **5.7 Split data into training and test set**"
      ]
    },
    {
      "cell_type": "code",
      "metadata": {
        "trusted": true,
        "id": "G1_FqNuQJAS0"
      },
      "source": [
        "# split the dataset into the training set and test set\n",
        "from sklearn.model_selection import train_test_split\n",
        "X_train, X_test, y_train, y_test = train_test_split(X, y, test_size = 0.3, random_state = 0)"
      ],
      "execution_count": 9,
      "outputs": []
    },
    {
      "cell_type": "markdown",
      "metadata": {
        "id": "GTYVG4GyJAS1"
      },
      "source": [
        "### **5.8 LightGBM model development and training**\n",
        "\n",
        "\n",
        "- We need to convert our training data into LightGBM dataset format(this is mandatory for LightGBM training).\n",
        "\n",
        "- After creating the necessary dataset, we created a python dictionary with parameters and their values. \n",
        "\n",
        "- Accuracy of the model depends on the values we provide to the parameters.\n",
        "\n",
        "- In the end block of code, we simply trained model with 100 iterations."
      ]
    },
    {
      "cell_type": "code",
      "metadata": {
        "trusted": true,
        "id": "uiijtF7jJAS1",
        "colab": {
          "base_uri": "https://localhost:8080/"
        },
        "outputId": "1c63eb3d-9de9-4774-9ad8-d34aaf796d6b"
      },
      "source": [
        "# build the lightgbm model\n",
        "import lightgbm as lgb\n",
        "clf = lgb.LGBMClassifier()\n",
        "clf.fit(X_train, y_train)"
      ],
      "execution_count": 10,
      "outputs": [
        {
          "output_type": "execute_result",
          "data": {
            "text/plain": [
              "LGBMClassifier(boosting_type='gbdt', class_weight=None, colsample_bytree=1.0,\n",
              "               importance_type='split', learning_rate=0.1, max_depth=-1,\n",
              "               min_child_samples=20, min_child_weight=0.001, min_split_gain=0.0,\n",
              "               n_estimators=100, n_jobs=-1, num_leaves=31, objective=None,\n",
              "               random_state=None, reg_alpha=0.0, reg_lambda=0.0, silent=True,\n",
              "               subsample=1.0, subsample_for_bin=200000, subsample_freq=0)"
            ]
          },
          "metadata": {
            "tags": []
          },
          "execution_count": 10
        }
      ]
    },
    {
      "cell_type": "markdown",
      "metadata": {
        "id": "V37aoTG3JAS2"
      },
      "source": [
        "### **5.9 Model prediction**"
      ]
    },
    {
      "cell_type": "code",
      "metadata": {
        "trusted": true,
        "id": "7Fnvri0WJAS2"
      },
      "source": [
        "# predict the results\n",
        "y_pred=clf.predict(X_test)\n"
      ],
      "execution_count": 11,
      "outputs": []
    },
    {
      "cell_type": "markdown",
      "metadata": {
        "id": "IRcj0AY9JAS2"
      },
      "source": [
        "### **5.10 Model accuracy**"
      ]
    },
    {
      "cell_type": "code",
      "metadata": {
        "trusted": true,
        "id": "BAJzKFo3JAS2",
        "colab": {
          "base_uri": "https://localhost:8080/"
        },
        "outputId": "9617aa02-ea4f-4422-80bf-eb811fe35b0c"
      },
      "source": [
        "# view accuracy\n",
        "from sklearn.metrics import accuracy_score\n",
        "accuracy=accuracy_score(y_pred, y_test)\n",
        "print('LightGBM Model accuracy score: {0:0.4f}'.format(accuracy_score(y_test, y_pred)))"
      ],
      "execution_count": 12,
      "outputs": [
        {
          "output_type": "stream",
          "text": [
            "LightGBM Model accuracy score: 0.9240\n"
          ],
          "name": "stdout"
        }
      ]
    },
    {
      "cell_type": "markdown",
      "metadata": {
        "id": "fmc3f4VTJAS3"
      },
      "source": [
        "- Here, `y_test` are the true class labels and `y_pred` are the predicted class labels in the test-set."
      ]
    },
    {
      "cell_type": "markdown",
      "metadata": {
        "id": "TJO42NbwJAS3"
      },
      "source": [
        "### **5.11 Compare train and test set accuracy**\n",
        "\n",
        "- Now, I will compare the train-set and test-set accuracy to check for overfitting."
      ]
    },
    {
      "cell_type": "code",
      "metadata": {
        "trusted": true,
        "id": "F0ZB2hfIJAS4"
      },
      "source": [
        "y_pred_train = clf.predict(X_train)"
      ],
      "execution_count": 13,
      "outputs": []
    },
    {
      "cell_type": "code",
      "metadata": {
        "trusted": true,
        "id": "8J97R7OtJAS4",
        "colab": {
          "base_uri": "https://localhost:8080/"
        },
        "outputId": "34bcf138-a175-4b4f-cf6d-ded9e5476b91"
      },
      "source": [
        "print('Training-set accuracy score: {0:0.4f}'. format(accuracy_score(y_train, y_pred_train)))"
      ],
      "execution_count": 14,
      "outputs": [
        {
          "output_type": "stream",
          "text": [
            "Training-set accuracy score: 1.0000\n"
          ],
          "name": "stdout"
        }
      ]
    },
    {
      "cell_type": "markdown",
      "metadata": {
        "id": "9wuEtqLtJAS4"
      },
      "source": [
        "### **5.12 Check for overfitting**"
      ]
    },
    {
      "cell_type": "code",
      "metadata": {
        "trusted": true,
        "id": "lyrHWV_JJAS5",
        "colab": {
          "base_uri": "https://localhost:8080/"
        },
        "outputId": "f7ea63e6-65f0-41be-ac3c-35faad570491"
      },
      "source": [
        "# print the scores on training and test set\n",
        "\n",
        "print('Training set score: {:.4f}'.format(clf.score(X_train, y_train)))\n",
        "\n",
        "print('Test set score: {:.4f}'.format(clf.score(X_test, y_test)))"
      ],
      "execution_count": 15,
      "outputs": [
        {
          "output_type": "stream",
          "text": [
            "Training set score: 1.0000\n",
            "Test set score: 0.9240\n"
          ],
          "name": "stdout"
        }
      ]
    },
    {
      "cell_type": "markdown",
      "metadata": {
        "id": "svK9H444JAS5"
      },
      "source": [
        "- The training and test set accuracy are quite comparable. So, we cannot say there is overfitting."
      ]
    },
    {
      "cell_type": "markdown",
      "metadata": {
        "id": "C1aP4CerJAS5"
      },
      "source": [
        "### **5.13 Confusion-matrix**"
      ]
    },
    {
      "cell_type": "code",
      "metadata": {
        "trusted": true,
        "id": "lLIwtL2bJAS6",
        "colab": {
          "base_uri": "https://localhost:8080/"
        },
        "outputId": "5cb61aa3-de69-4c8f-a298-f4ecec521585"
      },
      "source": [
        "# view confusion-matrix\n",
        "# Print the Confusion Matrix and slice it into four pieces\n",
        "\n",
        "from sklearn.metrics import confusion_matrix\n",
        "cm = confusion_matrix(y_test, y_pred)\n",
        "print('Confusion matrix\\n\\n', cm)\n",
        "print('\\nTrue Positives(TP) = ', cm[0,0])\n",
        "print('\\nTrue Negatives(TN) = ', cm[1,1])\n",
        "print('\\nFalse Positives(FP) = ', cm[0,1])\n",
        "print('\\nFalse Negatives(FN) = ', cm[1,0])"
      ],
      "execution_count": 16,
      "outputs": [
        {
          "output_type": "stream",
          "text": [
            "Confusion matrix\n",
            "\n",
            " [[ 55   8]\n",
            " [  5 103]]\n",
            "\n",
            "True Positives(TP) =  55\n",
            "\n",
            "True Negatives(TN) =  103\n",
            "\n",
            "False Positives(FP) =  8\n",
            "\n",
            "False Negatives(FN) =  5\n"
          ],
          "name": "stdout"
        }
      ]
    },
    {
      "cell_type": "code",
      "metadata": {
        "trusted": true,
        "id": "h5ZD1-5jJAS6",
        "colab": {
          "base_uri": "https://localhost:8080/",
          "height": 299
        },
        "outputId": "8711d9c8-0135-47c7-d7e2-68fa8259d08d"
      },
      "source": [
        "# visualize confusion matrix with seaborn heatmap\n",
        "\n",
        "cm_matrix = pd.DataFrame(data=cm, columns=['Actual Positive:1', 'Actual Negative:0'], \n",
        "                                 index=['Predict Positive:1', 'Predict Negative:0'])\n",
        "\n",
        "sns.heatmap(cm_matrix, annot=True, fmt='d', cmap='YlGnBu')"
      ],
      "execution_count": 17,
      "outputs": [
        {
          "output_type": "execute_result",
          "data": {
            "text/plain": [
              "<matplotlib.axes._subplots.AxesSubplot at 0x7f994b0fed10>"
            ]
          },
          "metadata": {
            "tags": []
          },
          "execution_count": 17
        },
        {
          "output_type": "display_data",
          "data": {
            "image/png": "[encoded data removed]",
            "text/plain": [
              "<Figure size 432x288 with 2 Axes>"
            ]
          },
          "metadata": {
            "tags": [],
            "needs_background": "light"
          }
        }
      ]
    },
    {
      "cell_type": "markdown",
      "metadata": {
        "id": "OCIRYJctJAS6"
      },
      "source": [
        "### **5.14 Classification metrices** "
      ]
    },
    {
      "cell_type": "code",
      "metadata": {
        "trusted": true,
        "id": "YNkC8xGVJAS7",
        "colab": {
          "base_uri": "https://localhost:8080/"
        },
        "outputId": "62a1dda9-a98f-47a6-eb58-7a3b7e42a156"
      },
      "source": [
        "from sklearn.metrics import classification_report\n",
        "print(classification_report(y_test, y_pred))"
      ],
      "execution_count": 18,
      "outputs": [
        {
          "output_type": "stream",
          "text": [
            "              precision    recall  f1-score   support\n",
            "\n",
            "           0       0.92      0.87      0.89        63\n",
            "           1       0.93      0.95      0.94       108\n",
            "\n",
            "    accuracy                           0.92       171\n",
            "   macro avg       0.92      0.91      0.92       171\n",
            "weighted avg       0.92      0.92      0.92       171\n",
            "\n"
          ],
          "name": "stdout"
        }
      ]
    },
    {
      "cell_type": "markdown",
      "metadata": {
        "id": "gZ3svj9jKdIn"
      },
      "source": [
        "## **6. Results and conclusion**\n",
        "\n",
        "-\tLightGBM model accuracy is found to be 0.9240.\n",
        "-\tThe training and test set accuracy is quite comparable. So, there is no overfitting.\n",
        "-\tConfusion-matrix shows that TP = 55, TN = 103, FP = 8 and FN = 5.\n",
        "-\tPrecision and recall for positive prediction is 0.93 and 0.95 respectively.\n",
        "\n"
      ]
    },
    {
      "cell_type": "markdown",
      "metadata": {
        "id": "seDG6iBtJAS7"
      },
      "source": [
        "## **7. LightGBM parameter tuning**  \n",
        "\n",
        "\n",
        "- In this section, I will discuss some tips to improve LightGBM model efficiency.\n",
        "\n",
        "- Following set of practices can be used to improve your model efficiency.\n",
        "\n",
        "  - 1 **num_leaves** : This is the main parameter to control the complexity of the tree model. Ideally, the value of num_leaves should be less than or equal to 2^(max_depth). Value more than this will result in overfitting.\n",
        "\n",
        "  - 2 **min_data_in_leaf** : Setting it to a large value can avoid growing too deep a tree, but may cause under-fitting. In practice, setting it to hundreds or thousands is enough for a large dataset.\n",
        "\n",
        "  - 3 **max_depth** : We also can use max_depth to limit the tree depth explicitly."
      ]
    },
    {
      "cell_type": "markdown",
      "metadata": {
        "id": "NPrC32pPJAS7"
      },
      "source": [
        "### **7.1 For faster speed**\n",
        "\n",
        "- Use bagging by setting `bagging_fraction` and `bagging_freq`.\n",
        "- Use feature sub-sampling by setting `feature_fraction`.\n",
        "- Use small `max_bin`.\n",
        "- Use `save_binary` to speed up data loading in future learning."
      ]
    },
    {
      "cell_type": "markdown",
      "metadata": {
        "id": "VbJ9-efSJAS8"
      },
      "source": [
        "### **7.2 For better accuracy**\n",
        "\n",
        "- Use large `max_bin` (may be slower).\n",
        "- Use small `learning_rate` with `large num_iterations`\n",
        "- Use large `num_leaves`(may cause over-fitting)\n",
        "- Use bigger training data\n",
        "- Try `dart`\n",
        "- Try to use categorical feature directly."
      ]
    },
    {
      "cell_type": "markdown",
      "metadata": {
        "id": "M0ueK4MYJAS8"
      },
      "source": [
        "### **7.3 To deal with over-fitting**\n",
        "\n",
        "- Use small `max_bin`\n",
        "- Use small `num_leaves`\n",
        "- Use `min_data_in_leaf` and `min_sum_hessian_in_leaf`\n",
        "- Use bagging by set `bagging_fraction` and `bagging_freq`\n",
        "- Use feature sub-sampling by set `feature_fraction`\n",
        "- Use bigger training data\n",
        "- Try `lambda_l1`, `lambda_l2` and `min_gain_to_split` to regularization\n",
        "- Try `max_depth` to avoid growing deep tree"
      ]
    },
    {
      "cell_type": "markdown",
      "metadata": {
        "id": "L1gZfKjgJAS8"
      },
      "source": [
        "## **8. References**  \n",
        "\n",
        "\n",
        "- The ideas and concepts in this project are taken from the following websites -\n",
        "\n",
        "- https://github.com/Microsoft/LightGBM\n",
        "\n",
        "- https://github.com/microsoft/LightGBM/blob/master/docs/Parameters.rst\n",
        "\n",
        "- https://medium.com/@pushkarmandot/https-medium-com-pushkarmandot-what-is-lightgbm-how-to-implement-it-how-to-fine-tune-the-parameters-60347819b7fc\n",
        "\n",
        "- https://sefiks.com/2018/10/13/a-gentle-introduction-to-lightgbm-for-applied-machine-learning/\n",
        "\n",
        "- https://towardsdatascience.com/build-xgboost-lightgbm-models-on-large-datasets-what-are-the-possible-solutions-bf882da2c27d\n",
        "\n"
      ]
    }
  ]
}