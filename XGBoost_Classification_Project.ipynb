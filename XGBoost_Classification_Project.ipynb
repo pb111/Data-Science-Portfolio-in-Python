{
  "nbformat": 4,
  "nbformat_minor": 0,
  "metadata": {
    "kernelspec": {
      "display_name": "Python 3",
      "language": "python",
      "name": "python3"
    },
    "language_info": {
      "codemirror_mode": {
        "name": "ipython",
        "version": 3
      },
      "file_extension": ".py",
      "mimetype": "text/x-python",
      "name": "python",
      "nbconvert_exporter": "python",
      "pygments_lexer": "ipython3",
      "version": "3.6.6"
    },
    "colab": {
      "name": "XGBoost Classification Project.ipynb",
      "provenance": [],
      "include_colab_link": true
    }
  },
  "cells": [
    {
      "cell_type": "markdown",
      "metadata": {
        "id": "view-in-github",
        "colab_type": "text"
      },
      "source": [
        "<a href=\"https://colab.research.google.com/github/pb111/Data-Science-Portfolio-in-Python/blob/master/XGBoost_Classification_Project.ipynb\" target=\"_parent\"><img src=\"https://colab.research.google.com/assets/colab-badge.svg\" alt=\"Open In Colab\"/></a>"
      ]
    },
    {
      "cell_type": "markdown",
      "metadata": {
        "id": "Sv6T_pzPQ9Sx"
      },
      "source": [
        "# **XGBoost Classification Project**\n",
        "\n",
        "\n",
        "As we all know that more than a half of Kaggle competitions were won using only one algorithm - **XGBoost**. It is one of the most popular machine learning algorithm these days. It works well for both types of tasks - regression and classification.\n",
        "\n",
        "So, in this project, we will discuss XGBoost and develop a simple baseline XGBoost model with Python."
      ]
    },
    {
      "cell_type": "markdown",
      "metadata": {
        "id": "5IcQKoJlQ9S9"
      },
      "source": [
        "# **Table of Contents**\n",
        "\n",
        "- 1 Introduction to XGBoost Algorithm\n",
        "    - 1.1 Evolution of tree-based algorithm\n",
        "    - 1.2 Main features of XGBoost\n",
        "- 2 Bagging vs Boosting\n",
        "    - 2.1 Bagging\n",
        "    - 2.2 Boosting\n",
        "- 3 XGBoost algorithm intuition\n",
        "    - 3.1 Gradient Boosting\n",
        "    - 3.2 Gradient Boosted Trees\n",
        "    - 3.3 Extreme Gradient Boosting (XGBoost)\n",
        "- 4 Implementing XGBoost in Python\n",
        "    -\t4.1 Load libraries\n",
        "    -\t4.2 Read dataset\n",
        "    -\t4.3 EDA]\n",
        "        - 4.3.1 Shape of dataset\n",
        "        - 4.3.2 Preview dataset\n",
        "        - 4.3.3 Summary of dataset\n",
        "        - 4.3.4 Summary statistics of dataset\n",
        "        - 4.3.5 Check for missing values\n",
        "    -\t4.4 Declare feature vector and target variable\n",
        "    -\t4.5 Split data into separate training and test set\n",
        "    -\t4.6 Train the XGBoost Classifier\n",
        "    -\t4.7 Make predictions with XGBoost Classifier\n",
        "    -\t4.8 Check accuracy score\n",
        "- 5 k-fold Cross Validation using XGBoost\n",
        "- 6 Visualizing Feature Importance with XGBoost\n",
        "- 7 Results and Conclusion\n",
        "- 8 References"
      ]
    },
    {
      "cell_type": "markdown",
      "metadata": {
        "id": "GrMLabL9Q9S-"
      },
      "source": [
        "# **1. Introduction to XGBoost Algorithm** \n",
        "\n",
        "\n",
        "- **XGBoost** stands for **Extreme Gradient Boosting.**\n",
        "\n",
        "- It is a performant machine learning library based on the paper [Greedy Function Approximation: A Gradient Boosting Machine, by Friedman](https://statweb.stanford.edu/~jhf/ftp/trebst.pdf)\n",
        "\n",
        "- It is an open source machine learning library providing a high-performance implementation of gradient boosted decision trees.\n",
        "\n",
        "- It is originally written in C++ and is comparatively faster than other ensemble classifiers.\n",
        "\n",
        "- It belongs to a family of boosting algorithms and uses the **gradient boosting (GBM)** framework at its core. \n",
        "\n",
        "- XGBoost implements a [Gradient Boosting algorithm](https://en.wikipedia.org/wiki/Gradient_boosting) based on decision trees.\n",
        "\n",
        "- So, to understand XGBoost completely, we need to understand **Gradient Boosting Algorithm** (discussed later).\n",
        "\n",
        "- Please follow the links below for more in-depth discussion on XGBoost.\n",
        "\n",
        "\n",
        "[XGBoost Official Documentation](https://xgboost.readthedocs.io/en/latest/)\n",
        "\n",
        "\n",
        "[XGBoost from Wikipedia](https://en.wikipedia.org/wiki/XGBoost)"
      ]
    },
    {
      "cell_type": "markdown",
      "metadata": {
        "id": "ldlqIz5yQ9S_"
      },
      "source": [
        "## **1.1 Evolution of tree-based algorithms** \n",
        "\n",
        "\n",
        "- The tree based algorithms have evolved over the years.\n",
        "\n",
        "- XGBoost belongs to a family of tree-based algorithms.\n",
        "\n",
        "- Please see the chart below for the evolution of tree-based algorithms over the years.\n"
      ]
    },
    {
      "cell_type": "markdown",
      "metadata": {
        "id": "JMuOSU88Q9S_"
      },
      "source": [
        "\n",
        "\n",
        "![Evolution of tree-based algorithms](https://miro.medium.com/max/925/1*QJZ6W-Pck_W7RlIDwUIN9Q.jpeg)"
      ]
    },
    {
      "cell_type": "markdown",
      "metadata": {
        "id": "y38Mn7oaQ9TA"
      },
      "source": [
        "## **1.2 Main features of XGBoost** \n",
        "\n",
        "- The primary reasons we should use this algorithm are its **accuracy**, **efficiency** and **feasibility**. \n",
        "\n",
        "- It is a linear model and a [tree learning](https://en.wikipedia.org/wiki/Decision_tree_learning) algorithm that does parallel computations on a single machine. \n",
        "\n",
        "- It also has extra features for doing cross validation and computing feature importance. \n",
        "\n",
        "- Given below are some of the main features of the model:\n",
        "\n",
        "  - **Sparsity** : It accepts sparse input for tree booster and linear booster.\n",
        "  \n",
        "  - **Customization** : It supports customized objective and evaluation functions.\n",
        "  \n",
        "  - **DMatrix** : Its optimized data structure that improves its performance and efficiency."
      ]
    },
    {
      "cell_type": "markdown",
      "metadata": {
        "id": "2t0xrrYTQ9TA"
      },
      "source": [
        "# **2. Bagging Vs Boosting**  \n",
        "\n",
        "\n",
        "- To know bagging and boosting, we need to know ensemble methods.\n",
        "\n",
        "- Ensemble methods combine several decision trees to produce better predictive performance than utilizing a single decision tree. \n",
        "\n",
        "- The main principle behind the ensemble model is that a group of weak learners come together to form a strong learner.\n",
        "\n",
        "- Now, we will talk about two techniques to perform ensemble decision trees. These are as follows:-\n",
        "\n",
        "  - 1. Bagging\n",
        "\n",
        "  - 2. Boosting\n",
        "  \n",
        "- Please refer to my previous kernel - [Bagging vs Boosting](https://www.kaggle.com/prashant111/bagging-vs-boosting) for detailed discussion on Bagging and Boosting.\n",
        "\n",
        "[Bagging vs Boosting](https://www.kaggle.com/prashant111/bagging-vs-boosting)"
      ]
    },
    {
      "cell_type": "markdown",
      "metadata": {
        "id": "k1MCcJliQ9TB"
      },
      "source": [
        "## **2.1 Bagging** \n",
        "\n",
        "- Bagging (or Bootstrap Aggregation), is a simple and very powerful ensemble method. \n",
        "\n",
        "- Bagging is the application of the Bootstrap procedure to a high-variance machine learning algorithm, typically decision trees.\n",
        "\n",
        "- The idea behind bagging is combining the results of multiple models (for instance, all decision trees) to get a generalized result. \n",
        "\n",
        "- Bagging technique uses these subsets (bags) to get a fair idea of the distribution (complete set). The size of subsets created for bagging may be less than the original set.\n",
        "\n",
        "- Bagging had each model run independently and then aggregate the outputs at the end without preference to any model.\n",
        "\n",
        "- Bagging can be depicted with the following diagram -"
      ]
    },
    {
      "cell_type": "markdown",
      "metadata": {
        "id": "YQkQcMVRQ9TC"
      },
      "source": [
        "![Bagging](https://qph.fs.quoracdn.net/main-qimg-a5e99250fc4dadd401726a04f4fe2086)"
      ]
    },
    {
      "cell_type": "markdown",
      "metadata": {
        "id": "fjUXxarRQ9TD"
      },
      "source": [
        "## **2.2 Boosting** \n",
        "\n",
        "- Boosting is a sequential process, where each subsequent model attempts to correct the errors of the previous model. The succeeding models are dependent on the previous model.\n",
        "\n",
        "- In this technique, learners are learned sequentially with early learners fitting simple models to the data and then analyzing data for errors. In other words, we fit consecutive trees (random sample) and at every step, the goal is to solve for net error from the prior tree.\n",
        "\n",
        "- When an input is misclassified by a hypothesis, its weight is increased so that next hypothesis is more likely to classify it correctly. By combining the whole set at the end converts weak learners into better performing model.\n",
        "\n",
        "- Boosting is another ensemble technique to create a collection of models. \n",
        "\n",
        "- In this technique, models are learned sequentially with early models fitting simple models to the data and then analyzing the data for errors.\n",
        "\n",
        "- In other words, with boosting, we fit consecutive trees and at every step.\n",
        "\n",
        "- Boosting can be depicted with the following diagram -"
      ]
    },
    {
      "cell_type": "markdown",
      "metadata": {
        "id": "SkTutAl2Q9TE"
      },
      "source": [
        "![Boosting](https://qph.fs.quoracdn.net/main-qimg-652eb915c12a1440bb8bb4acd8329ddd)"
      ]
    },
    {
      "cell_type": "markdown",
      "metadata": {
        "id": "uDbgHT2HQ9TF"
      },
      "source": [
        "# **3. XGBoost algorithm intuition** \n",
        "\n",
        "\n",
        "- XGBoost is a powerful and lightning fast machine learning library. It’s commonly used to win Kaggle competitions. \n",
        "\n",
        "- It’s an intimidating algorithm, especially because of the number of large parameters that XGBoost provides.\n",
        "\n",
        "- Also, there is some confusion regarding gradient boosting, gradient boosted trees and XGBoost.\n",
        "\n",
        "- So, in this section, we will discuss - **gradient boosting**, **gradient boosted trees** and **XGBoost**. The purpose of this section is to clarify these concepts."
      ]
    },
    {
      "cell_type": "markdown",
      "metadata": {
        "id": "kBNE4A6VQ9TF"
      },
      "source": [
        "## **3.1 Gradient Boosting** \n",
        "\n",
        "- Gradient boosting is a machine learning technique for regression and classification problems, which produces a prediction model in the form of an ensemble of weak prediction models, typically decision trees.\n",
        "\n",
        "- It builds the model in a stage-wise fashion like other boosting methods do and it generalizes them by allowing optimization of an arbitrary differentiable loss function.\n",
        "\n",
        "- The objective of any supervised learning algorithm is to define a loss function and minimize it. The same is true for Gradient Boosting algorithm. Here, we have mean squared error (MSE) as loss-function defined as follows -"
      ]
    },
    {
      "cell_type": "markdown",
      "metadata": {
        "id": "Q53fvEh1Q9TG"
      },
      "source": [
        "![MSE](https://miro.medium.com/max/1050/1*fHenn7NVqcWvw25D3-zRiQ.png)"
      ]
    },
    {
      "cell_type": "markdown",
      "metadata": {
        "id": "kvzh3ZokQ9TH"
      },
      "source": [
        "- We want our predictions, such that our loss function (MSE) is minimum. \n",
        "\n",
        "- By using gradient descent and updating our predictions based on a learning rate, we can find the values where MSE is minimum.\n",
        "\n",
        "- It can be depicted as follows -"
      ]
    },
    {
      "cell_type": "markdown",
      "metadata": {
        "id": "e9lPwQw3Q9TH"
      },
      "source": [
        "![MSE minimized](https://miro.medium.com/max/894/1*LLbC4TstqzXQ3hzA8wCmeg.png)"
      ]
    },
    {
      "cell_type": "markdown",
      "metadata": {
        "id": "hIFT8pr_Q9TI"
      },
      "source": [
        "- So, we are basically updating the predictions such that the sum of our residuals is close to 0 (or minimum) and predicted values are sufficiently close to actual values.\n",
        "\n",
        "- Now, we train our second model on the gradient of the error with respect to the loss predictions of the first model. Thus, we should correct the mistakes of the first model. \n",
        "\n",
        "- This is the core of gradient boosting, and what allows many simple models to compensate for each other’s weaknesses to better fit the data.\n",
        "\n",
        "- Gradient Boosting is an iterative procedure. So, we will repeat the above process over and over again. Each time we fit a new model to the gradient of the error of the updated sum of models.\n",
        "\n",
        "- So, gradient boosting is a method for optimizing the function F, but it doesn’t really care about h (since nothing about the optimization of h is defined). This means that any base model h can be used to construct F."
      ]
    },
    {
      "cell_type": "markdown",
      "metadata": {
        "id": "x2RribbfQ9TJ"
      },
      "source": [
        "## **3.2 Gradient Boosted Trees** \n",
        "\n",
        "\n",
        "- Gradient boosted trees consider the special case where the simple model h is a decision tree. \n",
        "\n",
        "- It can be depicted with the following diagram which is taken from XGBoost’s documentation."
      ]
    },
    {
      "cell_type": "markdown",
      "metadata": {
        "id": "d1IjPpPtQ9TJ"
      },
      "source": [
        "![Gradient Boosted Trees from XGBoost Docs](https://miro.medium.com/max/912/1*TebQuJsPc7upto5dvURjSA.png)"
      ]
    },
    {
      "cell_type": "markdown",
      "metadata": {
        "id": "dxi80-e0Q9TJ"
      },
      "source": [
        "- In this case, there are 2 kinds of parameters P - **the weights at each leaf w** and **the number of leaves T in each tree** (so that in the above example, T=3 and w=[2, 0.1, -1]).\n",
        "\n",
        "- When building a decision tree, a challenge is to decide how to split a current leaf. For instance, in the above image, how could we add another layer to the (age > 15) leaf. \n",
        "\n",
        "- A ‘greedy’ way to do this is to consider every possible split on the remaining features (so, gender and occupation), and calculate the new loss for each split. We could then pick the tree which most reduces our loss."
      ]
    },
    {
      "cell_type": "markdown",
      "metadata": {
        "id": "cgTG-dz8Q9TK"
      },
      "source": [
        "![New Tree minimizing loss](https://miro.medium.com/max/1456/1*ucyUhM7h_6PHC_8tEdzyXA.png)"
      ]
    },
    {
      "cell_type": "markdown",
      "metadata": {
        "id": "djgqvU_BQ9TK"
      },
      "source": [
        "- In addition to finding the new tree structures, the weights at each node need to be calculated as well, such that the loss is minimized. Since the tree structure is now fixed, this can be done analytically now by setting the loss function = 0.\n",
        "\n",
        "- After derivation, we get the following result."
      ]
    },
    {
      "cell_type": "markdown",
      "metadata": {
        "id": "s1AfjzQxQ9TK"
      },
      "source": [
        "![wj](https://miro.medium.com/max/424/1*W2EQO65xNDwcM0GAvLicEw@2x.png)"
      ]
    },
    {
      "cell_type": "markdown",
      "metadata": {
        "id": "9HqFLLFZQ9TL"
      },
      "source": [
        "- Where I_j is a set containing all the instances ((x, y) datapoints) at a leaf, and w_j is the weight at leaf j. \n",
        "\n",
        "- This looks more intimidating than it is; for some intuition, if we consider loss=MSE=(y,ŷ )^2, then taking the first and second gradients where ŷ =0 yields"
      ]
    },
    {
      "cell_type": "markdown",
      "metadata": {
        "id": "ac-bD2VpQ9TL"
      },
      "source": [
        "![Loss MSE after 1st and 2nd gradient](https://miro.medium.com/max/320/1*HirO1ayFfCoPmJKh_ZsygA@2x.png)"
      ]
    },
    {
      "cell_type": "markdown",
      "metadata": {
        "id": "t20MttuwQ9TL"
      },
      "source": [
        "- Here, the weights effectively become the average of the true labels at each leaf (with some regularization from the λ constant)."
      ]
    },
    {
      "cell_type": "markdown",
      "metadata": {
        "id": "syYG5TYIQ9TM"
      },
      "source": [
        "## **3.3 Extreme Gradient Boosting (XGBoost)** \n",
        "\n",
        "- XGBoost is one of the fastest implementations of gradient boosted trees. It does this by tackling one of the major inefficiencies of gradient boosted trees. \n",
        "\n",
        "- Consider the case where there are thousands of features, and therefore thousands of possible splits. Now, if we consider the potential loss for all possible splits to create a new branch we have thousands of potential splits and losses.\n",
        "\n",
        "- XGBoost tackles this inefficiency by looking at the distribution of features across all data points in a leaf and using this information to reduce the search space of possible feature splits.\n",
        "\n",
        "- Although XGBoost implements a few regularization tricks, this speed up is by far the most useful feature of the library, allowing many hyperparameter settings to be investigated quickly. \n",
        "\n",
        "- This is helpful because there are many hyperparameters to tune which are designed to limit overfitting."
      ]
    },
    {
      "cell_type": "markdown",
      "metadata": {
        "id": "WwCtZQaIQ9TM"
      },
      "source": [
        "# **4. Implementing XGBoost in Python** \n",
        "\n"
      ]
    },
    {
      "cell_type": "markdown",
      "metadata": {
        "id": "yqjlP5VaQ9TM"
      },
      "source": [
        "## **4.1 Load libraries** \n",
        "\n"
      ]
    },
    {
      "cell_type": "code",
      "metadata": {
        "_cell_guid": "b1076dfc-b9ad-4769-8c92-a6c4dae69d19",
        "_uuid": "8f2839f25d086af736a60e9eeb907d3b93b6e0e5",
        "id": "LfAx9GbuQ9TM"
      },
      "source": [
        "import numpy as np # linear algebra\n",
        "import pandas as pd # data processing, CSV file I/O (e.g. pd.read_csv)\n",
        "import matplotlib.pyplot as plt  # for plotting facilities\n",
        "\n"
      ],
      "execution_count": 1,
      "outputs": []
    },
    {
      "cell_type": "markdown",
      "metadata": {
        "id": "M-fkCMoTQ9TO"
      },
      "source": [
        "## **4.2 Read dataset** \n"
      ]
    },
    {
      "cell_type": "code",
      "metadata": {
        "colab": {
          "base_uri": "https://localhost:8080/"
        },
        "id": "FuhY47nIYPBA",
        "outputId": "f215c133-53ea-4efc-9c3d-290a16834eec"
      },
      "source": [
        "from google.colab import drive\n",
        "\n",
        "drive.mount('/content/drive')\n"
      ],
      "execution_count": 2,
      "outputs": [
        {
          "output_type": "stream",
          "text": [
            "Mounted at /content/drive\n"
          ],
          "name": "stdout"
        }
      ]
    },
    {
      "cell_type": "code",
      "metadata": {
        "_cell_guid": "",
        "_uuid": "",
        "id": "jVEDph6-Q9TO"
      },
      "source": [
        "data = '/content/drive/MyDrive/datasets/XGBoost/Wholesale customers data.csv'\n",
        "\n",
        "df = pd.read_csv(data)"
      ],
      "execution_count": 3,
      "outputs": []
    },
    {
      "cell_type": "markdown",
      "metadata": {
        "id": "J0xqjh2VQ9TP"
      },
      "source": [
        "## **4.3 EDA** "
      ]
    },
    {
      "cell_type": "markdown",
      "metadata": {
        "id": "-qoOnaRCQ9TP"
      },
      "source": [
        "### **4.3.1 Shape of dataset** \n",
        "\n",
        "- I will start off by checking the shape of the dataset."
      ]
    },
    {
      "cell_type": "code",
      "metadata": {
        "id": "p5f27bE2Q9TP",
        "colab": {
          "base_uri": "https://localhost:8080/"
        },
        "outputId": "863cc53e-1b27-447f-8532-d51abae2bc54"
      },
      "source": [
        "df.shape"
      ],
      "execution_count": 5,
      "outputs": [
        {
          "output_type": "execute_result",
          "data": {
            "text/plain": [
              "(440, 8)"
            ]
          },
          "metadata": {
            "tags": []
          },
          "execution_count": 5
        }
      ]
    },
    {
      "cell_type": "markdown",
      "metadata": {
        "id": "XUslpwJFQ9TQ"
      },
      "source": [
        "We can see that there are 440 instances and 8 attributes in the dataset."
      ]
    },
    {
      "cell_type": "markdown",
      "metadata": {
        "id": "lknA4UVXQ9TQ"
      },
      "source": [
        "### **4.3.2 Preview dataset** "
      ]
    },
    {
      "cell_type": "code",
      "metadata": {
        "id": "O4_rqWPuQ9TQ",
        "colab": {
          "base_uri": "https://localhost:8080/",
          "height": 204
        },
        "outputId": "491d158f-2041-4a01-93e7-1b8bcc7642e7"
      },
      "source": [
        "df.head()"
      ],
      "execution_count": 6,
      "outputs": [
        {
          "output_type": "execute_result",
          "data": {
            "text/html": [
              "<div>\n",
              "<style scoped>\n",
              "    .dataframe tbody tr th:only-of-type {\n",
              "        vertical-align: middle;\n",
              "    }\n",
              "\n",
              "    .dataframe tbody tr th {\n",
              "        vertical-align: top;\n",
              "    }\n",
              "\n",
              "    .dataframe thead th {\n",
              "        text-align: right;\n",
              "    }\n",
              "</style>\n",
              "<table border=\"1\" class=\"dataframe\">\n",
              "  <thead>\n",
              "    <tr style=\"text-align: right;\">\n",
              "      <th></th>\n",
              "      <th>Channel</th>\n",
              "      <th>Region</th>\n",
              "      <th>Fresh</th>\n",
              "      <th>Milk</th>\n",
              "      <th>Grocery</th>\n",
              "      <th>Frozen</th>\n",
              "      <th>Detergents_Paper</th>\n",
              "      <th>Delicassen</th>\n",
              "    </tr>\n",
              "  </thead>\n",
              "  <tbody>\n",
              "    <tr>\n",
              "      <th>0</th>\n",
              "      <td>2</td>\n",
              "      <td>3</td>\n",
              "      <td>12669</td>\n",
              "      <td>9656</td>\n",
              "      <td>7561</td>\n",
              "      <td>214</td>\n",
              "      <td>2674</td>\n",
              "      <td>1338</td>\n",
              "    </tr>\n",
              "    <tr>\n",
              "      <th>1</th>\n",
              "      <td>2</td>\n",
              "      <td>3</td>\n",
              "      <td>7057</td>\n",
              "      <td>9810</td>\n",
              "      <td>9568</td>\n",
              "      <td>1762</td>\n",
              "      <td>3293</td>\n",
              "      <td>1776</td>\n",
              "    </tr>\n",
              "    <tr>\n",
              "      <th>2</th>\n",
              "      <td>2</td>\n",
              "      <td>3</td>\n",
              "      <td>6353</td>\n",
              "      <td>8808</td>\n",
              "      <td>7684</td>\n",
              "      <td>2405</td>\n",
              "      <td>3516</td>\n",
              "      <td>7844</td>\n",
              "    </tr>\n",
              "    <tr>\n",
              "      <th>3</th>\n",
              "      <td>1</td>\n",
              "      <td>3</td>\n",
              "      <td>13265</td>\n",
              "      <td>1196</td>\n",
              "      <td>4221</td>\n",
              "      <td>6404</td>\n",
              "      <td>507</td>\n",
              "      <td>1788</td>\n",
              "    </tr>\n",
              "    <tr>\n",
              "      <th>4</th>\n",
              "      <td>2</td>\n",
              "      <td>3</td>\n",
              "      <td>22615</td>\n",
              "      <td>5410</td>\n",
              "      <td>7198</td>\n",
              "      <td>3915</td>\n",
              "      <td>1777</td>\n",
              "      <td>5185</td>\n",
              "    </tr>\n",
              "  </tbody>\n",
              "</table>\n",
              "</div>"
            ],
            "text/plain": [
              "   Channel  Region  Fresh  Milk  Grocery  Frozen  Detergents_Paper  Delicassen\n",
              "0        2       3  12669  9656     7561     214              2674        1338\n",
              "1        2       3   7057  9810     9568    1762              3293        1776\n",
              "2        2       3   6353  8808     7684    2405              3516        7844\n",
              "3        1       3  13265  1196     4221    6404               507        1788\n",
              "4        2       3  22615  5410     7198    3915              1777        5185"
            ]
          },
          "metadata": {
            "tags": []
          },
          "execution_count": 6
        }
      ]
    },
    {
      "cell_type": "markdown",
      "metadata": {
        "id": "rx36nyiEQ9TR"
      },
      "source": [
        "- We can see that `Channel` variable contains values as 1 and 2. \n",
        "\n",
        "- These two values classify the customers from two different channels as\n",
        "     - 1 for Horeca (Hotel/Retail/Café) customers and \n",
        "     - 2 for Retail channel (nominal) customers."
      ]
    },
    {
      "cell_type": "markdown",
      "metadata": {
        "id": "GPQ8VWwUQ9TR"
      },
      "source": [
        "### **4.3.3 Summary of dataset** "
      ]
    },
    {
      "cell_type": "code",
      "metadata": {
        "id": "UNTSx13KQ9TR",
        "colab": {
          "base_uri": "https://localhost:8080/"
        },
        "outputId": "c5ad6030-47e4-48f9-acf4-b6bc6a311f21"
      },
      "source": [
        "df.info()"
      ],
      "execution_count": 7,
      "outputs": [
        {
          "output_type": "stream",
          "text": [
            "<class 'pandas.core.frame.DataFrame'>\n",
            "RangeIndex: 440 entries, 0 to 439\n",
            "Data columns (total 8 columns):\n",
            " #   Column            Non-Null Count  Dtype\n",
            "---  ------            --------------  -----\n",
            " 0   Channel           440 non-null    int64\n",
            " 1   Region            440 non-null    int64\n",
            " 2   Fresh             440 non-null    int64\n",
            " 3   Milk              440 non-null    int64\n",
            " 4   Grocery           440 non-null    int64\n",
            " 5   Frozen            440 non-null    int64\n",
            " 6   Detergents_Paper  440 non-null    int64\n",
            " 7   Delicassen        440 non-null    int64\n",
            "dtypes: int64(8)\n",
            "memory usage: 27.6 KB\n"
          ],
          "name": "stdout"
        }
      ]
    },
    {
      "cell_type": "markdown",
      "metadata": {
        "id": "DTQ8GPy8Q9TS"
      },
      "source": [
        "We can see that there are only numerical variables in the dataset."
      ]
    },
    {
      "cell_type": "markdown",
      "metadata": {
        "id": "uKf6iWi3Q9TS"
      },
      "source": [
        "### **4.3.4 Summary statistics of dataset** "
      ]
    },
    {
      "cell_type": "code",
      "metadata": {
        "id": "9zTQlDeVQ9TS",
        "colab": {
          "base_uri": "https://localhost:8080/",
          "height": 297
        },
        "outputId": "158ffa4a-4648-480c-e8af-d56530142253"
      },
      "source": [
        "df.describe()"
      ],
      "execution_count": 8,
      "outputs": [
        {
          "output_type": "execute_result",
          "data": {
            "text/html": [
              "<div>\n",
              "<style scoped>\n",
              "    .dataframe tbody tr th:only-of-type {\n",
              "        vertical-align: middle;\n",
              "    }\n",
              "\n",
              "    .dataframe tbody tr th {\n",
              "        vertical-align: top;\n",
              "    }\n",
              "\n",
              "    .dataframe thead th {\n",
              "        text-align: right;\n",
              "    }\n",
              "</style>\n",
              "<table border=\"1\" class=\"dataframe\">\n",
              "  <thead>\n",
              "    <tr style=\"text-align: right;\">\n",
              "      <th></th>\n",
              "      <th>Channel</th>\n",
              "      <th>Region</th>\n",
              "      <th>Fresh</th>\n",
              "      <th>Milk</th>\n",
              "      <th>Grocery</th>\n",
              "      <th>Frozen</th>\n",
              "      <th>Detergents_Paper</th>\n",
              "      <th>Delicassen</th>\n",
              "    </tr>\n",
              "  </thead>\n",
              "  <tbody>\n",
              "    <tr>\n",
              "      <th>count</th>\n",
              "      <td>440.000000</td>\n",
              "      <td>440.000000</td>\n",
              "      <td>440.000000</td>\n",
              "      <td>440.000000</td>\n",
              "      <td>440.000000</td>\n",
              "      <td>440.000000</td>\n",
              "      <td>440.000000</td>\n",
              "      <td>440.000000</td>\n",
              "    </tr>\n",
              "    <tr>\n",
              "      <th>mean</th>\n",
              "      <td>1.322727</td>\n",
              "      <td>2.543182</td>\n",
              "      <td>12000.297727</td>\n",
              "      <td>5796.265909</td>\n",
              "      <td>7951.277273</td>\n",
              "      <td>3071.931818</td>\n",
              "      <td>2881.493182</td>\n",
              "      <td>1524.870455</td>\n",
              "    </tr>\n",
              "    <tr>\n",
              "      <th>std</th>\n",
              "      <td>0.468052</td>\n",
              "      <td>0.774272</td>\n",
              "      <td>12647.328865</td>\n",
              "      <td>7380.377175</td>\n",
              "      <td>9503.162829</td>\n",
              "      <td>4854.673333</td>\n",
              "      <td>4767.854448</td>\n",
              "      <td>2820.105937</td>\n",
              "    </tr>\n",
              "    <tr>\n",
              "      <th>min</th>\n",
              "      <td>1.000000</td>\n",
              "      <td>1.000000</td>\n",
              "      <td>3.000000</td>\n",
              "      <td>55.000000</td>\n",
              "      <td>3.000000</td>\n",
              "      <td>25.000000</td>\n",
              "      <td>3.000000</td>\n",
              "      <td>3.000000</td>\n",
              "    </tr>\n",
              "    <tr>\n",
              "      <th>25%</th>\n",
              "      <td>1.000000</td>\n",
              "      <td>2.000000</td>\n",
              "      <td>3127.750000</td>\n",
              "      <td>1533.000000</td>\n",
              "      <td>2153.000000</td>\n",
              "      <td>742.250000</td>\n",
              "      <td>256.750000</td>\n",
              "      <td>408.250000</td>\n",
              "    </tr>\n",
              "    <tr>\n",
              "      <th>50%</th>\n",
              "      <td>1.000000</td>\n",
              "      <td>3.000000</td>\n",
              "      <td>8504.000000</td>\n",
              "      <td>3627.000000</td>\n",
              "      <td>4755.500000</td>\n",
              "      <td>1526.000000</td>\n",
              "      <td>816.500000</td>\n",
              "      <td>965.500000</td>\n",
              "    </tr>\n",
              "    <tr>\n",
              "      <th>75%</th>\n",
              "      <td>2.000000</td>\n",
              "      <td>3.000000</td>\n",
              "      <td>16933.750000</td>\n",
              "      <td>7190.250000</td>\n",
              "      <td>10655.750000</td>\n",
              "      <td>3554.250000</td>\n",
              "      <td>3922.000000</td>\n",
              "      <td>1820.250000</td>\n",
              "    </tr>\n",
              "    <tr>\n",
              "      <th>max</th>\n",
              "      <td>2.000000</td>\n",
              "      <td>3.000000</td>\n",
              "      <td>112151.000000</td>\n",
              "      <td>73498.000000</td>\n",
              "      <td>92780.000000</td>\n",
              "      <td>60869.000000</td>\n",
              "      <td>40827.000000</td>\n",
              "      <td>47943.000000</td>\n",
              "    </tr>\n",
              "  </tbody>\n",
              "</table>\n",
              "</div>"
            ],
            "text/plain": [
              "          Channel      Region  ...  Detergents_Paper    Delicassen\n",
              "count  440.000000  440.000000  ...        440.000000    440.000000\n",
              "mean     1.322727    2.543182  ...       2881.493182   1524.870455\n",
              "std      0.468052    0.774272  ...       4767.854448   2820.105937\n",
              "min      1.000000    1.000000  ...          3.000000      3.000000\n",
              "25%      1.000000    2.000000  ...        256.750000    408.250000\n",
              "50%      1.000000    3.000000  ...        816.500000    965.500000\n",
              "75%      2.000000    3.000000  ...       3922.000000   1820.250000\n",
              "max      2.000000    3.000000  ...      40827.000000  47943.000000\n",
              "\n",
              "[8 rows x 8 columns]"
            ]
          },
          "metadata": {
            "tags": []
          },
          "execution_count": 8
        }
      ]
    },
    {
      "cell_type": "markdown",
      "metadata": {
        "id": "-0g66yfMQ9TT"
      },
      "source": [
        "###  **4.3.5 Check for missing values** "
      ]
    },
    {
      "cell_type": "code",
      "metadata": {
        "id": "H4ZtzQZ1Q9TT",
        "colab": {
          "base_uri": "https://localhost:8080/"
        },
        "outputId": "1bde146d-facf-4552-864b-e9650ebc694e"
      },
      "source": [
        "df.isnull().sum()"
      ],
      "execution_count": 9,
      "outputs": [
        {
          "output_type": "execute_result",
          "data": {
            "text/plain": [
              "Channel             0\n",
              "Region              0\n",
              "Fresh               0\n",
              "Milk                0\n",
              "Grocery             0\n",
              "Frozen              0\n",
              "Detergents_Paper    0\n",
              "Delicassen          0\n",
              "dtype: int64"
            ]
          },
          "metadata": {
            "tags": []
          },
          "execution_count": 9
        }
      ]
    },
    {
      "cell_type": "markdown",
      "metadata": {
        "id": "ACJPh3VrQ9TT"
      },
      "source": [
        "We can see that there are no missing values in the dataset."
      ]
    },
    {
      "cell_type": "markdown",
      "metadata": {
        "id": "ZAdvmL8nQ9TU"
      },
      "source": [
        "## **4.4 Declare feature vector and target variable** "
      ]
    },
    {
      "cell_type": "code",
      "metadata": {
        "id": "8DEOCzt1Q9TU"
      },
      "source": [
        "X = df.drop('Channel', axis=1)\n",
        "\n",
        "y = df['Channel']"
      ],
      "execution_count": 10,
      "outputs": []
    },
    {
      "cell_type": "markdown",
      "metadata": {
        "id": "WxzD2R5RQ9TU"
      },
      "source": [
        "- Now, let's take a look at feature vector(X) and target variable(y)."
      ]
    },
    {
      "cell_type": "code",
      "metadata": {
        "id": "Z-uIn9E5Q9TU",
        "colab": {
          "base_uri": "https://localhost:8080/",
          "height": 204
        },
        "outputId": "cea2a195-a7be-459a-9ba7-1c4cdbce7532"
      },
      "source": [
        "X.head()"
      ],
      "execution_count": 11,
      "outputs": [
        {
          "output_type": "execute_result",
          "data": {
            "text/html": [
              "<div>\n",
              "<style scoped>\n",
              "    .dataframe tbody tr th:only-of-type {\n",
              "        vertical-align: middle;\n",
              "    }\n",
              "\n",
              "    .dataframe tbody tr th {\n",
              "        vertical-align: top;\n",
              "    }\n",
              "\n",
              "    .dataframe thead th {\n",
              "        text-align: right;\n",
              "    }\n",
              "</style>\n",
              "<table border=\"1\" class=\"dataframe\">\n",
              "  <thead>\n",
              "    <tr style=\"text-align: right;\">\n",
              "      <th></th>\n",
              "      <th>Region</th>\n",
              "      <th>Fresh</th>\n",
              "      <th>Milk</th>\n",
              "      <th>Grocery</th>\n",
              "      <th>Frozen</th>\n",
              "      <th>Detergents_Paper</th>\n",
              "      <th>Delicassen</th>\n",
              "    </tr>\n",
              "  </thead>\n",
              "  <tbody>\n",
              "    <tr>\n",
              "      <th>0</th>\n",
              "      <td>3</td>\n",
              "      <td>12669</td>\n",
              "      <td>9656</td>\n",
              "      <td>7561</td>\n",
              "      <td>214</td>\n",
              "      <td>2674</td>\n",
              "      <td>1338</td>\n",
              "    </tr>\n",
              "    <tr>\n",
              "      <th>1</th>\n",
              "      <td>3</td>\n",
              "      <td>7057</td>\n",
              "      <td>9810</td>\n",
              "      <td>9568</td>\n",
              "      <td>1762</td>\n",
              "      <td>3293</td>\n",
              "      <td>1776</td>\n",
              "    </tr>\n",
              "    <tr>\n",
              "      <th>2</th>\n",
              "      <td>3</td>\n",
              "      <td>6353</td>\n",
              "      <td>8808</td>\n",
              "      <td>7684</td>\n",
              "      <td>2405</td>\n",
              "      <td>3516</td>\n",
              "      <td>7844</td>\n",
              "    </tr>\n",
              "    <tr>\n",
              "      <th>3</th>\n",
              "      <td>3</td>\n",
              "      <td>13265</td>\n",
              "      <td>1196</td>\n",
              "      <td>4221</td>\n",
              "      <td>6404</td>\n",
              "      <td>507</td>\n",
              "      <td>1788</td>\n",
              "    </tr>\n",
              "    <tr>\n",
              "      <th>4</th>\n",
              "      <td>3</td>\n",
              "      <td>22615</td>\n",
              "      <td>5410</td>\n",
              "      <td>7198</td>\n",
              "      <td>3915</td>\n",
              "      <td>1777</td>\n",
              "      <td>5185</td>\n",
              "    </tr>\n",
              "  </tbody>\n",
              "</table>\n",
              "</div>"
            ],
            "text/plain": [
              "   Region  Fresh  Milk  Grocery  Frozen  Detergents_Paper  Delicassen\n",
              "0       3  12669  9656     7561     214              2674        1338\n",
              "1       3   7057  9810     9568    1762              3293        1776\n",
              "2       3   6353  8808     7684    2405              3516        7844\n",
              "3       3  13265  1196     4221    6404               507        1788\n",
              "4       3  22615  5410     7198    3915              1777        5185"
            ]
          },
          "metadata": {
            "tags": []
          },
          "execution_count": 11
        }
      ]
    },
    {
      "cell_type": "code",
      "metadata": {
        "id": "HTusvOeLQ9TV",
        "colab": {
          "base_uri": "https://localhost:8080/"
        },
        "outputId": "6d44daac-ae4b-4946-a0af-f13b1080c38a"
      },
      "source": [
        "y.head()"
      ],
      "execution_count": 12,
      "outputs": [
        {
          "output_type": "execute_result",
          "data": {
            "text/plain": [
              "0    2\n",
              "1    2\n",
              "2    2\n",
              "3    1\n",
              "4    2\n",
              "Name: Channel, dtype: int64"
            ]
          },
          "metadata": {
            "tags": []
          },
          "execution_count": 12
        }
      ]
    },
    {
      "cell_type": "markdown",
      "metadata": {
        "id": "qL-MYV8kQ9TW"
      },
      "source": [
        "- We can see that the y label contain values as 1 and 2. \n",
        "\n",
        "- We will need to convert it into 0 and 1 for further analysis. \n",
        "\n",
        "- We will do it as follows -"
      ]
    },
    {
      "cell_type": "code",
      "metadata": {
        "id": "MrG90YGHQ9TW"
      },
      "source": [
        "# convert labels into binary values\n",
        "\n",
        "y[y == 2] = 0\n",
        "\n",
        "y[y == 1] = 1"
      ],
      "execution_count": 13,
      "outputs": []
    },
    {
      "cell_type": "code",
      "metadata": {
        "id": "Nl1ZBKa0Q9TY",
        "colab": {
          "base_uri": "https://localhost:8080/"
        },
        "outputId": "da29e3ca-5c7d-451e-af2c-edbe5923e111"
      },
      "source": [
        "# again preview the y label\n",
        "\n",
        "y.head()"
      ],
      "execution_count": 14,
      "outputs": [
        {
          "output_type": "execute_result",
          "data": {
            "text/plain": [
              "0    0\n",
              "1    0\n",
              "2    0\n",
              "3    1\n",
              "4    0\n",
              "Name: Channel, dtype: int64"
            ]
          },
          "metadata": {
            "tags": []
          },
          "execution_count": 14
        }
      ]
    },
    {
      "cell_type": "markdown",
      "metadata": {
        "id": "lOeEHmN8Q9TY"
      },
      "source": [
        "- Now, we will convert the dataset into an optimized data structure called **Dmatrix** that XGBoost supports and gives it acclaimed performance and efficiency gains. \n",
        "\n",
        "- We will do it as follows -"
      ]
    },
    {
      "cell_type": "code",
      "metadata": {
        "id": "IqeP5_ROQ9TY"
      },
      "source": [
        "# import XGBoost\n",
        "import xgboost as xgb\n",
        "\n",
        "\n",
        "# define data_dmatrix\n",
        "data_dmatrix = xgb.DMatrix(data=X,label=y)"
      ],
      "execution_count": 15,
      "outputs": []
    },
    {
      "cell_type": "markdown",
      "metadata": {
        "id": "lwVEj0JNQ9TZ"
      },
      "source": [
        "## **4.5 Split data into separate training and test set** "
      ]
    },
    {
      "cell_type": "code",
      "metadata": {
        "id": "yAE9DHlPQ9TZ"
      },
      "source": [
        "# split X and y into training and testing sets\n",
        "\n",
        "from sklearn.model_selection import train_test_split\n",
        "\n",
        "X_train, X_test, y_train, y_test = train_test_split(X, y, test_size = 0.3, random_state = 0)"
      ],
      "execution_count": 16,
      "outputs": []
    },
    {
      "cell_type": "markdown",
      "metadata": {
        "id": "inPq5Nv8Q9TZ"
      },
      "source": [
        "## **4.6  Train the XGBoost Classifier** \n",
        "\n",
        "- In order to train the XGBoost classifier, we need to know different parameters that XGBoost provides.\n",
        "\n",
        "- We will discuss these parameters in the next kernel.\n",
        "\n",
        "- Now, its time to train the XGBoost Classifier.\n",
        "\n",
        "- We will proceed as follows -"
      ]
    },
    {
      "cell_type": "code",
      "metadata": {
        "id": "vYQHEJ5AQ9Ta",
        "colab": {
          "base_uri": "https://localhost:8080/"
        },
        "outputId": "87337829-cb25-4b26-b0bb-4dd10c7d4cfa"
      },
      "source": [
        "# import XGBClassifier\n",
        "from xgboost import XGBClassifier\n",
        "\n",
        "\n",
        "# declare parameters\n",
        "params = {\n",
        "            'objective':'binary:logistic',\n",
        "            'max_depth': 4,\n",
        "            'alpha': 10,\n",
        "            'learning_rate': 1.0,\n",
        "            'n_estimators':100\n",
        "        }         \n",
        "           \n",
        "          \n",
        "# instantiate the classifier \n",
        "xgb_clf = XGBClassifier(**params)\n",
        "\n",
        "\n",
        "# fit the classifier to the training data\n",
        "xgb_clf.fit(X_train, y_train)"
      ],
      "execution_count": 17,
      "outputs": [
        {
          "output_type": "execute_result",
          "data": {
            "text/plain": [
              "XGBClassifier(alpha=10, base_score=0.5, booster='gbtree', colsample_bylevel=1,\n",
              "              colsample_bynode=1, colsample_bytree=1, gamma=0,\n",
              "              learning_rate=1.0, max_delta_step=0, max_depth=4,\n",
              "              min_child_weight=1, missing=None, n_estimators=100, n_jobs=1,\n",
              "              nthread=None, objective='binary:logistic', random_state=0,\n",
              "              reg_alpha=0, reg_lambda=1, scale_pos_weight=1, seed=None,\n",
              "              silent=None, subsample=1, verbosity=1)"
            ]
          },
          "metadata": {
            "tags": []
          },
          "execution_count": 17
        }
      ]
    },
    {
      "cell_type": "code",
      "metadata": {
        "id": "haH3QrY4Q9Ta",
        "colab": {
          "base_uri": "https://localhost:8080/"
        },
        "outputId": "c7f17779-69b7-4c25-f92c-fd966c56b078"
      },
      "source": [
        "# we can view the parameters of the xgb trained model as follows -\n",
        "\n",
        "print(xgb_clf)"
      ],
      "execution_count": 18,
      "outputs": [
        {
          "output_type": "stream",
          "text": [
            "XGBClassifier(alpha=10, base_score=0.5, booster='gbtree', colsample_bylevel=1,\n",
            "              colsample_bynode=1, colsample_bytree=1, gamma=0,\n",
            "              learning_rate=1.0, max_delta_step=0, max_depth=4,\n",
            "              min_child_weight=1, missing=None, n_estimators=100, n_jobs=1,\n",
            "              nthread=None, objective='binary:logistic', random_state=0,\n",
            "              reg_alpha=0, reg_lambda=1, scale_pos_weight=1, seed=None,\n",
            "              silent=None, subsample=1, verbosity=1)\n"
          ],
          "name": "stdout"
        }
      ]
    },
    {
      "cell_type": "markdown",
      "metadata": {
        "id": "pMIVSeX4Q9Ta"
      },
      "source": [
        "## **4.7 Make predictions with XGBoost Classifier** "
      ]
    },
    {
      "cell_type": "code",
      "metadata": {
        "id": "Kgn98dkmQ9Tb"
      },
      "source": [
        "# make predictions on test data\n",
        "\n",
        "y_pred = xgb_clf.predict(X_test)"
      ],
      "execution_count": 19,
      "outputs": []
    },
    {
      "cell_type": "markdown",
      "metadata": {
        "id": "c8GgyvO6Q9Tb"
      },
      "source": [
        "## **4.8 Check accuracy score** "
      ]
    },
    {
      "cell_type": "code",
      "metadata": {
        "id": "WuwvQQOrQ9Tb",
        "colab": {
          "base_uri": "https://localhost:8080/"
        },
        "outputId": "2382de2c-d38c-4ffb-8047-76124db48e52"
      },
      "source": [
        "# compute and print accuracy score\n",
        "\n",
        "from sklearn.metrics import accuracy_score\n",
        "\n",
        "print('XGBoost model accuracy score: {0:0.4f}'. format(accuracy_score(y_test, y_pred)))"
      ],
      "execution_count": 20,
      "outputs": [
        {
          "output_type": "stream",
          "text": [
            "XGBoost model accuracy score: 0.9167\n"
          ],
          "name": "stdout"
        }
      ]
    },
    {
      "cell_type": "markdown",
      "metadata": {
        "id": "WIMhem17Q9Tc"
      },
      "source": [
        "We can see that XGBoost obtain very high accuracy score of 91.67%."
      ]
    },
    {
      "cell_type": "markdown",
      "metadata": {
        "id": "w_5es0H9Q9Tc"
      },
      "source": [
        "# **5. k-fold Cross Validation using XGBoost** \n",
        "\n",
        "\n",
        "- To build more robust models with XGBoost, we should always perform k-fold cross validation. \n",
        "\n",
        "- In this way, we ensure that the original training dataset is used for both training and validation. \n",
        "\n",
        "- Also, each entry is used for validation just once. \n",
        "\n",
        "- XGBoost supports k-fold cross validation using the cv() method. \n",
        "\n",
        "- In this method, we will specify several parameters which are as follows:-\n",
        "\n",
        "  - **nfolds** - This parameter specifies the number of cross-validation sets we want to build.\n",
        "\n",
        "  - **num_boost_round** - It denotes the number of trees we build.\n",
        "\n",
        "  - **metrics** - It is the performance evaluation metrics to be considered during CV.\n",
        "\n",
        "  - **as_pandas** - It is used to return the results in a pandas DataFrame.\n",
        "\n",
        "  - **early_stopping_rounds** - This parameter stops training of the model early if the hold-out metric does not improve for a given number of rounds.\n",
        "\n",
        "  - **seed** - This parameter is used for reproducibility of results.\n",
        "\n",
        "We can use these parameters to build a k-fold cross-validation model by calling XGBoost's CV() method."
      ]
    },
    {
      "cell_type": "code",
      "metadata": {
        "id": "0bvhQa3YQ9Tc"
      },
      "source": [
        "from xgboost import cv\n",
        "\n",
        "params = {\"objective\":\"binary:logistic\",'colsample_bytree': 0.3,'learning_rate': 0.1,\n",
        "                'max_depth': 5, 'alpha': 10}\n",
        "\n",
        "xgb_cv = cv(dtrain=data_dmatrix, params=params, nfold=3,\n",
        "                    num_boost_round=50, early_stopping_rounds=10, metrics=\"auc\", as_pandas=True, seed=123)"
      ],
      "execution_count": 21,
      "outputs": []
    },
    {
      "cell_type": "markdown",
      "metadata": {
        "id": "M-D5KdmTQ9Tc"
      },
      "source": [
        "- **xgb_cv** contains train and test auc metrics for each boosting round. \n",
        "\n",
        "- Let's preview **xgb_cv**."
      ]
    },
    {
      "cell_type": "code",
      "metadata": {
        "id": "e8jGLCLAQ9Td",
        "colab": {
          "base_uri": "https://localhost:8080/",
          "height": 204
        },
        "outputId": "974d66e5-6706-441b-f26d-28595ac130b2"
      },
      "source": [
        "xgb_cv.head()"
      ],
      "execution_count": 22,
      "outputs": [
        {
          "output_type": "execute_result",
          "data": {
            "text/html": [
              "<div>\n",
              "<style scoped>\n",
              "    .dataframe tbody tr th:only-of-type {\n",
              "        vertical-align: middle;\n",
              "    }\n",
              "\n",
              "    .dataframe tbody tr th {\n",
              "        vertical-align: top;\n",
              "    }\n",
              "\n",
              "    .dataframe thead th {\n",
              "        text-align: right;\n",
              "    }\n",
              "</style>\n",
              "<table border=\"1\" class=\"dataframe\">\n",
              "  <thead>\n",
              "    <tr style=\"text-align: right;\">\n",
              "      <th></th>\n",
              "      <th>train-auc-mean</th>\n",
              "      <th>train-auc-std</th>\n",
              "      <th>test-auc-mean</th>\n",
              "      <th>test-auc-std</th>\n",
              "    </tr>\n",
              "  </thead>\n",
              "  <tbody>\n",
              "    <tr>\n",
              "      <th>0</th>\n",
              "      <td>0.917860</td>\n",
              "      <td>0.006809</td>\n",
              "      <td>0.888360</td>\n",
              "      <td>0.037170</td>\n",
              "    </tr>\n",
              "    <tr>\n",
              "      <th>1</th>\n",
              "      <td>0.920484</td>\n",
              "      <td>0.011244</td>\n",
              "      <td>0.886998</td>\n",
              "      <td>0.037300</td>\n",
              "    </tr>\n",
              "    <tr>\n",
              "      <th>2</th>\n",
              "      <td>0.931564</td>\n",
              "      <td>0.003005</td>\n",
              "      <td>0.882138</td>\n",
              "      <td>0.041967</td>\n",
              "    </tr>\n",
              "    <tr>\n",
              "      <th>3</th>\n",
              "      <td>0.943088</td>\n",
              "      <td>0.017875</td>\n",
              "      <td>0.891426</td>\n",
              "      <td>0.053799</td>\n",
              "    </tr>\n",
              "    <tr>\n",
              "      <th>4</th>\n",
              "      <td>0.940179</td>\n",
              "      <td>0.024116</td>\n",
              "      <td>0.885100</td>\n",
              "      <td>0.055394</td>\n",
              "    </tr>\n",
              "  </tbody>\n",
              "</table>\n",
              "</div>"
            ],
            "text/plain": [
              "   train-auc-mean  train-auc-std  test-auc-mean  test-auc-std\n",
              "0        0.917860       0.006809       0.888360      0.037170\n",
              "1        0.920484       0.011244       0.886998      0.037300\n",
              "2        0.931564       0.003005       0.882138      0.041967\n",
              "3        0.943088       0.017875       0.891426      0.053799\n",
              "4        0.940179       0.024116       0.885100      0.055394"
            ]
          },
          "metadata": {
            "tags": []
          },
          "execution_count": 22
        }
      ]
    },
    {
      "cell_type": "markdown",
      "metadata": {
        "id": "XCbFa98MQ9Td"
      },
      "source": [
        "# **6. Feature importance with XGBoost** \n",
        "\n",
        "\n",
        "- XGBoost provides a way to examine the importance of each feature in the original dataset within the model. \n",
        "\n",
        "- It involves counting the number of times each feature is split on across all boosting trees in the model. \n",
        "\n",
        "- Then we visualize the result as a bar graph, with the features ordered according to how many times they appear.\n",
        "\n",
        "- XGBoost has a **plot_importance()** function that helps us to achieve this task. \n",
        "\n",
        "- Then we can visualize the features that has been given the highest important score among all the features. \n",
        "\n",
        "- Thus XGBoost provides us a way to do feature selection.\n",
        "\n",
        "- We will proceed as follows:-"
      ]
    },
    {
      "cell_type": "code",
      "metadata": {
        "id": "aCtnIcSOQ9Td",
        "colab": {
          "base_uri": "https://localhost:8080/",
          "height": 312
        },
        "outputId": "25b9ede7-af73-4a5f-ea05-ed2e07ac4d87"
      },
      "source": [
        "xgb.plot_importance(xgb_clf)\n",
        "plt.figure(figsize = (16, 12))\n",
        "plt.show()"
      ],
      "execution_count": 23,
      "outputs": [
        {
          "output_type": "display_data",
          "data": {
            "image/png": "[encoded data removed]",
            "text/plain": [
              "<Figure size 432x288 with 1 Axes>"
            ]
          },
          "metadata": {
            "tags": [],
            "needs_background": "light"
          }
        },
        {
          "output_type": "display_data",
          "data": {
            "text/plain": [
              "<Figure size 1152x864 with 0 Axes>"
            ]
          },
          "metadata": {
            "tags": []
          }
        }
      ]
    },
    {
      "cell_type": "markdown",
      "metadata": {
        "id": "Bi050XuhQ9Te"
      },
      "source": [
        "- We can see that the feature `Delicassesn` has been given the highest importance score among all the features. \n",
        "\n",
        "- Based upon this importance score, we can select the features with highest importance score and discard the redundant ones.\n",
        "\n",
        "- Thus XGBoost also gives us a way to do feature selection."
      ]
    },
    {
      "cell_type": "markdown",
      "metadata": {
        "id": "YpeRv80kQ9Te"
      },
      "source": [
        "# **7. Results and Conclusion** \n",
        "\n",
        "\n",
        "- In this kernel, we implement XGBoost with Python and Scikit-Learn to classify the customers from two different channels as Horeca (Hotel/Retail/Café) customers or Retail channel (nominal) customers.\n",
        "\n",
        "- The y labels contain values as 1 and 2. We have converted them into 0 and 1 for further analysis.\n",
        "\n",
        "- We have trained the XGBoost classifier and found the accuracy score to be 91.67%.\n",
        "\n",
        "- We have performed k-fold cross-validation with XGBoost.\n",
        "\n",
        "- We have find the most important feature in XGBoost. We did it using the plot_importance() function in XGBoost that helps us to achieve this task.\n",
        "\n"
      ]
    },
    {
      "cell_type": "markdown",
      "metadata": {
        "id": "vHeB7sOYQ9Te"
      },
      "source": [
        "# **8. References** \n",
        "\n",
        "\n",
        "The ideas and concepts in this kernel are taken from the following websites -\n",
        "\n",
        "-\thttps://www.datacamp.com/community/tutorials/xgboost-in-python\n",
        "\n",
        "-\thttps://blog.cambridgespark.com/getting-started-with-xgboost-3ba1488bb7d4\n",
        "\n",
        "-\thttps://towardsdatascience.com/a-beginners-guide-to-xgboost-87f5d4c30ed7\n",
        "\n",
        "-\thttps://heartbeat.fritz.ai/boosting-your-machine-learning-models-using-xgboost-d2cabb3e948f\n",
        "\n",
        "-\thttps://towardsdatascience.com/https-medium-com-vishalmorde-xgboost-algorithm-long-she-may-rein-edd9f99be63d\n",
        "\n",
        "-   https://medium.com/@gabrieltseng/gradient-boosting-and-xgboost-c306c1bcfaf5\n",
        "\n",
        "-   https://medium.com/mlreview/gradient-boosting-from-scratch-1e317ae4587d"
      ]
    }
  ]
}