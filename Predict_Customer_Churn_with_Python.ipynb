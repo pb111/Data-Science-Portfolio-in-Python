{
  "nbformat": 4,
  "nbformat_minor": 0,
  "metadata": {
    "colab": {
      "name": "Predict Customer Churn with Python.ipynb",
      "provenance": [],
      "authorship_tag": "ABX9TyO3AXcLebb5hcu7160Y/JNq",
      "include_colab_link": true
    },
    "kernelspec": {
      "name": "python3",
      "display_name": "Python 3"
    },
    "language_info": {
      "name": "python"
    }
  },
  "cells": [
    {
      "cell_type": "markdown",
      "metadata": {
        "id": "view-in-github",
        "colab_type": "text"
      },
      "source": [
        "<a href=\"https://colab.research.google.com/github/pb111/Data-Science-Portfolio-in-Python/blob/master/Predict_Customer_Churn_with_Python.ipynb\" target=\"_parent\"><img src=\"https://colab.research.google.com/assets/colab-badge.svg\" alt=\"Open In Colab\"/></a>"
      ]
    },
    {
      "cell_type": "markdown",
      "metadata": {
        "id": "H-R8BulQUzN9"
      },
      "source": [
        "# **Predict Customer Churn with Python**\n",
        "\n"
      ]
    },
    {
      "cell_type": "markdown",
      "metadata": {
        "id": "B6GVPWN4VS_c"
      },
      "source": [
        "## **Table of Contents**\n",
        "\n",
        "- 1\tIntroduction\n",
        "- 2\tImport libraries\n",
        "- 3\tRead dataset\n",
        "- 4\tExploratory data analysis (EDA)\n",
        "   - 4.1 Shape of dataset\n",
        "   - 4.2 Preview dataset\n",
        "   - 4.3 Summary of dataset\n",
        "   - 4.4 Statistical properties of dataset\n",
        "- 5\tFeature selection\n",
        "- 6\tConvert categorical columns to numeric columns\n",
        "  - 6.1\tExplore Gender variable\n",
        "  - 6.2\tExplore Geography variable\n",
        "- 7\tFeature Scaling\n",
        "- 8\tModel Training\n",
        "  - 8.1\tPredict accuracy with different algorithms\n",
        "  - 8.2\tPlot the classifier accuracy scores\n",
        "- 9\tFeature Importance\n",
        "  - 9.1\tFeature importance with Random Forest model\n",
        "  - 9.2\tDrop least important feature\n",
        "- 10 Confusion Matrix\n",
        "- 11 Classification Metrices\n",
        "  - 11.1 Classification Report\n",
        "  - 11.2 Classification Accuracy\n",
        "  - 11.3 Classification Error\n",
        "  - 11.4 Precision\n",
        "  - 11.5 Recall\n",
        "  - 11.6 True Positive Rate\n",
        "  - 11.7 False Positive Rate\n",
        "  - 11.8 Specificity (True Negative Rate)\n",
        "  - 11.9 f1 – score\n",
        "  - 11.10\tSupport\n",
        "- 12 Cross-Validation\n",
        "- 13 Results and Conclusion\n",
        "- 14 References\n",
        "\n"
      ]
    },
    {
      "cell_type": "markdown",
      "metadata": {
        "id": "FmZyooQiZJa_"
      },
      "source": [
        "## **1. Introduction**\n",
        "\n",
        "\n",
        "- **Customer churn** (also known as customer attrition) is the loss of clients or customers. It is most commonly expressed as the percentage of service subscribers who discontinue their subscriptions within a given time period. In this project, we will build a machine learning model to predict customer churn. "
      ]
    },
    {
      "cell_type": "markdown",
      "metadata": {
        "id": "EaoqjPohjaTV"
      },
      "source": [
        "## **2. Import libraries**\n",
        "\n",
        "- We will start off by importing the required libraries."
      ]
    },
    {
      "cell_type": "code",
      "metadata": {
        "id": "o_fNYe2bVSHh"
      },
      "source": [
        "import numpy as np\n",
        "import pandas as pd\n",
        "import sklearn\n",
        "import matplotlib.pyplot as plt\n",
        "import seaborn as sns\n",
        "from sklearn.preprocessing import LabelEncoder\n",
        "from sklearn.preprocessing import StandardScaler\n",
        "from sklearn.metrics import classification_report\n",
        "from sklearn.model_selection import train_test_split\n",
        "from sklearn.model_selection import GridSearchCV , KFold , cross_val_score"
      ],
      "execution_count": 1,
      "outputs": []
    },
    {
      "cell_type": "code",
      "metadata": {
        "id": "0wMpIOFhHrxJ"
      },
      "source": [
        "# Classification algorithms\n",
        "from sklearn.linear_model import LogisticRegression\n",
        "from sklearn.neighbors import KNeighborsClassifier\n",
        "from sklearn.naive_bayes import GaussianNB\n",
        "from sklearn.svm import SVC\n",
        "from sklearn.gaussian_process.kernels import RBF\n",
        "from sklearn.tree import DecisionTreeClassifier\n",
        "from sklearn.ensemble import RandomForestClassifier, AdaBoostClassifier, GradientBoostingClassifier, VotingClassifier\n",
        "from sklearn.discriminant_analysis import LinearDiscriminantAnalysis , QuadraticDiscriminantAnalysis\n",
        "from sklearn.neural_network import MLPClassifier\n",
        "import lightgbm as lgb\n",
        "import xgboost as xgb\n"
      ],
      "execution_count": 2,
      "outputs": []
    },
    {
      "cell_type": "code",
      "metadata": {
        "id": "wXpMNmaKBBYF"
      },
      "source": [
        "# Classification metrices\n",
        "from sklearn.metrics import accuracy_score,confusion_matrix, classification_report, precision_score,recall_score,f1_score "
      ],
      "execution_count": 3,
      "outputs": []
    },
    {
      "cell_type": "markdown",
      "metadata": {
        "id": "idp857pajrqQ"
      },
      "source": [
        "## **3. Read dataset**"
      ]
    },
    {
      "cell_type": "code",
      "metadata": {
        "colab": {
          "base_uri": "https://localhost:8080/"
        },
        "id": "sE7LMvM7jwYJ",
        "outputId": "e793cddf-031f-4450-fe66-3a1f38347802"
      },
      "source": [
        "from google.colab import drive\n",
        "\n",
        "drive.mount('/content/drive')\n",
        "\n"
      ],
      "execution_count": 4,
      "outputs": [
        {
          "output_type": "stream",
          "text": [
            "Drive already mounted at /content/drive; to attempt to forcibly remount, call drive.mount(\"/content/drive\", force_remount=True).\n"
          ],
          "name": "stdout"
        }
      ]
    },
    {
      "cell_type": "code",
      "metadata": {
        "id": "CNBIFZmPj_LX"
      },
      "source": [
        "file_path = '/content/drive/MyDrive/datasets/Customer Churn/Churn_Modelling.csv'\n"
      ],
      "execution_count": 5,
      "outputs": []
    },
    {
      "cell_type": "code",
      "metadata": {
        "id": "B7vRxO6lkpCn"
      },
      "source": [
        "df = pd.read_csv(file_path)"
      ],
      "execution_count": 6,
      "outputs": []
    },
    {
      "cell_type": "markdown",
      "metadata": {
        "id": "JAVbDG8_k5Io"
      },
      "source": [
        "## **4. Exploratory Data Analysis**\n",
        "\n",
        "- Now, we will perform EDA to gain insights about our data."
      ]
    },
    {
      "cell_type": "markdown",
      "metadata": {
        "id": "AxXr5UDs8TI_"
      },
      "source": [
        "### **4.1 Shape of dataset**"
      ]
    },
    {
      "cell_type": "code",
      "metadata": {
        "colab": {
          "base_uri": "https://localhost:8080/"
        },
        "id": "JOfZD5nZk88v",
        "outputId": "3d30113c-d78e-4cbd-f7f4-8dcd7e75ed04"
      },
      "source": [
        "df.shape"
      ],
      "execution_count": 7,
      "outputs": [
        {
          "output_type": "execute_result",
          "data": {
            "text/plain": [
              "(10000, 14)"
            ]
          },
          "metadata": {
            "tags": []
          },
          "execution_count": 7
        }
      ]
    },
    {
      "cell_type": "markdown",
      "metadata": {
        "id": "LjQ9pZ3c6SWx"
      },
      "source": [
        "- Our dataset contains 10000 instances and 14 variables."
      ]
    },
    {
      "cell_type": "markdown",
      "metadata": {
        "id": "kTxY1bfE64J_"
      },
      "source": [
        "- Now, let's take a quick look of our dataset."
      ]
    },
    {
      "cell_type": "markdown",
      "metadata": {
        "id": "rkZ8vfAa8d_Q"
      },
      "source": [
        "### **4.2 Preview dataset**"
      ]
    },
    {
      "cell_type": "code",
      "metadata": {
        "id": "Dcs2WNiblAgU",
        "colab": {
          "base_uri": "https://localhost:8080/",
          "height": 204
        },
        "outputId": "3a998dc5-5135-4914-d872-28201ecba3aa"
      },
      "source": [
        "df.head()"
      ],
      "execution_count": 8,
      "outputs": [
        {
          "output_type": "execute_result",
          "data": {
            "text/html": [
              "<div>\n",
              "<style scoped>\n",
              "    .dataframe tbody tr th:only-of-type {\n",
              "        vertical-align: middle;\n",
              "    }\n",
              "\n",
              "    .dataframe tbody tr th {\n",
              "        vertical-align: top;\n",
              "    }\n",
              "\n",
              "    .dataframe thead th {\n",
              "        text-align: right;\n",
              "    }\n",
              "</style>\n",
              "<table border=\"1\" class=\"dataframe\">\n",
              "  <thead>\n",
              "    <tr style=\"text-align: right;\">\n",
              "      <th></th>\n",
              "      <th>RowNumber</th>\n",
              "      <th>CustomerId</th>\n",
              "      <th>Surname</th>\n",
              "      <th>CreditScore</th>\n",
              "      <th>Geography</th>\n",
              "      <th>Gender</th>\n",
              "      <th>Age</th>\n",
              "      <th>Tenure</th>\n",
              "      <th>Balance</th>\n",
              "      <th>NumOfProducts</th>\n",
              "      <th>HasCrCard</th>\n",
              "      <th>IsActiveMember</th>\n",
              "      <th>EstimatedSalary</th>\n",
              "      <th>Exited</th>\n",
              "    </tr>\n",
              "  </thead>\n",
              "  <tbody>\n",
              "    <tr>\n",
              "      <th>0</th>\n",
              "      <td>1</td>\n",
              "      <td>15634602</td>\n",
              "      <td>Hargrave</td>\n",
              "      <td>619</td>\n",
              "      <td>France</td>\n",
              "      <td>Female</td>\n",
              "      <td>42</td>\n",
              "      <td>2</td>\n",
              "      <td>0.00</td>\n",
              "      <td>1</td>\n",
              "      <td>1</td>\n",
              "      <td>1</td>\n",
              "      <td>101348.88</td>\n",
              "      <td>1</td>\n",
              "    </tr>\n",
              "    <tr>\n",
              "      <th>1</th>\n",
              "      <td>2</td>\n",
              "      <td>15647311</td>\n",
              "      <td>Hill</td>\n",
              "      <td>608</td>\n",
              "      <td>Spain</td>\n",
              "      <td>Female</td>\n",
              "      <td>41</td>\n",
              "      <td>1</td>\n",
              "      <td>83807.86</td>\n",
              "      <td>1</td>\n",
              "      <td>0</td>\n",
              "      <td>1</td>\n",
              "      <td>112542.58</td>\n",
              "      <td>0</td>\n",
              "    </tr>\n",
              "    <tr>\n",
              "      <th>2</th>\n",
              "      <td>3</td>\n",
              "      <td>15619304</td>\n",
              "      <td>Onio</td>\n",
              "      <td>502</td>\n",
              "      <td>France</td>\n",
              "      <td>Female</td>\n",
              "      <td>42</td>\n",
              "      <td>8</td>\n",
              "      <td>159660.80</td>\n",
              "      <td>3</td>\n",
              "      <td>1</td>\n",
              "      <td>0</td>\n",
              "      <td>113931.57</td>\n",
              "      <td>1</td>\n",
              "    </tr>\n",
              "    <tr>\n",
              "      <th>3</th>\n",
              "      <td>4</td>\n",
              "      <td>15701354</td>\n",
              "      <td>Boni</td>\n",
              "      <td>699</td>\n",
              "      <td>France</td>\n",
              "      <td>Female</td>\n",
              "      <td>39</td>\n",
              "      <td>1</td>\n",
              "      <td>0.00</td>\n",
              "      <td>2</td>\n",
              "      <td>0</td>\n",
              "      <td>0</td>\n",
              "      <td>93826.63</td>\n",
              "      <td>0</td>\n",
              "    </tr>\n",
              "    <tr>\n",
              "      <th>4</th>\n",
              "      <td>5</td>\n",
              "      <td>15737888</td>\n",
              "      <td>Mitchell</td>\n",
              "      <td>850</td>\n",
              "      <td>Spain</td>\n",
              "      <td>Female</td>\n",
              "      <td>43</td>\n",
              "      <td>2</td>\n",
              "      <td>125510.82</td>\n",
              "      <td>1</td>\n",
              "      <td>1</td>\n",
              "      <td>1</td>\n",
              "      <td>79084.10</td>\n",
              "      <td>0</td>\n",
              "    </tr>\n",
              "  </tbody>\n",
              "</table>\n",
              "</div>"
            ],
            "text/plain": [
              "   RowNumber  CustomerId   Surname  ...  IsActiveMember EstimatedSalary Exited\n",
              "0          1    15634602  Hargrave  ...               1       101348.88      1\n",
              "1          2    15647311      Hill  ...               1       112542.58      0\n",
              "2          3    15619304      Onio  ...               0       113931.57      1\n",
              "3          4    15701354      Boni  ...               0        93826.63      0\n",
              "4          5    15737888  Mitchell  ...               1        79084.10      0\n",
              "\n",
              "[5 rows x 14 columns]"
            ]
          },
          "metadata": {
            "tags": []
          },
          "execution_count": 8
        }
      ]
    },
    {
      "cell_type": "markdown",
      "metadata": {
        "id": "J4lV9yDJ7AMc"
      },
      "source": [
        "### **4.3 Summary of dataset**"
      ]
    },
    {
      "cell_type": "code",
      "metadata": {
        "id": "fYv59yjUlDYR",
        "colab": {
          "base_uri": "https://localhost:8080/"
        },
        "outputId": "2d632fd7-29b6-467e-f689-b42c634bac10"
      },
      "source": [
        "df.info()"
      ],
      "execution_count": 9,
      "outputs": [
        {
          "output_type": "stream",
          "text": [
            "<class 'pandas.core.frame.DataFrame'>\n",
            "RangeIndex: 10000 entries, 0 to 9999\n",
            "Data columns (total 14 columns):\n",
            " #   Column           Non-Null Count  Dtype  \n",
            "---  ------           --------------  -----  \n",
            " 0   RowNumber        10000 non-null  int64  \n",
            " 1   CustomerId       10000 non-null  int64  \n",
            " 2   Surname          10000 non-null  object \n",
            " 3   CreditScore      10000 non-null  int64  \n",
            " 4   Geography        10000 non-null  object \n",
            " 5   Gender           10000 non-null  object \n",
            " 6   Age              10000 non-null  int64  \n",
            " 7   Tenure           10000 non-null  int64  \n",
            " 8   Balance          10000 non-null  float64\n",
            " 9   NumOfProducts    10000 non-null  int64  \n",
            " 10  HasCrCard        10000 non-null  int64  \n",
            " 11  IsActiveMember   10000 non-null  int64  \n",
            " 12  EstimatedSalary  10000 non-null  float64\n",
            " 13  Exited           10000 non-null  int64  \n",
            "dtypes: float64(2), int64(9), object(3)\n",
            "memory usage: 1.1+ MB\n"
          ],
          "name": "stdout"
        }
      ]
    },
    {
      "cell_type": "markdown",
      "metadata": {
        "id": "_X0NXTsO74Do"
      },
      "source": [
        "- We can see that there are 3 categorical variables and 11 numerical variables in the dataset.\n",
        "\n",
        "- Also, there are no missing values in the dataset."
      ]
    },
    {
      "cell_type": "markdown",
      "metadata": {
        "id": "nRIeiu468N9E"
      },
      "source": [
        "### **4.4 Statistical properties of dataset**"
      ]
    },
    {
      "cell_type": "code",
      "metadata": {
        "colab": {
          "base_uri": "https://localhost:8080/",
          "height": 297
        },
        "id": "g0bMXMmo8EgH",
        "outputId": "cedcf666-100f-48bb-c1f8-8f913a1446fb"
      },
      "source": [
        "df.describe()"
      ],
      "execution_count": 10,
      "outputs": [
        {
          "output_type": "execute_result",
          "data": {
            "text/html": [
              "<div>\n",
              "<style scoped>\n",
              "    .dataframe tbody tr th:only-of-type {\n",
              "        vertical-align: middle;\n",
              "    }\n",
              "\n",
              "    .dataframe tbody tr th {\n",
              "        vertical-align: top;\n",
              "    }\n",
              "\n",
              "    .dataframe thead th {\n",
              "        text-align: right;\n",
              "    }\n",
              "</style>\n",
              "<table border=\"1\" class=\"dataframe\">\n",
              "  <thead>\n",
              "    <tr style=\"text-align: right;\">\n",
              "      <th></th>\n",
              "      <th>RowNumber</th>\n",
              "      <th>CustomerId</th>\n",
              "      <th>CreditScore</th>\n",
              "      <th>Age</th>\n",
              "      <th>Tenure</th>\n",
              "      <th>Balance</th>\n",
              "      <th>NumOfProducts</th>\n",
              "      <th>HasCrCard</th>\n",
              "      <th>IsActiveMember</th>\n",
              "      <th>EstimatedSalary</th>\n",
              "      <th>Exited</th>\n",
              "    </tr>\n",
              "  </thead>\n",
              "  <tbody>\n",
              "    <tr>\n",
              "      <th>count</th>\n",
              "      <td>10000.00000</td>\n",
              "      <td>1.000000e+04</td>\n",
              "      <td>10000.000000</td>\n",
              "      <td>10000.000000</td>\n",
              "      <td>10000.000000</td>\n",
              "      <td>10000.000000</td>\n",
              "      <td>10000.000000</td>\n",
              "      <td>10000.00000</td>\n",
              "      <td>10000.000000</td>\n",
              "      <td>10000.000000</td>\n",
              "      <td>10000.000000</td>\n",
              "    </tr>\n",
              "    <tr>\n",
              "      <th>mean</th>\n",
              "      <td>5000.50000</td>\n",
              "      <td>1.569094e+07</td>\n",
              "      <td>650.528800</td>\n",
              "      <td>38.921800</td>\n",
              "      <td>5.012800</td>\n",
              "      <td>76485.889288</td>\n",
              "      <td>1.530200</td>\n",
              "      <td>0.70550</td>\n",
              "      <td>0.515100</td>\n",
              "      <td>100090.239881</td>\n",
              "      <td>0.203700</td>\n",
              "    </tr>\n",
              "    <tr>\n",
              "      <th>std</th>\n",
              "      <td>2886.89568</td>\n",
              "      <td>7.193619e+04</td>\n",
              "      <td>96.653299</td>\n",
              "      <td>10.487806</td>\n",
              "      <td>2.892174</td>\n",
              "      <td>62397.405202</td>\n",
              "      <td>0.581654</td>\n",
              "      <td>0.45584</td>\n",
              "      <td>0.499797</td>\n",
              "      <td>57510.492818</td>\n",
              "      <td>0.402769</td>\n",
              "    </tr>\n",
              "    <tr>\n",
              "      <th>min</th>\n",
              "      <td>1.00000</td>\n",
              "      <td>1.556570e+07</td>\n",
              "      <td>350.000000</td>\n",
              "      <td>18.000000</td>\n",
              "      <td>0.000000</td>\n",
              "      <td>0.000000</td>\n",
              "      <td>1.000000</td>\n",
              "      <td>0.00000</td>\n",
              "      <td>0.000000</td>\n",
              "      <td>11.580000</td>\n",
              "      <td>0.000000</td>\n",
              "    </tr>\n",
              "    <tr>\n",
              "      <th>25%</th>\n",
              "      <td>2500.75000</td>\n",
              "      <td>1.562853e+07</td>\n",
              "      <td>584.000000</td>\n",
              "      <td>32.000000</td>\n",
              "      <td>3.000000</td>\n",
              "      <td>0.000000</td>\n",
              "      <td>1.000000</td>\n",
              "      <td>0.00000</td>\n",
              "      <td>0.000000</td>\n",
              "      <td>51002.110000</td>\n",
              "      <td>0.000000</td>\n",
              "    </tr>\n",
              "    <tr>\n",
              "      <th>50%</th>\n",
              "      <td>5000.50000</td>\n",
              "      <td>1.569074e+07</td>\n",
              "      <td>652.000000</td>\n",
              "      <td>37.000000</td>\n",
              "      <td>5.000000</td>\n",
              "      <td>97198.540000</td>\n",
              "      <td>1.000000</td>\n",
              "      <td>1.00000</td>\n",
              "      <td>1.000000</td>\n",
              "      <td>100193.915000</td>\n",
              "      <td>0.000000</td>\n",
              "    </tr>\n",
              "    <tr>\n",
              "      <th>75%</th>\n",
              "      <td>7500.25000</td>\n",
              "      <td>1.575323e+07</td>\n",
              "      <td>718.000000</td>\n",
              "      <td>44.000000</td>\n",
              "      <td>7.000000</td>\n",
              "      <td>127644.240000</td>\n",
              "      <td>2.000000</td>\n",
              "      <td>1.00000</td>\n",
              "      <td>1.000000</td>\n",
              "      <td>149388.247500</td>\n",
              "      <td>0.000000</td>\n",
              "    </tr>\n",
              "    <tr>\n",
              "      <th>max</th>\n",
              "      <td>10000.00000</td>\n",
              "      <td>1.581569e+07</td>\n",
              "      <td>850.000000</td>\n",
              "      <td>92.000000</td>\n",
              "      <td>10.000000</td>\n",
              "      <td>250898.090000</td>\n",
              "      <td>4.000000</td>\n",
              "      <td>1.00000</td>\n",
              "      <td>1.000000</td>\n",
              "      <td>199992.480000</td>\n",
              "      <td>1.000000</td>\n",
              "    </tr>\n",
              "  </tbody>\n",
              "</table>\n",
              "</div>"
            ],
            "text/plain": [
              "         RowNumber    CustomerId  ...  EstimatedSalary        Exited\n",
              "count  10000.00000  1.000000e+04  ...     10000.000000  10000.000000\n",
              "mean    5000.50000  1.569094e+07  ...    100090.239881      0.203700\n",
              "std     2886.89568  7.193619e+04  ...     57510.492818      0.402769\n",
              "min        1.00000  1.556570e+07  ...        11.580000      0.000000\n",
              "25%     2500.75000  1.562853e+07  ...     51002.110000      0.000000\n",
              "50%     5000.50000  1.569074e+07  ...    100193.915000      0.000000\n",
              "75%     7500.25000  1.575323e+07  ...    149388.247500      0.000000\n",
              "max    10000.00000  1.581569e+07  ...    199992.480000      1.000000\n",
              "\n",
              "[8 rows x 11 columns]"
            ]
          },
          "metadata": {
            "tags": []
          },
          "execution_count": 10
        }
      ]
    },
    {
      "cell_type": "markdown",
      "metadata": {
        "id": "Pvsxfn9KAT3N"
      },
      "source": [
        "## **5 Feature selection**\n",
        "\n",
        "\n",
        "- We can see that there are 14 variables in the dataset. \n",
        "\n",
        "- The target variable is **Exited** and there are remaining 13 variables.\n",
        "\n",
        "- All the remaining 13 variables are not useful for prediction. We have to select the relevant variables.\n",
        "\n",
        "- So, first let's check the variables in the dataset.\n"
      ]
    },
    {
      "cell_type": "code",
      "metadata": {
        "colab": {
          "base_uri": "https://localhost:8080/"
        },
        "id": "cSEU82UpBSrj",
        "outputId": "6678abc1-ae99-43bd-d7cc-7e49670e484c"
      },
      "source": [
        "df.columns"
      ],
      "execution_count": 11,
      "outputs": [
        {
          "output_type": "execute_result",
          "data": {
            "text/plain": [
              "Index(['RowNumber', 'CustomerId', 'Surname', 'CreditScore', 'Geography',\n",
              "       'Gender', 'Age', 'Tenure', 'Balance', 'NumOfProducts', 'HasCrCard',\n",
              "       'IsActiveMember', 'EstimatedSalary', 'Exited'],\n",
              "      dtype='object')"
            ]
          },
          "metadata": {
            "tags": []
          },
          "execution_count": 11
        }
      ]
    },
    {
      "cell_type": "markdown",
      "metadata": {
        "id": "eUxAj3-jB0v0"
      },
      "source": [
        "Not all columns affect the customer churn. Let's discuss each column one by one:\n",
        "\n",
        "1. **RowNumber** — corresponds to the record (row) number and has no effect on the output. This column will be removed.\n",
        "2. **CustomerId** — contains random values and has no effect on customer leaving the bank. This column will be removed.\n",
        "3. **Surname** — the surname of a customer has no impact on their decision to leave the bank. This column will be removed.\n",
        "4. **CreditScore** — can have an effect on customer churn, since a customer with a higher credit score is less likely to leave the bank.\n",
        "5. **Geography** — a customer's location can affect their decision to leave the bank. We'll keep this column.\n",
        "6. **Gender** — it's interesting to explore whether gender plays a role in a customer leaving the bank. We'll include this column, too.\n",
        "7. **Age** —this is certainly relevant, since older customers are less likely to leave their bank than younger ones.\n",
        "8. **Tenure** — refers to the number of years that the customer has been a client of the bank. Normally, older clients are more loyal and less likely to leave a bank.\n",
        "9. **Balance** — also a very good indicator of customer churn, as people with a higher balance in their accounts are less likely to leave the bank compared to those with lower balances.\n",
        "10. **NumOfProducts** — refers to the number of products that a customer has purchased through the bank.\n",
        "11. **HasCrCard** — denotes whether or not a customer has a credit card. This column is also relevant, since people with a credit card are less likely to leave the bank.\n",
        "12. **IsActiveMember** — active customers are less likely to leave the bank, so we'll keep this.\n",
        "13. **EstimatedSalary** — as with balance, people with lower salaries are more likely to leave the bank compared to those with higher salaries.\n",
        "14. **Exited** — whether or not the customer left the bank. This is what we have to predict."
      ]
    },
    {
      "cell_type": "markdown",
      "metadata": {
        "id": "7VtM0omZDIwe"
      },
      "source": [
        "- So, we'll remove the **RowNumber**, **CustomerId** and **Surname** columns from our feature set. All the remaining columns do contribute to the customer churn in one way or another.\n",
        "\n",
        "- We can drop these columns as follows:"
      ]
    },
    {
      "cell_type": "code",
      "metadata": {
        "id": "zh7eXpuNDZpM"
      },
      "source": [
        "df.drop(['RowNumber', 'CustomerId', 'Surname'], axis=1, inplace=True)\n"
      ],
      "execution_count": 12,
      "outputs": []
    },
    {
      "cell_type": "code",
      "metadata": {
        "colab": {
          "base_uri": "https://localhost:8080/"
        },
        "id": "5xIDQQZHDpqY",
        "outputId": "5094a84b-0637-416e-9b5d-80565369e115"
      },
      "source": [
        "df.columns"
      ],
      "execution_count": 13,
      "outputs": [
        {
          "output_type": "execute_result",
          "data": {
            "text/plain": [
              "Index(['CreditScore', 'Geography', 'Gender', 'Age', 'Tenure', 'Balance',\n",
              "       'NumOfProducts', 'HasCrCard', 'IsActiveMember', 'EstimatedSalary',\n",
              "       'Exited'],\n",
              "      dtype='object')"
            ]
          },
          "metadata": {
            "tags": []
          },
          "execution_count": 13
        }
      ]
    },
    {
      "cell_type": "markdown",
      "metadata": {
        "id": "9TH4zqQJEZkp"
      },
      "source": [
        "- We can see that the above three columns are removed from the dataset."
      ]
    },
    {
      "cell_type": "markdown",
      "metadata": {
        "id": "bt6GVVvPy2AV"
      },
      "source": [
        "## **6. Convert categorical columns to numeric columns**\n",
        "\n",
        "\n",
        "- Now, in our dataset, we have two categorical columns: **Gender** and **Geography**. We should convert them into numerical format."
      ]
    },
    {
      "cell_type": "markdown",
      "metadata": {
        "id": "KxndGlSL0CzB"
      },
      "source": [
        "#### **6.1 Explore Gender variable**"
      ]
    },
    {
      "cell_type": "code",
      "metadata": {
        "colab": {
          "base_uri": "https://localhost:8080/"
        },
        "id": "7Cnblx8_0Gy6",
        "outputId": "3d2d0441-35f1-4ad8-8fd2-ea59d7fb84a8"
      },
      "source": [
        "df['Gender'].value_counts()"
      ],
      "execution_count": 14,
      "outputs": [
        {
          "output_type": "execute_result",
          "data": {
            "text/plain": [
              "Male      5457\n",
              "Female    4543\n",
              "Name: Gender, dtype: int64"
            ]
          },
          "metadata": {
            "tags": []
          },
          "execution_count": 14
        }
      ]
    },
    {
      "cell_type": "code",
      "metadata": {
        "id": "VOVrqq1c0LzM"
      },
      "source": [
        "# let's do One Hot Encoding of Gender variable\n",
        "# get k dummy variables after One Hot Encoding \n",
        "\n",
        "\n",
        "df['Gender'] = pd.get_dummies(df['Gender'], drop_first = False)"
      ],
      "execution_count": 15,
      "outputs": []
    },
    {
      "cell_type": "markdown",
      "metadata": {
        "id": "1Ug33zjA1hiE"
      },
      "source": [
        "- Now, let's take a look again at our dataset."
      ]
    },
    {
      "cell_type": "code",
      "metadata": {
        "colab": {
          "base_uri": "https://localhost:8080/",
          "height": 204
        },
        "id": "9AiQ2iNY0u_h",
        "outputId": "ee2d7350-f083-4750-8354-e578e622e8ad"
      },
      "source": [
        "df.head()"
      ],
      "execution_count": 16,
      "outputs": [
        {
          "output_type": "execute_result",
          "data": {
            "text/html": [
              "<div>\n",
              "<style scoped>\n",
              "    .dataframe tbody tr th:only-of-type {\n",
              "        vertical-align: middle;\n",
              "    }\n",
              "\n",
              "    .dataframe tbody tr th {\n",
              "        vertical-align: top;\n",
              "    }\n",
              "\n",
              "    .dataframe thead th {\n",
              "        text-align: right;\n",
              "    }\n",
              "</style>\n",
              "<table border=\"1\" class=\"dataframe\">\n",
              "  <thead>\n",
              "    <tr style=\"text-align: right;\">\n",
              "      <th></th>\n",
              "      <th>CreditScore</th>\n",
              "      <th>Geography</th>\n",
              "      <th>Gender</th>\n",
              "      <th>Age</th>\n",
              "      <th>Tenure</th>\n",
              "      <th>Balance</th>\n",
              "      <th>NumOfProducts</th>\n",
              "      <th>HasCrCard</th>\n",
              "      <th>IsActiveMember</th>\n",
              "      <th>EstimatedSalary</th>\n",
              "      <th>Exited</th>\n",
              "    </tr>\n",
              "  </thead>\n",
              "  <tbody>\n",
              "    <tr>\n",
              "      <th>0</th>\n",
              "      <td>619</td>\n",
              "      <td>France</td>\n",
              "      <td>1</td>\n",
              "      <td>42</td>\n",
              "      <td>2</td>\n",
              "      <td>0.00</td>\n",
              "      <td>1</td>\n",
              "      <td>1</td>\n",
              "      <td>1</td>\n",
              "      <td>101348.88</td>\n",
              "      <td>1</td>\n",
              "    </tr>\n",
              "    <tr>\n",
              "      <th>1</th>\n",
              "      <td>608</td>\n",
              "      <td>Spain</td>\n",
              "      <td>1</td>\n",
              "      <td>41</td>\n",
              "      <td>1</td>\n",
              "      <td>83807.86</td>\n",
              "      <td>1</td>\n",
              "      <td>0</td>\n",
              "      <td>1</td>\n",
              "      <td>112542.58</td>\n",
              "      <td>0</td>\n",
              "    </tr>\n",
              "    <tr>\n",
              "      <th>2</th>\n",
              "      <td>502</td>\n",
              "      <td>France</td>\n",
              "      <td>1</td>\n",
              "      <td>42</td>\n",
              "      <td>8</td>\n",
              "      <td>159660.80</td>\n",
              "      <td>3</td>\n",
              "      <td>1</td>\n",
              "      <td>0</td>\n",
              "      <td>113931.57</td>\n",
              "      <td>1</td>\n",
              "    </tr>\n",
              "    <tr>\n",
              "      <th>3</th>\n",
              "      <td>699</td>\n",
              "      <td>France</td>\n",
              "      <td>1</td>\n",
              "      <td>39</td>\n",
              "      <td>1</td>\n",
              "      <td>0.00</td>\n",
              "      <td>2</td>\n",
              "      <td>0</td>\n",
              "      <td>0</td>\n",
              "      <td>93826.63</td>\n",
              "      <td>0</td>\n",
              "    </tr>\n",
              "    <tr>\n",
              "      <th>4</th>\n",
              "      <td>850</td>\n",
              "      <td>Spain</td>\n",
              "      <td>1</td>\n",
              "      <td>43</td>\n",
              "      <td>2</td>\n",
              "      <td>125510.82</td>\n",
              "      <td>1</td>\n",
              "      <td>1</td>\n",
              "      <td>1</td>\n",
              "      <td>79084.10</td>\n",
              "      <td>0</td>\n",
              "    </tr>\n",
              "  </tbody>\n",
              "</table>\n",
              "</div>"
            ],
            "text/plain": [
              "   CreditScore Geography  Gender  ...  IsActiveMember  EstimatedSalary  Exited\n",
              "0          619    France       1  ...               1        101348.88       1\n",
              "1          608     Spain       1  ...               1        112542.58       0\n",
              "2          502    France       1  ...               0        113931.57       1\n",
              "3          699    France       1  ...               0         93826.63       0\n",
              "4          850     Spain       1  ...               1         79084.10       0\n",
              "\n",
              "[5 rows x 11 columns]"
            ]
          },
          "metadata": {
            "tags": []
          },
          "execution_count": 16
        }
      ]
    },
    {
      "cell_type": "markdown",
      "metadata": {
        "id": "H2IcdyYC1rO5"
      },
      "source": [
        "- Here 1 stands for female and 0 stands for male."
      ]
    },
    {
      "cell_type": "markdown",
      "metadata": {
        "id": "RIt51rGN2g0R"
      },
      "source": [
        "#### **6.2 Explore Geography variable**"
      ]
    },
    {
      "cell_type": "code",
      "metadata": {
        "colab": {
          "base_uri": "https://localhost:8080/"
        },
        "id": "mlyjs4gU2mdU",
        "outputId": "45781859-3e50-402f-b004-7ef6c014b26f"
      },
      "source": [
        "df['Geography'].value_counts()"
      ],
      "execution_count": 17,
      "outputs": [
        {
          "output_type": "execute_result",
          "data": {
            "text/plain": [
              "France     5014\n",
              "Germany    2509\n",
              "Spain      2477\n",
              "Name: Geography, dtype: int64"
            ]
          },
          "metadata": {
            "tags": []
          },
          "execution_count": 17
        }
      ]
    },
    {
      "cell_type": "code",
      "metadata": {
        "id": "_arjgq-J2wKn"
      },
      "source": [
        "# let's do One Hot Encoding of Goegraphy variable\n",
        "# get k dummy variables after One Hot Encoding \n",
        "\n",
        "\n",
        "df['Geography'] = pd.get_dummies(df['Geography'], drop_first = False)\n",
        "\n"
      ],
      "execution_count": 18,
      "outputs": []
    },
    {
      "cell_type": "markdown",
      "metadata": {
        "id": "Z59k5-Mq3fAv"
      },
      "source": [
        "- Let's again take a look at our dataset."
      ]
    },
    {
      "cell_type": "code",
      "metadata": {
        "colab": {
          "base_uri": "https://localhost:8080/",
          "height": 204
        },
        "id": "4YliErAH3i8k",
        "outputId": "02a11a40-5ec6-4308-811e-75899d259736"
      },
      "source": [
        "df.head()"
      ],
      "execution_count": 19,
      "outputs": [
        {
          "output_type": "execute_result",
          "data": {
            "text/html": [
              "<div>\n",
              "<style scoped>\n",
              "    .dataframe tbody tr th:only-of-type {\n",
              "        vertical-align: middle;\n",
              "    }\n",
              "\n",
              "    .dataframe tbody tr th {\n",
              "        vertical-align: top;\n",
              "    }\n",
              "\n",
              "    .dataframe thead th {\n",
              "        text-align: right;\n",
              "    }\n",
              "</style>\n",
              "<table border=\"1\" class=\"dataframe\">\n",
              "  <thead>\n",
              "    <tr style=\"text-align: right;\">\n",
              "      <th></th>\n",
              "      <th>CreditScore</th>\n",
              "      <th>Geography</th>\n",
              "      <th>Gender</th>\n",
              "      <th>Age</th>\n",
              "      <th>Tenure</th>\n",
              "      <th>Balance</th>\n",
              "      <th>NumOfProducts</th>\n",
              "      <th>HasCrCard</th>\n",
              "      <th>IsActiveMember</th>\n",
              "      <th>EstimatedSalary</th>\n",
              "      <th>Exited</th>\n",
              "    </tr>\n",
              "  </thead>\n",
              "  <tbody>\n",
              "    <tr>\n",
              "      <th>0</th>\n",
              "      <td>619</td>\n",
              "      <td>1</td>\n",
              "      <td>1</td>\n",
              "      <td>42</td>\n",
              "      <td>2</td>\n",
              "      <td>0.00</td>\n",
              "      <td>1</td>\n",
              "      <td>1</td>\n",
              "      <td>1</td>\n",
              "      <td>101348.88</td>\n",
              "      <td>1</td>\n",
              "    </tr>\n",
              "    <tr>\n",
              "      <th>1</th>\n",
              "      <td>608</td>\n",
              "      <td>0</td>\n",
              "      <td>1</td>\n",
              "      <td>41</td>\n",
              "      <td>1</td>\n",
              "      <td>83807.86</td>\n",
              "      <td>1</td>\n",
              "      <td>0</td>\n",
              "      <td>1</td>\n",
              "      <td>112542.58</td>\n",
              "      <td>0</td>\n",
              "    </tr>\n",
              "    <tr>\n",
              "      <th>2</th>\n",
              "      <td>502</td>\n",
              "      <td>1</td>\n",
              "      <td>1</td>\n",
              "      <td>42</td>\n",
              "      <td>8</td>\n",
              "      <td>159660.80</td>\n",
              "      <td>3</td>\n",
              "      <td>1</td>\n",
              "      <td>0</td>\n",
              "      <td>113931.57</td>\n",
              "      <td>1</td>\n",
              "    </tr>\n",
              "    <tr>\n",
              "      <th>3</th>\n",
              "      <td>699</td>\n",
              "      <td>1</td>\n",
              "      <td>1</td>\n",
              "      <td>39</td>\n",
              "      <td>1</td>\n",
              "      <td>0.00</td>\n",
              "      <td>2</td>\n",
              "      <td>0</td>\n",
              "      <td>0</td>\n",
              "      <td>93826.63</td>\n",
              "      <td>0</td>\n",
              "    </tr>\n",
              "    <tr>\n",
              "      <th>4</th>\n",
              "      <td>850</td>\n",
              "      <td>0</td>\n",
              "      <td>1</td>\n",
              "      <td>43</td>\n",
              "      <td>2</td>\n",
              "      <td>125510.82</td>\n",
              "      <td>1</td>\n",
              "      <td>1</td>\n",
              "      <td>1</td>\n",
              "      <td>79084.10</td>\n",
              "      <td>0</td>\n",
              "    </tr>\n",
              "  </tbody>\n",
              "</table>\n",
              "</div>"
            ],
            "text/plain": [
              "   CreditScore  Geography  Gender  ...  IsActiveMember  EstimatedSalary  Exited\n",
              "0          619          1       1  ...               1        101348.88       1\n",
              "1          608          0       1  ...               1        112542.58       0\n",
              "2          502          1       1  ...               0        113931.57       1\n",
              "3          699          1       1  ...               0         93826.63       0\n",
              "4          850          0       1  ...               1         79084.10       0\n",
              "\n",
              "[5 rows x 11 columns]"
            ]
          },
          "metadata": {
            "tags": []
          },
          "execution_count": 19
        }
      ]
    },
    {
      "cell_type": "markdown",
      "metadata": {
        "id": "DPYHfXYQ9QwU"
      },
      "source": [
        "## **7. Feature Scaling**"
      ]
    },
    {
      "cell_type": "code",
      "metadata": {
        "id": "SW1wbfwA-BKJ"
      },
      "source": [
        "X =  df.drop(['Exited'], axis=1)\n",
        "y = df['Exited']\n"
      ],
      "execution_count": 20,
      "outputs": []
    },
    {
      "cell_type": "code",
      "metadata": {
        "id": "Z5QClo9I9W-C"
      },
      "source": [
        "cols = X.columns"
      ],
      "execution_count": 21,
      "outputs": []
    },
    {
      "cell_type": "code",
      "metadata": {
        "id": "Pu0KcFnp9s7x"
      },
      "source": [
        "from sklearn.preprocessing import StandardScaler\n",
        "\n",
        "scaler = StandardScaler()\n",
        "\n",
        "X = scaler.fit_transform(X)"
      ],
      "execution_count": 22,
      "outputs": []
    },
    {
      "cell_type": "code",
      "metadata": {
        "id": "wp-8_y-r9zlB"
      },
      "source": [
        "X = pd.DataFrame(X, columns=[cols])"
      ],
      "execution_count": 23,
      "outputs": []
    },
    {
      "cell_type": "code",
      "metadata": {
        "colab": {
          "base_uri": "https://localhost:8080/",
          "height": 204
        },
        "id": "1K0FzrJV9-qk",
        "outputId": "010368e6-44cd-44ee-f1d6-47cfbf064076"
      },
      "source": [
        "X.head()"
      ],
      "execution_count": 24,
      "outputs": [
        {
          "output_type": "execute_result",
          "data": {
            "text/html": [
              "<div>\n",
              "<style scoped>\n",
              "    .dataframe tbody tr th:only-of-type {\n",
              "        vertical-align: middle;\n",
              "    }\n",
              "\n",
              "    .dataframe tbody tr th {\n",
              "        vertical-align: top;\n",
              "    }\n",
              "\n",
              "    .dataframe thead tr th {\n",
              "        text-align: left;\n",
              "    }\n",
              "</style>\n",
              "<table border=\"1\" class=\"dataframe\">\n",
              "  <thead>\n",
              "    <tr>\n",
              "      <th></th>\n",
              "      <th>CreditScore</th>\n",
              "      <th>Geography</th>\n",
              "      <th>Gender</th>\n",
              "      <th>Age</th>\n",
              "      <th>Tenure</th>\n",
              "      <th>Balance</th>\n",
              "      <th>NumOfProducts</th>\n",
              "      <th>HasCrCard</th>\n",
              "      <th>IsActiveMember</th>\n",
              "      <th>EstimatedSalary</th>\n",
              "    </tr>\n",
              "  </thead>\n",
              "  <tbody>\n",
              "    <tr>\n",
              "      <th>0</th>\n",
              "      <td>-0.326221</td>\n",
              "      <td>0.997204</td>\n",
              "      <td>1.095988</td>\n",
              "      <td>0.293517</td>\n",
              "      <td>-1.041760</td>\n",
              "      <td>-1.225848</td>\n",
              "      <td>-0.911583</td>\n",
              "      <td>0.646092</td>\n",
              "      <td>0.970243</td>\n",
              "      <td>0.021886</td>\n",
              "    </tr>\n",
              "    <tr>\n",
              "      <th>1</th>\n",
              "      <td>-0.440036</td>\n",
              "      <td>-1.002804</td>\n",
              "      <td>1.095988</td>\n",
              "      <td>0.198164</td>\n",
              "      <td>-1.387538</td>\n",
              "      <td>0.117350</td>\n",
              "      <td>-0.911583</td>\n",
              "      <td>-1.547768</td>\n",
              "      <td>0.970243</td>\n",
              "      <td>0.216534</td>\n",
              "    </tr>\n",
              "    <tr>\n",
              "      <th>2</th>\n",
              "      <td>-1.536794</td>\n",
              "      <td>0.997204</td>\n",
              "      <td>1.095988</td>\n",
              "      <td>0.293517</td>\n",
              "      <td>1.032908</td>\n",
              "      <td>1.333053</td>\n",
              "      <td>2.527057</td>\n",
              "      <td>0.646092</td>\n",
              "      <td>-1.030670</td>\n",
              "      <td>0.240687</td>\n",
              "    </tr>\n",
              "    <tr>\n",
              "      <th>3</th>\n",
              "      <td>0.501521</td>\n",
              "      <td>0.997204</td>\n",
              "      <td>1.095988</td>\n",
              "      <td>0.007457</td>\n",
              "      <td>-1.387538</td>\n",
              "      <td>-1.225848</td>\n",
              "      <td>0.807737</td>\n",
              "      <td>-1.547768</td>\n",
              "      <td>-1.030670</td>\n",
              "      <td>-0.108918</td>\n",
              "    </tr>\n",
              "    <tr>\n",
              "      <th>4</th>\n",
              "      <td>2.063884</td>\n",
              "      <td>-1.002804</td>\n",
              "      <td>1.095988</td>\n",
              "      <td>0.388871</td>\n",
              "      <td>-1.041760</td>\n",
              "      <td>0.785728</td>\n",
              "      <td>-0.911583</td>\n",
              "      <td>0.646092</td>\n",
              "      <td>0.970243</td>\n",
              "      <td>-0.365276</td>\n",
              "    </tr>\n",
              "  </tbody>\n",
              "</table>\n",
              "</div>"
            ],
            "text/plain": [
              "  CreditScore Geography    Gender  ... HasCrCard IsActiveMember EstimatedSalary\n",
              "0   -0.326221  0.997204  1.095988  ...  0.646092       0.970243        0.021886\n",
              "1   -0.440036 -1.002804  1.095988  ... -1.547768       0.970243        0.216534\n",
              "2   -1.536794  0.997204  1.095988  ...  0.646092      -1.030670        0.240687\n",
              "3    0.501521  0.997204  1.095988  ... -1.547768      -1.030670       -0.108918\n",
              "4    2.063884 -1.002804  1.095988  ...  0.646092       0.970243       -0.365276\n",
              "\n",
              "[5 rows x 10 columns]"
            ]
          },
          "metadata": {
            "tags": []
          },
          "execution_count": 24
        }
      ]
    },
    {
      "cell_type": "markdown",
      "metadata": {
        "id": "Y8Di99w8-4X7"
      },
      "source": [
        "## **8. Model Training**\n",
        "\n",
        "- We can see that our dataset is now ready to be fed into a ML model. We will proceed as follows:-\n"
      ]
    },
    {
      "cell_type": "code",
      "metadata": {
        "id": "zIZMcobJADwR"
      },
      "source": [
        "from sklearn.model_selection import train_test_split\n",
        "X_train, X_test, y_train, y_test = train_test_split(X, y, test_size = 0.2, random_state = 42)"
      ],
      "execution_count": 25,
      "outputs": []
    },
    {
      "cell_type": "markdown",
      "metadata": {
        "id": "F0B9kmghG2hx"
      },
      "source": [
        "#### **8.1 Predict accuracy with different algorithms**\n",
        "\n",
        "\n",
        "- Let's predict accuracy with different algorithms and evaluate their performance."
      ]
    },
    {
      "cell_type": "code",
      "metadata": {
        "id": "t8ejhzVgHIkV"
      },
      "source": [
        "names = [\"Logistic Regression\", \"Nearest Neighbors\", \"Naive Bayes\", \"Linear SVM\", \"RBF SVM\", \n",
        "         \"Decision Tree\", \"Random Forest\", \"AdaBoost\", \"Gradient Boosting\", \n",
        "         \"LDA\", \"QDA\", \"Neural Net\", \"XGBoost\" ]   "
      ],
      "execution_count": 26,
      "outputs": []
    },
    {
      "cell_type": "code",
      "metadata": {
        "id": "1Ev89UbIHMu9"
      },
      "source": [
        "classifiers = [\n",
        "    LogisticRegression(),\n",
        "    KNeighborsClassifier(5),\n",
        "    GaussianNB(),\n",
        "    SVC(kernel=\"linear\", C=0.025),\n",
        "    SVC(kernel = \"rbf\", gamma=2, C=1),\n",
        "    DecisionTreeClassifier(max_depth=5),\n",
        "    RandomForestClassifier(max_depth=5, n_estimators=10, max_features=1),\n",
        "    AdaBoostClassifier(),\n",
        "    GradientBoostingClassifier(),\n",
        "    LinearDiscriminantAnalysis(),\n",
        "    QuadraticDiscriminantAnalysis(),\n",
        "    MLPClassifier(alpha=1, max_iter=1000),     \n",
        "    xgb.XGBClassifier()\n",
        "   ]"
      ],
      "execution_count": 27,
      "outputs": []
    },
    {
      "cell_type": "code",
      "metadata": {
        "colab": {
          "base_uri": "https://localhost:8080/"
        },
        "id": "H7vj7ERJHY8K",
        "outputId": "e016391e-610a-4f05-9fd1-93342e9d3c71"
      },
      "source": [
        "accuracy_scores = []\n",
        "\n",
        "# iterate over classifiers and predict accuracy\n",
        "for name, clf in zip(names, classifiers):\n",
        "    clf.fit(X_train, y_train)\n",
        "    score = clf.score(X_test, y_test)\n",
        "    score = round(score, 4)\n",
        "    accuracy_scores.append(score)\n",
        "    print(name ,' : ' , score)"
      ],
      "execution_count": 28,
      "outputs": [
        {
          "output_type": "stream",
          "text": [
            "Logistic Regression  :  0.813\n",
            "Nearest Neighbors  :  0.8315\n",
            "Naive Bayes  :  0.8365\n",
            "Linear SVM  :  0.8035\n",
            "RBF SVM  :  0.8065\n",
            "Decision Tree  :  0.8575\n",
            "Random Forest  :  0.82\n",
            "AdaBoost  :  0.8545\n",
            "Gradient Boosting  :  0.8645\n",
            "LDA  :  0.8105\n",
            "QDA  :  0.836\n",
            "Neural Net  :  0.861\n",
            "XGBoost  :  0.866\n"
          ],
          "name": "stdout"
        }
      ]
    },
    {
      "cell_type": "code",
      "metadata": {
        "id": "Um7pREdVG8ca",
        "colab": {
          "base_uri": "https://localhost:8080/",
          "height": 452
        },
        "outputId": "fc372aa5-4d8b-43db-d451-1a821d65d12b"
      },
      "source": [
        "classifiers_performance = pd.DataFrame({\"Classifiers\": names, \"Accuracy Scores\": accuracy_scores})\n",
        "classifiers_performance"
      ],
      "execution_count": 29,
      "outputs": [
        {
          "output_type": "execute_result",
          "data": {
            "text/html": [
              "<div>\n",
              "<style scoped>\n",
              "    .dataframe tbody tr th:only-of-type {\n",
              "        vertical-align: middle;\n",
              "    }\n",
              "\n",
              "    .dataframe tbody tr th {\n",
              "        vertical-align: top;\n",
              "    }\n",
              "\n",
              "    .dataframe thead th {\n",
              "        text-align: right;\n",
              "    }\n",
              "</style>\n",
              "<table border=\"1\" class=\"dataframe\">\n",
              "  <thead>\n",
              "    <tr style=\"text-align: right;\">\n",
              "      <th></th>\n",
              "      <th>Classifiers</th>\n",
              "      <th>Accuracy Scores</th>\n",
              "    </tr>\n",
              "  </thead>\n",
              "  <tbody>\n",
              "    <tr>\n",
              "      <th>0</th>\n",
              "      <td>Logistic Regression</td>\n",
              "      <td>0.8130</td>\n",
              "    </tr>\n",
              "    <tr>\n",
              "      <th>1</th>\n",
              "      <td>Nearest Neighbors</td>\n",
              "      <td>0.8315</td>\n",
              "    </tr>\n",
              "    <tr>\n",
              "      <th>2</th>\n",
              "      <td>Naive Bayes</td>\n",
              "      <td>0.8365</td>\n",
              "    </tr>\n",
              "    <tr>\n",
              "      <th>3</th>\n",
              "      <td>Linear SVM</td>\n",
              "      <td>0.8035</td>\n",
              "    </tr>\n",
              "    <tr>\n",
              "      <th>4</th>\n",
              "      <td>RBF SVM</td>\n",
              "      <td>0.8065</td>\n",
              "    </tr>\n",
              "    <tr>\n",
              "      <th>5</th>\n",
              "      <td>Decision Tree</td>\n",
              "      <td>0.8575</td>\n",
              "    </tr>\n",
              "    <tr>\n",
              "      <th>6</th>\n",
              "      <td>Random Forest</td>\n",
              "      <td>0.8200</td>\n",
              "    </tr>\n",
              "    <tr>\n",
              "      <th>7</th>\n",
              "      <td>AdaBoost</td>\n",
              "      <td>0.8545</td>\n",
              "    </tr>\n",
              "    <tr>\n",
              "      <th>8</th>\n",
              "      <td>Gradient Boosting</td>\n",
              "      <td>0.8645</td>\n",
              "    </tr>\n",
              "    <tr>\n",
              "      <th>9</th>\n",
              "      <td>LDA</td>\n",
              "      <td>0.8105</td>\n",
              "    </tr>\n",
              "    <tr>\n",
              "      <th>10</th>\n",
              "      <td>QDA</td>\n",
              "      <td>0.8360</td>\n",
              "    </tr>\n",
              "    <tr>\n",
              "      <th>11</th>\n",
              "      <td>Neural Net</td>\n",
              "      <td>0.8610</td>\n",
              "    </tr>\n",
              "    <tr>\n",
              "      <th>12</th>\n",
              "      <td>XGBoost</td>\n",
              "      <td>0.8660</td>\n",
              "    </tr>\n",
              "  </tbody>\n",
              "</table>\n",
              "</div>"
            ],
            "text/plain": [
              "            Classifiers  Accuracy Scores\n",
              "0   Logistic Regression           0.8130\n",
              "1     Nearest Neighbors           0.8315\n",
              "2           Naive Bayes           0.8365\n",
              "3            Linear SVM           0.8035\n",
              "4               RBF SVM           0.8065\n",
              "5         Decision Tree           0.8575\n",
              "6         Random Forest           0.8200\n",
              "7              AdaBoost           0.8545\n",
              "8     Gradient Boosting           0.8645\n",
              "9                   LDA           0.8105\n",
              "10                  QDA           0.8360\n",
              "11           Neural Net           0.8610\n",
              "12              XGBoost           0.8660"
            ]
          },
          "metadata": {
            "tags": []
          },
          "execution_count": 29
        }
      ]
    },
    {
      "cell_type": "markdown",
      "metadata": {
        "id": "bX_bJ--WOKVa"
      },
      "source": [
        "- The accuracy score of top performing algorithms in descending order is given below -"
      ]
    },
    {
      "cell_type": "code",
      "metadata": {
        "id": "5HLT5e4j91lD",
        "colab": {
          "base_uri": "https://localhost:8080/",
          "height": 452
        },
        "outputId": "193a1ca0-7df3-4ec1-bccb-92a52186ab31"
      },
      "source": [
        "classifiers_performance.sort_values(by = 'Accuracy Scores' , ascending = False)[['Classifiers', 'Accuracy Scores']]"
      ],
      "execution_count": 30,
      "outputs": [
        {
          "output_type": "execute_result",
          "data": {
            "text/html": [
              "<div>\n",
              "<style scoped>\n",
              "    .dataframe tbody tr th:only-of-type {\n",
              "        vertical-align: middle;\n",
              "    }\n",
              "\n",
              "    .dataframe tbody tr th {\n",
              "        vertical-align: top;\n",
              "    }\n",
              "\n",
              "    .dataframe thead th {\n",
              "        text-align: right;\n",
              "    }\n",
              "</style>\n",
              "<table border=\"1\" class=\"dataframe\">\n",
              "  <thead>\n",
              "    <tr style=\"text-align: right;\">\n",
              "      <th></th>\n",
              "      <th>Classifiers</th>\n",
              "      <th>Accuracy Scores</th>\n",
              "    </tr>\n",
              "  </thead>\n",
              "  <tbody>\n",
              "    <tr>\n",
              "      <th>12</th>\n",
              "      <td>XGBoost</td>\n",
              "      <td>0.8660</td>\n",
              "    </tr>\n",
              "    <tr>\n",
              "      <th>8</th>\n",
              "      <td>Gradient Boosting</td>\n",
              "      <td>0.8645</td>\n",
              "    </tr>\n",
              "    <tr>\n",
              "      <th>11</th>\n",
              "      <td>Neural Net</td>\n",
              "      <td>0.8610</td>\n",
              "    </tr>\n",
              "    <tr>\n",
              "      <th>5</th>\n",
              "      <td>Decision Tree</td>\n",
              "      <td>0.8575</td>\n",
              "    </tr>\n",
              "    <tr>\n",
              "      <th>7</th>\n",
              "      <td>AdaBoost</td>\n",
              "      <td>0.8545</td>\n",
              "    </tr>\n",
              "    <tr>\n",
              "      <th>2</th>\n",
              "      <td>Naive Bayes</td>\n",
              "      <td>0.8365</td>\n",
              "    </tr>\n",
              "    <tr>\n",
              "      <th>10</th>\n",
              "      <td>QDA</td>\n",
              "      <td>0.8360</td>\n",
              "    </tr>\n",
              "    <tr>\n",
              "      <th>1</th>\n",
              "      <td>Nearest Neighbors</td>\n",
              "      <td>0.8315</td>\n",
              "    </tr>\n",
              "    <tr>\n",
              "      <th>6</th>\n",
              "      <td>Random Forest</td>\n",
              "      <td>0.8200</td>\n",
              "    </tr>\n",
              "    <tr>\n",
              "      <th>0</th>\n",
              "      <td>Logistic Regression</td>\n",
              "      <td>0.8130</td>\n",
              "    </tr>\n",
              "    <tr>\n",
              "      <th>9</th>\n",
              "      <td>LDA</td>\n",
              "      <td>0.8105</td>\n",
              "    </tr>\n",
              "    <tr>\n",
              "      <th>4</th>\n",
              "      <td>RBF SVM</td>\n",
              "      <td>0.8065</td>\n",
              "    </tr>\n",
              "    <tr>\n",
              "      <th>3</th>\n",
              "      <td>Linear SVM</td>\n",
              "      <td>0.8035</td>\n",
              "    </tr>\n",
              "  </tbody>\n",
              "</table>\n",
              "</div>"
            ],
            "text/plain": [
              "            Classifiers  Accuracy Scores\n",
              "12              XGBoost           0.8660\n",
              "8     Gradient Boosting           0.8645\n",
              "11           Neural Net           0.8610\n",
              "5         Decision Tree           0.8575\n",
              "7              AdaBoost           0.8545\n",
              "2           Naive Bayes           0.8365\n",
              "10                  QDA           0.8360\n",
              "1     Nearest Neighbors           0.8315\n",
              "6         Random Forest           0.8200\n",
              "0   Logistic Regression           0.8130\n",
              "9                   LDA           0.8105\n",
              "4               RBF SVM           0.8065\n",
              "3            Linear SVM           0.8035"
            ]
          },
          "metadata": {
            "tags": []
          },
          "execution_count": 30
        }
      ]
    },
    {
      "cell_type": "markdown",
      "metadata": {
        "id": "HWg9pma6OckW"
      },
      "source": [
        "#### **8.2 Plot the classifier accuracy scores**"
      ]
    },
    {
      "cell_type": "code",
      "metadata": {
        "colab": {
          "base_uri": "https://localhost:8080/",
          "height": 404
        },
        "id": "pGie50gJOgH3",
        "outputId": "ac1fa0b4-0992-4282-a1fa-79f6ee619ccd"
      },
      "source": [
        "fig, ax = plt.subplots(figsize=(8,6))\n",
        "x = classifiers_performance['Accuracy Scores']\n",
        "y = classifiers_performance['Classifiers']\n",
        "ax.barh(y, x, align='center', color='green')\n",
        "ax.invert_yaxis()  # labels read top-to-bottom\n",
        "ax.set_xlabel('Accuracy Scores')\n",
        "ax.set_ylabel('Classifiers', rotation=0)\n",
        "ax.set_title('Classifier Accuracy Scores')\n",
        "plt.show()"
      ],
      "execution_count": 31,
      "outputs": [
        {
          "output_type": "display_data",
          "data": {
            "image/png": "[encoded data removed]",
            "text/plain": [
              "<Figure size 576x432 with 1 Axes>"
            ]
          },
          "metadata": {
            "tags": [],
            "needs_background": "light"
          }
        }
      ]
    },
    {
      "cell_type": "markdown",
      "metadata": {
        "id": "cZffXO_aPCVc"
      },
      "source": [
        "## **9. Feature Importance**\n",
        "\n",
        "- In this section, we will see how to improve model performance by feature selection.\n",
        "\n",
        "- We will visualize feature importance with random forest classifier and drop the least important feature, rebuild the model and check effect on accuracy.\n",
        "\n",
        "- For a comprehensive overview on feature selection techniques, please see the kernel -\n",
        "\n",
        "[A Reference Guide to Feature Selection Methods](https://www.kaggle.com/prashant111/comprehensive-guide-on-feature-selection?scriptVersionId=47174422)"
      ]
    },
    {
      "cell_type": "markdown",
      "metadata": {
        "id": "TehUtFnP4kcr"
      },
      "source": [
        "#### **9.1 Feature importance with Random Forest model**\n",
        "\n",
        "\n",
        "- Until now, I have used all the features given in the model. Now, I will select only the important features, build the model using these features and see its effect on accuracy.\n",
        "\n",
        "- First, I will create the Random Forest model as follows:-"
      ]
    },
    {
      "cell_type": "code",
      "metadata": {
        "colab": {
          "base_uri": "https://localhost:8080/"
        },
        "id": "VgRRmB714vsS",
        "outputId": "ec8ef92a-c6f3-4e76-a5c2-b7d232dc7c65"
      },
      "source": [
        "# instantiate the classifier with n_estimators = 100\n",
        "clf = RandomForestClassifier(n_estimators=100, random_state=0)\n",
        "\n",
        "\n",
        "# fit the classifier to the training set\n",
        "clf.fit(X_train, y_train)"
      ],
      "execution_count": 32,
      "outputs": [
        {
          "output_type": "execute_result",
          "data": {
            "text/plain": [
              "RandomForestClassifier(bootstrap=True, ccp_alpha=0.0, class_weight=None,\n",
              "                       criterion='gini', max_depth=None, max_features='auto',\n",
              "                       max_leaf_nodes=None, max_samples=None,\n",
              "                       min_impurity_decrease=0.0, min_impurity_split=None,\n",
              "                       min_samples_leaf=1, min_samples_split=2,\n",
              "                       min_weight_fraction_leaf=0.0, n_estimators=100,\n",
              "                       n_jobs=None, oob_score=False, random_state=0, verbose=0,\n",
              "                       warm_start=False)"
            ]
          },
          "metadata": {
            "tags": []
          },
          "execution_count": 32
        }
      ]
    },
    {
      "cell_type": "markdown",
      "metadata": {
        "id": "wmz3dPa748cQ"
      },
      "source": [
        "- Now, I will use the feature importance variable to see feature importance scores."
      ]
    },
    {
      "cell_type": "code",
      "metadata": {
        "colab": {
          "base_uri": "https://localhost:8080/"
        },
        "id": "BAe2rktI4_Ey",
        "outputId": "3fb2560f-475c-43b8-d2f1-edcdadb0fa5c"
      },
      "source": [
        "# view the feature scores\n",
        "feature_scores = pd.Series(clf.feature_importances_, index=X_train.columns).sort_values(ascending=False)\n",
        "feature_scores"
      ],
      "execution_count": 33,
      "outputs": [
        {
          "output_type": "execute_result",
          "data": {
            "text/plain": [
              "Age                0.239726\n",
              "EstimatedSalary    0.153873\n",
              "CreditScore        0.147649\n",
              "Balance            0.139864\n",
              "NumOfProducts      0.132292\n",
              "Tenure             0.084031\n",
              "IsActiveMember     0.043396\n",
              "Geography          0.020497\n",
              "HasCrCard          0.019983\n",
              "Gender             0.018689\n",
              "dtype: float64"
            ]
          },
          "metadata": {
            "tags": []
          },
          "execution_count": 33
        }
      ]
    },
    {
      "cell_type": "markdown",
      "metadata": {
        "id": "oGeqyhl15XRK"
      },
      "source": [
        "- We can see that the most important feature is **Age** and least important feature is **Gender**."
      ]
    },
    {
      "cell_type": "markdown",
      "metadata": {
        "id": "RJt4DhO189W6"
      },
      "source": [
        "#### **9.2 Drop least important feature**\n",
        "\n",
        "- Now, I will drop the least important feature **Gender** from the model, rebuild the model and check its effect on accuracy."
      ]
    },
    {
      "cell_type": "code",
      "metadata": {
        "colab": {
          "base_uri": "https://localhost:8080/"
        },
        "id": "BYl-38JM9DFb",
        "outputId": "ade6c5c0-6aa5-4731-df1d-f6649bf824a2"
      },
      "source": [
        "# drop the least important feature Gender from X_train and X_test for further analysis\n",
        "X1_train = X_train.drop(['Gender'], axis=1)\n",
        "X1_test = X_test.drop(['Gender'], axis=1)"
      ],
      "execution_count": 34,
      "outputs": [
        {
          "output_type": "stream",
          "text": [
            "/usr/local/lib/python3.7/dist-packages/pandas/core/generic.py:3889: PerformanceWarning: dropping on a non-lexsorted multi-index without a level parameter may impact performance.\n",
            "  obj = obj._drop_axis(labels, axis, level=level, errors=errors)\n"
          ],
          "name": "stderr"
        }
      ]
    },
    {
      "cell_type": "code",
      "metadata": {
        "colab": {
          "base_uri": "https://localhost:8080/"
        },
        "id": "OUJsE9eq9hLz",
        "outputId": "3e241e38-3be5-4227-c8a9-0726299b3629"
      },
      "source": [
        "accuracy_scores1 = []\n",
        "\n",
        "# iterate over classifiers and predict accuracy\n",
        "for name, clf in zip(names, classifiers):\n",
        "    clf.fit(X1_train, y_train)\n",
        "    score = clf.score(X1_test, y_test)\n",
        "    score = round(score, 4)\n",
        "    accuracy_scores1.append(score)\n",
        "    print(name ,' : ' , score)"
      ],
      "execution_count": 35,
      "outputs": [
        {
          "output_type": "stream",
          "text": [
            "Logistic Regression  :  0.812\n",
            "Nearest Neighbors  :  0.8405\n",
            "Naive Bayes  :  0.831\n",
            "Linear SVM  :  0.8035\n",
            "RBF SVM  :  0.8165\n",
            "Decision Tree  :  0.8575\n",
            "Random Forest  :  0.8245\n",
            "AdaBoost  :  0.8515\n",
            "Gradient Boosting  :  0.862\n",
            "LDA  :  0.81\n",
            "QDA  :  0.839\n",
            "Neural Net  :  0.8595\n",
            "XGBoost  :  0.863\n"
          ],
          "name": "stdout"
        }
      ]
    },
    {
      "cell_type": "markdown",
      "metadata": {
        "id": "qJgZTCX-9x13"
      },
      "source": [
        "- Now, we will compare our original accuracy and latest accuracy from the model."
      ]
    },
    {
      "cell_type": "code",
      "metadata": {
        "colab": {
          "base_uri": "https://localhost:8080/",
          "height": 452
        },
        "id": "fX1uAhTk96m-",
        "outputId": "b3dd0a7c-0323-4069-ace4-a0039fcb100f"
      },
      "source": [
        "classifiers_performance1 = pd.DataFrame({\"Classifiers\": names, \"Accuracy Scores\": accuracy_scores, \n",
        "                                         \"Accuracy Scores1\": accuracy_scores1})\n",
        "classifiers_performance1"
      ],
      "execution_count": 36,
      "outputs": [
        {
          "output_type": "execute_result",
          "data": {
            "text/html": [
              "<div>\n",
              "<style scoped>\n",
              "    .dataframe tbody tr th:only-of-type {\n",
              "        vertical-align: middle;\n",
              "    }\n",
              "\n",
              "    .dataframe tbody tr th {\n",
              "        vertical-align: top;\n",
              "    }\n",
              "\n",
              "    .dataframe thead th {\n",
              "        text-align: right;\n",
              "    }\n",
              "</style>\n",
              "<table border=\"1\" class=\"dataframe\">\n",
              "  <thead>\n",
              "    <tr style=\"text-align: right;\">\n",
              "      <th></th>\n",
              "      <th>Classifiers</th>\n",
              "      <th>Accuracy Scores</th>\n",
              "      <th>Accuracy Scores1</th>\n",
              "    </tr>\n",
              "  </thead>\n",
              "  <tbody>\n",
              "    <tr>\n",
              "      <th>0</th>\n",
              "      <td>Logistic Regression</td>\n",
              "      <td>0.8130</td>\n",
              "      <td>0.8120</td>\n",
              "    </tr>\n",
              "    <tr>\n",
              "      <th>1</th>\n",
              "      <td>Nearest Neighbors</td>\n",
              "      <td>0.8315</td>\n",
              "      <td>0.8405</td>\n",
              "    </tr>\n",
              "    <tr>\n",
              "      <th>2</th>\n",
              "      <td>Naive Bayes</td>\n",
              "      <td>0.8365</td>\n",
              "      <td>0.8310</td>\n",
              "    </tr>\n",
              "    <tr>\n",
              "      <th>3</th>\n",
              "      <td>Linear SVM</td>\n",
              "      <td>0.8035</td>\n",
              "      <td>0.8035</td>\n",
              "    </tr>\n",
              "    <tr>\n",
              "      <th>4</th>\n",
              "      <td>RBF SVM</td>\n",
              "      <td>0.8065</td>\n",
              "      <td>0.8165</td>\n",
              "    </tr>\n",
              "    <tr>\n",
              "      <th>5</th>\n",
              "      <td>Decision Tree</td>\n",
              "      <td>0.8575</td>\n",
              "      <td>0.8575</td>\n",
              "    </tr>\n",
              "    <tr>\n",
              "      <th>6</th>\n",
              "      <td>Random Forest</td>\n",
              "      <td>0.8200</td>\n",
              "      <td>0.8245</td>\n",
              "    </tr>\n",
              "    <tr>\n",
              "      <th>7</th>\n",
              "      <td>AdaBoost</td>\n",
              "      <td>0.8545</td>\n",
              "      <td>0.8515</td>\n",
              "    </tr>\n",
              "    <tr>\n",
              "      <th>8</th>\n",
              "      <td>Gradient Boosting</td>\n",
              "      <td>0.8645</td>\n",
              "      <td>0.8620</td>\n",
              "    </tr>\n",
              "    <tr>\n",
              "      <th>9</th>\n",
              "      <td>LDA</td>\n",
              "      <td>0.8105</td>\n",
              "      <td>0.8100</td>\n",
              "    </tr>\n",
              "    <tr>\n",
              "      <th>10</th>\n",
              "      <td>QDA</td>\n",
              "      <td>0.8360</td>\n",
              "      <td>0.8390</td>\n",
              "    </tr>\n",
              "    <tr>\n",
              "      <th>11</th>\n",
              "      <td>Neural Net</td>\n",
              "      <td>0.8610</td>\n",
              "      <td>0.8595</td>\n",
              "    </tr>\n",
              "    <tr>\n",
              "      <th>12</th>\n",
              "      <td>XGBoost</td>\n",
              "      <td>0.8660</td>\n",
              "      <td>0.8630</td>\n",
              "    </tr>\n",
              "  </tbody>\n",
              "</table>\n",
              "</div>"
            ],
            "text/plain": [
              "            Classifiers  Accuracy Scores  Accuracy Scores1\n",
              "0   Logistic Regression           0.8130            0.8120\n",
              "1     Nearest Neighbors           0.8315            0.8405\n",
              "2           Naive Bayes           0.8365            0.8310\n",
              "3            Linear SVM           0.8035            0.8035\n",
              "4               RBF SVM           0.8065            0.8165\n",
              "5         Decision Tree           0.8575            0.8575\n",
              "6         Random Forest           0.8200            0.8245\n",
              "7              AdaBoost           0.8545            0.8515\n",
              "8     Gradient Boosting           0.8645            0.8620\n",
              "9                   LDA           0.8105            0.8100\n",
              "10                  QDA           0.8360            0.8390\n",
              "11           Neural Net           0.8610            0.8595\n",
              "12              XGBoost           0.8660            0.8630"
            ]
          },
          "metadata": {
            "tags": []
          },
          "execution_count": 36
        }
      ]
    },
    {
      "cell_type": "markdown",
      "metadata": {
        "id": "UNy83zuH-TeX"
      },
      "source": [
        "- We can see that dropping the least important feature **Gender** from the model does not result in performance improvement.\n",
        "\n",
        "- We can see that XGBoost has maximum accuracy of 0.866.\n",
        "\n",
        "- So, we will use the XGBoost Classifier to plot the confusion-matrix."
      ]
    },
    {
      "cell_type": "markdown",
      "metadata": {
        "id": "Dehr3U8z_HN7"
      },
      "source": [
        "## **10. Confusion Matrix**\n",
        "\n",
        "\n",
        "- A **confusion matrix** is a tool for summarizing the performance of a classification algorithm. A confusion matrix will give us a clear picture of classification model performance and the types of errors produced by the model. It gives us a summary of correct and incorrect predictions broken down by each category. The summary is represented in a tabular form.\n",
        "\n",
        "- Four types of outcomes are possible while evaluating a classification model performance. These four outcomes are described below:-\n",
        "\n",
        "- **True Positives (TP)** – True Positives occur when we predict an observation belongs to a certain class and the observation actually belongs to that class.\n",
        "\n",
        "- **True Negatives (TN)** – True Negatives occur when we predict an observation does not belong to a certain class and the observation actually does not belong to that class.\n",
        "\n",
        "- **False Positives (FP)** – False Positives occur when we predict an observation belongs to a certain class but the observation actually does not belong to that class. This type of error is called Type I error.\n",
        "\n",
        "- **False Negatives (FN)** – False Negatives occur when we predict an observation does not belong to a certain class but the observation actually belongs to that class. This is a very serious error and it is called Type II error.\n",
        "\n",
        "- These four outcomes are summarized in a confusion matrix.\n",
        "\n",
        "- We will use the XGBoost Classifier to plot the confusion-matrix."
      ]
    },
    {
      "cell_type": "code",
      "metadata": {
        "colab": {
          "base_uri": "https://localhost:8080/"
        },
        "id": "cQL-7gscAAUl",
        "outputId": "c9e69b50-b786-48ca-acd2-4708e41b66f4"
      },
      "source": [
        "# instantiate the XGBoost classifier\n",
        "xgb_clf = xgb.XGBClassifier()\n",
        "\n",
        "\n",
        "# fit the classifier to the modified training set\n",
        "xgb_clf.fit(X_train, y_train)"
      ],
      "execution_count": 37,
      "outputs": [
        {
          "output_type": "execute_result",
          "data": {
            "text/plain": [
              "XGBClassifier(base_score=0.5, booster='gbtree', colsample_bylevel=1,\n",
              "              colsample_bynode=1, colsample_bytree=1, gamma=0,\n",
              "              learning_rate=0.1, max_delta_step=0, max_depth=3,\n",
              "              min_child_weight=1, missing=None, n_estimators=100, n_jobs=1,\n",
              "              nthread=None, objective='binary:logistic', random_state=0,\n",
              "              reg_alpha=0, reg_lambda=1, scale_pos_weight=1, seed=None,\n",
              "              silent=None, subsample=1, verbosity=1)"
            ]
          },
          "metadata": {
            "tags": []
          },
          "execution_count": 37
        }
      ]
    },
    {
      "cell_type": "code",
      "metadata": {
        "id": "oZlt6Hp4AYjM"
      },
      "source": [
        "# predict on the test set\n",
        "y_pred = xgb_clf.predict(X_test)"
      ],
      "execution_count": 38,
      "outputs": []
    },
    {
      "cell_type": "code",
      "metadata": {
        "colab": {
          "base_uri": "https://localhost:8080/"
        },
        "id": "UnpirBvDAs7s",
        "outputId": "01165502-3f82-484d-bde4-7774cbe3b800"
      },
      "source": [
        "# print the accuracy\n",
        "print('XGBoost Classifier model accuracy score: {0:0.4f}'. format(accuracy_score(y_test, y_pred)))"
      ],
      "execution_count": 39,
      "outputs": [
        {
          "output_type": "stream",
          "text": [
            "XGBoost Classifier model accuracy score: 0.8660\n"
          ],
          "name": "stdout"
        }
      ]
    },
    {
      "cell_type": "code",
      "metadata": {
        "colab": {
          "base_uri": "https://localhost:8080/"
        },
        "id": "Bd6g02-dA2Ea",
        "outputId": "bdc610ce-4e68-4b7a-f913-ec722daa7e91"
      },
      "source": [
        "# print confusion-matrix\n",
        "\n",
        "cm = confusion_matrix(y_test, y_pred)\n",
        "\n",
        "print('Confusion matrix\\n\\n', cm)\n",
        "\n",
        "print('\\nTrue Positives(TP) = ', cm[0,0])\n",
        "\n",
        "print('\\nTrue Negatives(TN) = ', cm[1,1])\n",
        "\n",
        "print('\\nFalse Positives(FP) = ', cm[0,1])\n",
        "\n",
        "print('\\nFalse Negatives(FN) = ', cm[1,0])"
      ],
      "execution_count": 40,
      "outputs": [
        {
          "output_type": "stream",
          "text": [
            "Confusion matrix\n",
            "\n",
            " [[1557   50]\n",
            " [ 218  175]]\n",
            "\n",
            "True Positives(TP) =  1557\n",
            "\n",
            "True Negatives(TN) =  175\n",
            "\n",
            "False Positives(FP) =  50\n",
            "\n",
            "False Negatives(FN) =  218\n"
          ],
          "name": "stdout"
        }
      ]
    },
    {
      "cell_type": "markdown",
      "metadata": {
        "id": "ZIe904J5ZiAX"
      },
      "source": [
        "The confusion matrix shows 1557 + 175 = 1732 correct predictions and 50 + 218 = 268 incorrect predictions.\n",
        "\n",
        "In this case, we have\n",
        "\n",
        "- True Positives (Actual Positive:1 and Predict Positive:1) - 1557\n",
        "- True Negatives (Actual Negative:0 and Predict Negative:0) - 175\n",
        "- False Positives (Actual Negative:0 but Predict Positive:1) - 50 (Type I error)\n",
        "- False Negatives (Actual Positive:1 but Predict Negative:0) - 218 (Type II error)"
      ]
    },
    {
      "cell_type": "code",
      "metadata": {
        "id": "DyCP7rJp_TY7",
        "colab": {
          "base_uri": "https://localhost:8080/",
          "height": 299
        },
        "outputId": "124c9892-c8d0-4648-c822-6566c0b3d9af"
      },
      "source": [
        "# visualize confusion matrix with seaborn heatmap\n",
        "\n",
        "cm_matrix = pd.DataFrame(data=cm, columns=['Actual Positive:1', 'Actual Negative:0'], \n",
        "                                 index=['Predict Positive:1', 'Predict Negative:0'])\n",
        "\n",
        "sns.heatmap(cm_matrix, annot=True, fmt='d', cmap='YlGnBu')"
      ],
      "execution_count": 41,
      "outputs": [
        {
          "output_type": "execute_result",
          "data": {
            "text/plain": [
              "<matplotlib.axes._subplots.AxesSubplot at 0x7efdbdba5190>"
            ]
          },
          "metadata": {
            "tags": []
          },
          "execution_count": 41
        },
        {
          "output_type": "display_data",
          "data": {
            "image/png": "[encoded data removed]",
            "text/plain": [
              "<Figure size 432x288 with 2 Axes>"
            ]
          },
          "metadata": {
            "tags": [],
            "needs_background": "light"
          }
        }
      ]
    },
    {
      "cell_type": "markdown",
      "metadata": {
        "id": "9irLr-BAb109"
      },
      "source": [
        "## **11. Classification Metrices** "
      ]
    },
    {
      "cell_type": "markdown",
      "metadata": {
        "id": "Z3AFA-gKb8kE"
      },
      "source": [
        "#### **11.1 Classification Report**\n",
        "\n",
        "\n",
        "- **Classification Report** is another way to evaluate the classification model performance.\n",
        "- It displays the **precision**, **recall**, **f1** and **support** scores for the model.\n",
        "- We can print a classification report as follows:-"
      ]
    },
    {
      "cell_type": "code",
      "metadata": {
        "colab": {
          "base_uri": "https://localhost:8080/"
        },
        "id": "xC0fH0lxcRca",
        "outputId": "63908337-c3f4-4237-9891-e3738d2020b6"
      },
      "source": [
        "print(classification_report(y_test, y_pred))"
      ],
      "execution_count": 42,
      "outputs": [
        {
          "output_type": "stream",
          "text": [
            "              precision    recall  f1-score   support\n",
            "\n",
            "           0       0.88      0.97      0.92      1607\n",
            "           1       0.78      0.45      0.57       393\n",
            "\n",
            "    accuracy                           0.87      2000\n",
            "   macro avg       0.83      0.71      0.74      2000\n",
            "weighted avg       0.86      0.87      0.85      2000\n",
            "\n"
          ],
          "name": "stdout"
        }
      ]
    },
    {
      "cell_type": "markdown",
      "metadata": {
        "id": "xnr5CZUhcjjs"
      },
      "source": [
        "#### **11.2 Classification Accuracy**"
      ]
    },
    {
      "cell_type": "code",
      "metadata": {
        "id": "AQlrrVNVcmkG"
      },
      "source": [
        "TP = cm[0,0]\n",
        "TN = cm[1,1]\n",
        "FP = cm[0,1]\n",
        "FN = cm[1,0]"
      ],
      "execution_count": 43,
      "outputs": []
    },
    {
      "cell_type": "code",
      "metadata": {
        "colab": {
          "base_uri": "https://localhost:8080/"
        },
        "id": "0122z017cqRd",
        "outputId": "25ad4127-af80-4fbf-8b59-000b43a1578c"
      },
      "source": [
        "# print classification accuracy\n",
        "\n",
        "classification_accuracy = (TP + TN) / float(TP + TN + FP + FN)\n",
        "\n",
        "print('Classification accuracy : {0:0.4f}'.format(classification_accuracy))"
      ],
      "execution_count": 44,
      "outputs": [
        {
          "output_type": "stream",
          "text": [
            "Classification accuracy : 0.8660\n"
          ],
          "name": "stdout"
        }
      ]
    },
    {
      "cell_type": "markdown",
      "metadata": {
        "id": "iFbDzDkic0ps"
      },
      "source": [
        "#### **11.3 Classification Error**"
      ]
    },
    {
      "cell_type": "code",
      "metadata": {
        "colab": {
          "base_uri": "https://localhost:8080/"
        },
        "id": "lic2ObOkc3cB",
        "outputId": "ebd4262b-4203-4ec0-a14d-b58f12f76461"
      },
      "source": [
        "# print classification error\n",
        "\n",
        "classification_error = (FP + FN) / float(TP + TN + FP + FN)\n",
        "\n",
        "print('Classification error : {0:0.4f}'.format(classification_error))"
      ],
      "execution_count": 45,
      "outputs": [
        {
          "output_type": "stream",
          "text": [
            "Classification error : 0.1340\n"
          ],
          "name": "stdout"
        }
      ]
    },
    {
      "cell_type": "markdown",
      "metadata": {
        "id": "OxodNZ76dA6U"
      },
      "source": [
        "#### **11.4 Precision**\n",
        "\n",
        "- **Precision** can be defined as the percentage of correctly predicted positive outcomes out of all the predicted positive outcomes. It can be given as the ratio of true positives (TP) to the sum of true and false positives (TP + FP).\n",
        "\n",
        "- So, Precision identifies the proportion of correctly predicted positive outcome. It is more concerned with the positive class than the negative class.\n",
        "\n",
        "- Mathematically, precision can be defined as the ratio of TP to (TP + FP)."
      ]
    },
    {
      "cell_type": "code",
      "metadata": {
        "colab": {
          "base_uri": "https://localhost:8080/"
        },
        "id": "ch7juGpidDzT",
        "outputId": "0ae6e8eb-c3d1-4b4a-a6db-bbc6e35a67fd"
      },
      "source": [
        "# print precision score\n",
        "\n",
        "precision = TP / float(TP + FP)\n",
        "\n",
        "print('Precision : {0:0.4f}'.format(precision))"
      ],
      "execution_count": 46,
      "outputs": [
        {
          "output_type": "stream",
          "text": [
            "Precision : 0.9689\n"
          ],
          "name": "stdout"
        }
      ]
    },
    {
      "cell_type": "markdown",
      "metadata": {
        "id": "ym_TspQBdbj3"
      },
      "source": [
        "#### **11.5 Recall**\n",
        "\n",
        "- **Recall** can be defined as the percentage of correctly predicted positive outcomes out of all the actual positive outcomes. It can be given as the ratio of true positives (TP) to the sum of true positives and false negatives (TP + FN).\n",
        "\n",
        "- **Recall** is also called **Sensitivity**.\n",
        "\n",
        "- Recall identifies the proportion of correctly predicted actual positives.\n",
        "\n",
        "- Mathematically, Recall can be given as the ratio of TP to (TP + FN)."
      ]
    },
    {
      "cell_type": "code",
      "metadata": {
        "colab": {
          "base_uri": "https://localhost:8080/"
        },
        "id": "2wtA67f-d_Gw",
        "outputId": "00011a65-00e7-4ad6-e7d1-b88504d9c06b"
      },
      "source": [
        "recall = TP / float(TP + FN)\n",
        "\n",
        "print('Recall or Sensitivity : {0:0.4f}'.format(recall))"
      ],
      "execution_count": 47,
      "outputs": [
        {
          "output_type": "stream",
          "text": [
            "Recall or Sensitivity : 0.8772\n"
          ],
          "name": "stdout"
        }
      ]
    },
    {
      "cell_type": "markdown",
      "metadata": {
        "id": "8rhIpEWzeH2X"
      },
      "source": [
        "#### **11.6 True Positive Rate**\n",
        "\n",
        "- **True Positive Rate** is synonymous with **Recall**."
      ]
    },
    {
      "cell_type": "code",
      "metadata": {
        "colab": {
          "base_uri": "https://localhost:8080/"
        },
        "id": "7YJSNVdTeT17",
        "outputId": "731ad0a3-e40c-4d1c-f0df-be6d5da4a6c6"
      },
      "source": [
        "true_positive_rate = TP / float(TP + FN)\n",
        "\n",
        "print('True Positive Rate : {0:0.4f}'.format(true_positive_rate))"
      ],
      "execution_count": 48,
      "outputs": [
        {
          "output_type": "stream",
          "text": [
            "True Positive Rate : 0.8772\n"
          ],
          "name": "stdout"
        }
      ]
    },
    {
      "cell_type": "markdown",
      "metadata": {
        "id": "_-Y0aAKXeeWg"
      },
      "source": [
        "#### **11.7 False Positive Rate**"
      ]
    },
    {
      "cell_type": "code",
      "metadata": {
        "colab": {
          "base_uri": "https://localhost:8080/"
        },
        "id": "tmrYuhOFeiTD",
        "outputId": "505bdf47-7869-4497-d3e7-d24be81e92af"
      },
      "source": [
        "false_positive_rate = FP / float(FP + TN)\n",
        "\n",
        "print('False Positive Rate : {0:0.4f}'.format(false_positive_rate))\n"
      ],
      "execution_count": 49,
      "outputs": [
        {
          "output_type": "stream",
          "text": [
            "False Positive Rate : 0.2222\n"
          ],
          "name": "stdout"
        }
      ]
    },
    {
      "cell_type": "markdown",
      "metadata": {
        "id": "sbg-n__6e25d"
      },
      "source": [
        "#### **11.8 Specificity (True Negative Rate)**\n",
        "\n",
        "\n",
        "- **Specificity** is also called **True Negative Rate**."
      ]
    },
    {
      "cell_type": "code",
      "metadata": {
        "colab": {
          "base_uri": "https://localhost:8080/"
        },
        "id": "J-BGNLHTe_2u",
        "outputId": "a963d1ce-2e3b-4cc1-c1a2-b8bd3f174a08"
      },
      "source": [
        "specificity = TN / (TN + FP)\n",
        "\n",
        "print('Specificity : {0:0.4f}'.format(specificity))"
      ],
      "execution_count": 50,
      "outputs": [
        {
          "output_type": "stream",
          "text": [
            "Specificity : 0.7778\n"
          ],
          "name": "stdout"
        }
      ]
    },
    {
      "cell_type": "markdown",
      "metadata": {
        "id": "swa0yLFnfKKE"
      },
      "source": [
        "#### **11.9 f1-score**\n",
        "\n",
        "- **f1-score** is the weighted harmonic mean of precision and recall.\n",
        "- The best possible f1-score would be 1.0 and the worst would be 0.0.\n",
        "- f1-score is the harmonic mean of precision and recall.\n",
        "- So, f1-score is always lower than accuracy measures as they embed precision and recall into their computation.\n",
        "- The weighted average of f1-score should be used to compare classifier models, not global accuracy."
      ]
    },
    {
      "cell_type": "markdown",
      "metadata": {
        "id": "OkLoQCR-fcD2"
      },
      "source": [
        "#### **11.10 Support**\n",
        "\n",
        "- **Support** is the actual number of occurrences of the class in our dataset."
      ]
    },
    {
      "cell_type": "markdown",
      "metadata": {
        "id": "jwiOUZJqfsr7"
      },
      "source": [
        "## **12. Cross Validation**\n",
        "\n",
        "\n",
        "- We will check whether **Cross Validation** results in performance improvement."
      ]
    },
    {
      "cell_type": "code",
      "metadata": {
        "colab": {
          "base_uri": "https://localhost:8080/"
        },
        "id": "RBlVbgcsf7Pz",
        "outputId": "0657342c-f97e-410b-b491-d65f69be86e8"
      },
      "source": [
        "# iterate over classifiers and calculate cross-validation score\n",
        "for name, clf in zip(names, classifiers):\n",
        "    scores = cross_val_score(clf, X_train, y_train, cv = 10, scoring='accuracy')\n",
        "    print(name , ':{:.4f}'.format(scores.mean()))"
      ],
      "execution_count": 51,
      "outputs": [
        {
          "output_type": "stream",
          "text": [
            "Logistic Regression :0.8092\n",
            "Nearest Neighbors :0.8229\n",
            "Naive Bayes :0.8287\n",
            "Linear SVM :0.7945\n",
            "RBF SVM :0.7990\n",
            "Decision Tree :0.8544\n",
            "Random Forest :0.8123\n",
            "AdaBoost :0.8498\n",
            "Gradient Boosting :0.8580\n",
            "LDA :0.8069\n",
            "QDA :0.8375\n",
            "Neural Net :0.8568\n",
            "XGBoost :0.8584\n"
          ],
          "name": "stdout"
        }
      ]
    },
    {
      "cell_type": "markdown",
      "metadata": {
        "id": "IADMKvrbhc_t"
      },
      "source": [
        "- It can be seen that cross-validation does not result in performance improvement."
      ]
    },
    {
      "cell_type": "markdown",
      "metadata": {
        "id": "ODwYmqu0kmYt"
      },
      "source": [
        "## **13. Results and Conclusion**\n",
        "\n",
        "\n",
        "-\tIn this project, we build an ML model to predict the churn-rate of the customer.\n",
        "-\tThere are no missing values in the dataset.\n",
        "-\t**RowNumber**, **CustomerId** and **Surname** have no predictive power. So, we have dropped them from the dataset.\n",
        "-\tThere are two categorical variables - **Gender** and **Geography**. We have converted them into numerical variable.\n",
        "-\tWe have trained the model with different algorithms and compare their accuracy.\n",
        "-\tXGBoost fared better than other algorithms and resulted in maximum accuracy of 0.866.\n",
        "-\tWe find the most important feature as **Age** and least important feature as **Gender**. Dropping the least important feature **Gender** does not result in performance improvement.\n",
        "-\tWe find :-\n",
        "   -\tTrue Positives (Actual Positive:1 and Predict Positive:1) - 1557\n",
        "   -\tTrue Negatives (Actual Negative:0 and Predict Negative:0) - 175\n",
        "   - \tFalse Positives (Actual Negative:0 but Predict Positive:1) - 50 (Type I error)\n",
        "   -\tFalse Negatives (Actual Positive:1 but Predict Negative:0) - 218 (Type II error)\n",
        "-\tCross-validation does not result in performance improvement.\n",
        "\n",
        "\n",
        "\n"
      ]
    },
    {
      "cell_type": "markdown",
      "metadata": {
        "id": "SWY-F-Zck4mM"
      },
      "source": [
        "## **14. References**\n",
        "\n",
        "This notebook is inspired from the following notebook-\n",
        "\n",
        "- https://learnpython.com/blog/python-customer-churn-prediction/"
      ]
    }
  ]
}