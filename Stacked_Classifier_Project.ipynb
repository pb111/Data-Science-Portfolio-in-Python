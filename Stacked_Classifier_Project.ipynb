{
  "nbformat": 4,
  "nbformat_minor": 0,
  "metadata": {
    "kernelspec": {
      "language": "python",
      "display_name": "Python 3",
      "name": "python3"
    },
    "language_info": {
      "pygments_lexer": "ipython3",
      "nbconvert_exporter": "python",
      "version": "3.6.4",
      "file_extension": ".py",
      "codemirror_mode": {
        "name": "ipython",
        "version": 3
      },
      "name": "python",
      "mimetype": "text/x-python"
    },
    "colab": {
      "name": "Stacked Classifier Project.ipynb",
      "provenance": [],
      "include_colab_link": true
    }
  },
  "cells": [
    {
      "cell_type": "markdown",
      "metadata": {
        "id": "view-in-github",
        "colab_type": "text"
      },
      "source": [
        "<a href=\"https://colab.research.google.com/github/pb111/Data-Science-Portfolio-in-Python/blob/master/Stacked_Classifier_Project.ipynb\" target=\"_parent\"><img src=\"https://colab.research.google.com/assets/colab-badge.svg\" alt=\"Open In Colab\"/></a>"
      ]
    },
    {
      "cell_type": "markdown",
      "metadata": {
        "id": "6qWqUnheV30d"
      },
      "source": [
        "# **Stacked Classifier Project** \n",
        "\n",
        "\n",
        "This notebook gives a very simple and basic introduction to an ensemble learning technique known as **stacking**. The objective of this notebook is to provide an intuitive understanding and implement **stacking**. We have used the famous titanic dataset for the illustration purposes.\n",
        "\n",
        "\n",
        "Now let's begin our journey to understand stacking. So, let's dive in."
      ]
    },
    {
      "cell_type": "markdown",
      "metadata": {
        "id": "hXoqmmDgV301"
      },
      "source": [
        "# **Table of Contents**\n",
        "\n",
        "- 1.\tIntroduction to Stacking\n",
        "- 2.\tStacking is prone to overfitting\n",
        "- 3.\tBasic set-up\n",
        "      - 3.1\tImport libraries\n",
        "      - 3.2\tLoad data\n",
        "- 4.\tData exploration\n",
        "      - 4.1\tShape of the datasets\n",
        "      - 4.2\tPreview datasets\n",
        "      - 4.3\tSummary of datasets\n",
        "      - 4.4\tCheck for missing values\n",
        "      - 4.5\tStatistical properties of dataset\n",
        "      - 4.6\tTypes of variables\n",
        "- 5.\tData Visualization\n",
        "      - 5.1\tMissing values\n",
        "      - 5.2\tExplore passenger variables\n",
        "          - 5.2.1\tSurvived\n",
        "          - 5.2.2\tSex\n",
        "          - 5.2.3\tPclass\n",
        "          - 5.2.4\tEmbarked\n",
        "          - 5.2.5\tAge\n",
        "      - 5.3\tVisualizations about training set\n",
        "      - 5.4\tCorrelation heatmap\n",
        "- 6.\tData Preprocessing\n",
        "      - 6.1\tMissing values imputation\n",
        "- 7.\tFeature Engineering\n",
        "- 8.\tCategorical Encoding\n",
        "- 9.\tFeature Scaling\n",
        "- 10.\tDeclare feature vector and target label\n",
        "- 11.\tIndividual Classifiers\n",
        "- 12.\tStacked Classifier\n",
        "\n",
        "\n",
        "\n",
        "\n",
        "\n"
      ]
    },
    {
      "cell_type": "markdown",
      "metadata": {
        "id": "eMRjGRebV301"
      },
      "source": [
        "## **1. Introduction to Stacking** \n",
        "\n",
        "\n",
        "- [Stacking](http://rasbt.github.io/mlxtend/user_guide/classifier/StackingClassifier/) is an ensemble machine learning technique to combine multiple individual classification models via a meta-classifier. \n",
        "\n",
        "- But, wait what is a meta-classifier?\n",
        "\n",
        "- Let's visualize the schematic representation of meta classifier below.\n"
      ]
    },
    {
      "cell_type": "markdown",
      "metadata": {
        "id": "0xlbnpeJV302"
      },
      "source": [
        "![Stacked Classifier](https://www.researchgate.net/profile/David_Powers2/publication/264125265/figure/fig1/AS:295914087436290@1447562824204/Fusion-system-based-on-stacking.png)"
      ]
    },
    {
      "cell_type": "markdown",
      "metadata": {
        "id": "KquiJvVXV302"
      },
      "source": [
        "From the above diagram, we can conclude that stacking can be thought of as a two step process -\n",
        "\n",
        "##### **Step 1** : In the first step, the individual classification models are trained based on the complete training set and their individual outputs are stored. These individual classification models are referred to as **Level One or Base Classifiers**.\n",
        "\n",
        "\n",
        "##### **Step 2** : In the second step, the predictions of individual classifiers (referred to as **Level One or Base Classifiers**) are used as new features to train a new classifier. This new classifier is called **Meta Classifier**. The meta-classifier can be any classifier of our choice. \n",
        "\n",
        "\n",
        "The meta-classifier is fitted based on the outputs -- **meta-features** -- of the individual classification models in the ensemble. The meta-classifier can either be trained on the predicted class labels or probabilities from the ensemble.\n",
        "\n",
        "The figure below shows how three different classifiers get trained. Their predictions get stacked and are used as features to train the meta-classifier which makes the final prediction."
      ]
    },
    {
      "cell_type": "markdown",
      "metadata": {
        "id": "W1yYxNZ6V303"
      },
      "source": [
        "![Stacked Classifier](https://miro.medium.com/max/2044/1*5O5_Men2op_sZsK6TTjD9g.png)"
      ]
    },
    {
      "cell_type": "markdown",
      "metadata": {
        "id": "2IiFxFGMV303"
      },
      "source": [
        "## **2. Stacking is prone to overfitting** \n",
        "\n",
        "\n",
        "- This type of Stacking is prone to overfitting due to information leakage.\n",
        "\n",
        "- To prevent information leakage into the training set from the target set, the level one predictions should come from a subset of the training data that was not used to train the level one classifiers.\n",
        "\n",
        "- This can be applied by applying k-fold cross validation technique. In this technique, the training data is split into k-folds. Then the first k-1 folds are used to train the level one classifiers. The validation fold is then used to generate a subset of the level one predictions. The process is repeated for each unique group to generate the level one predictions.\n",
        "\n",
        "- The figure below illustrates this process -"
      ]
    },
    {
      "cell_type": "markdown",
      "metadata": {
        "id": "l6AqEs2zV304"
      },
      "source": [
        "![k-fold Cross Validation Techniques](https://miro.medium.com/max/2972/1*RP0pkQEOSrw9_EjFu4w3gg.png)"
      ]
    },
    {
      "cell_type": "markdown",
      "metadata": {
        "id": "KhxCpBHvV304"
      },
      "source": [
        "- Now, let's get to implementation of stacking or stacked classifier.\n",
        "\n",
        "- The first step is to import the libraries and dataset"
      ]
    },
    {
      "cell_type": "markdown",
      "metadata": {
        "id": "JkO1YFAnV305"
      },
      "source": [
        "## **3. Basic set-up** \n",
        "\n"
      ]
    },
    {
      "cell_type": "markdown",
      "metadata": {
        "id": "MlyiGSF2V305"
      },
      "source": [
        "### **3.1 Import libraries** "
      ]
    },
    {
      "cell_type": "code",
      "metadata": {
        "_uuid": "8f2839f25d086af736a60e9eeb907d3b93b6e0e5",
        "_cell_guid": "b1076dfc-b9ad-4769-8c92-a6c4dae69d19",
        "trusted": true,
        "id": "0D4sb4nEV306"
      },
      "source": [
        "## Ignore warning\n",
        "import warnings \n",
        "warnings.filterwarnings('ignore') \n",
        "\n",
        "\n",
        "# Data processing and analysis libraries\n",
        "import numpy as np\n",
        "import pandas as pd\n",
        "import re\n",
        "\n",
        "\n",
        "# Data visualisation libraries\n",
        "import matplotlib.pyplot as plt\n",
        "import seaborn as sns\n",
        "import missingno as msno\n",
        "\n",
        "\n",
        "# Configure visualisations\n",
        "%matplotlib inline\n",
        "plt.style.use('fivethirtyeight')\n",
        "sns.set(context=\"notebook\", palette=\"dark\", style = 'whitegrid' , color_codes=True)\n",
        "\n",
        "\n",
        "# Classification algorithms\n",
        "from sklearn.linear_model import LogisticRegression\n",
        "from sklearn.svm import NuSVC, SVC\n",
        "from sklearn.tree import DecisionTreeClassifier\n",
        "from sklearn.ensemble import RandomForestClassifier, StackingClassifier\n",
        "from sklearn.neural_network import MLPClassifier\n",
        "\n",
        "\n",
        "# Data preprocessing :\n",
        "from sklearn.preprocessing import StandardScaler, LabelEncoder, OneHotEncoder\n",
        "\n",
        "\n",
        "# Modeling helper functions\n",
        "from sklearn.model_selection import train_test_split\n",
        "from sklearn.model_selection import GridSearchCV , KFold , cross_val_score\n",
        "\n",
        "\n",
        "# Classification metrices\n",
        "from sklearn.metrics import accuracy_score"
      ],
      "execution_count": 1,
      "outputs": []
    },
    {
      "cell_type": "markdown",
      "metadata": {
        "id": "tHZQ4n8-V309"
      },
      "source": [
        "### **3.2 Load data** \n",
        "\n"
      ]
    },
    {
      "cell_type": "code",
      "metadata": {
        "colab": {
          "base_uri": "https://localhost:8080/"
        },
        "id": "sdtgLIlwEk09",
        "outputId": "5f223b1e-f031-4cec-8419-813d8b450cd7"
      },
      "source": [
        "from google.colab import drive\n",
        "\n",
        "drive.mount('/content/drive')\n"
      ],
      "execution_count": 2,
      "outputs": [
        {
          "output_type": "stream",
          "text": [
            "Mounted at /content/drive\n"
          ],
          "name": "stdout"
        }
      ]
    },
    {
      "cell_type": "code",
      "metadata": {
        "_uuid": "d629ff2d2480ee46fbb7e2d37f6b5fab8052498a",
        "_cell_guid": "79c7e3d0-c299-4dcb-8224-4455121ee9b0",
        "trusted": true,
        "id": "_d50Ni0TV309",
        "colab": {
          "base_uri": "https://localhost:8080/"
        },
        "outputId": "a950efb2-0f09-4ca1-f6e4-64540913ec8b"
      },
      "source": [
        "# Load train and Test set\n",
        "\n",
        "%time\n",
        "\n",
        "train_df = pd.read_csv('/content/drive/MyDrive/datasets/Stacking/train.csv')\n",
        "test_df = pd.read_csv('/content/drive/MyDrive/datasets/Stacking/test.csv')\n",
        "submission_df = pd.read_csv('/content/drive/MyDrive/datasets/Stacking/gender_submission.csv')\n",
        "IDtest = test_df['PassengerId']"
      ],
      "execution_count": 5,
      "outputs": [
        {
          "output_type": "stream",
          "text": [
            "CPU times: user 3 µs, sys: 1e+03 ns, total: 4 µs\n",
            "Wall time: 7.87 µs\n"
          ],
          "name": "stdout"
        }
      ]
    },
    {
      "cell_type": "markdown",
      "metadata": {
        "id": "9v1YQVQxV30-"
      },
      "source": [
        "## **4. Data exploration** \n"
      ]
    },
    {
      "cell_type": "markdown",
      "metadata": {
        "id": "XBjHInFAV30-"
      },
      "source": [
        "### **4.1 Shape of the datasets**"
      ]
    },
    {
      "cell_type": "code",
      "metadata": {
        "trusted": true,
        "id": "9LEnVwrUV30_",
        "colab": {
          "base_uri": "https://localhost:8080/"
        },
        "outputId": "9c9cfe01-d0b6-4283-ffbb-0489e8a5272b"
      },
      "source": [
        "print(f'The shape of the training set : ', (train_df.shape))\n",
        "print(f'The shape of the test set : ', (test_df.shape))\n",
        "print(f'The shape of the submission set : ', (submission_df.shape))"
      ],
      "execution_count": 6,
      "outputs": [
        {
          "output_type": "stream",
          "text": [
            "The shape of the training set :  (891, 12)\n",
            "The shape of the test set :  (418, 11)\n",
            "The shape of the submission set :  (418, 2)\n"
          ],
          "name": "stdout"
        }
      ]
    },
    {
      "cell_type": "markdown",
      "metadata": {
        "id": "eSuTzf_OIItm"
      },
      "source": [
        "### **4.2 Preview datasets**"
      ]
    },
    {
      "cell_type": "code",
      "metadata": {
        "trusted": true,
        "id": "oDLMEfIzV30_",
        "colab": {
          "base_uri": "https://localhost:8080/",
          "height": 204
        },
        "outputId": "7a7f6242-3f4a-441c-b332-c8bcb1910739"
      },
      "source": [
        "train_df.head()"
      ],
      "execution_count": 7,
      "outputs": [
        {
          "output_type": "execute_result",
          "data": {
            "text/html": [
              "<div>\n",
              "<style scoped>\n",
              "    .dataframe tbody tr th:only-of-type {\n",
              "        vertical-align: middle;\n",
              "    }\n",
              "\n",
              "    .dataframe tbody tr th {\n",
              "        vertical-align: top;\n",
              "    }\n",
              "\n",
              "    .dataframe thead th {\n",
              "        text-align: right;\n",
              "    }\n",
              "</style>\n",
              "<table border=\"1\" class=\"dataframe\">\n",
              "  <thead>\n",
              "    <tr style=\"text-align: right;\">\n",
              "      <th></th>\n",
              "      <th>PassengerId</th>\n",
              "      <th>Survived</th>\n",
              "      <th>Pclass</th>\n",
              "      <th>Name</th>\n",
              "      <th>Sex</th>\n",
              "      <th>Age</th>\n",
              "      <th>SibSp</th>\n",
              "      <th>Parch</th>\n",
              "      <th>Ticket</th>\n",
              "      <th>Fare</th>\n",
              "      <th>Cabin</th>\n",
              "      <th>Embarked</th>\n",
              "    </tr>\n",
              "  </thead>\n",
              "  <tbody>\n",
              "    <tr>\n",
              "      <th>0</th>\n",
              "      <td>1</td>\n",
              "      <td>0</td>\n",
              "      <td>3</td>\n",
              "      <td>Braund, Mr. Owen Harris</td>\n",
              "      <td>male</td>\n",
              "      <td>22.0</td>\n",
              "      <td>1</td>\n",
              "      <td>0</td>\n",
              "      <td>A/5 21171</td>\n",
              "      <td>7.2500</td>\n",
              "      <td>NaN</td>\n",
              "      <td>S</td>\n",
              "    </tr>\n",
              "    <tr>\n",
              "      <th>1</th>\n",
              "      <td>2</td>\n",
              "      <td>1</td>\n",
              "      <td>1</td>\n",
              "      <td>Cumings, Mrs. John Bradley (Florence Briggs Th...</td>\n",
              "      <td>female</td>\n",
              "      <td>38.0</td>\n",
              "      <td>1</td>\n",
              "      <td>0</td>\n",
              "      <td>PC 17599</td>\n",
              "      <td>71.2833</td>\n",
              "      <td>C85</td>\n",
              "      <td>C</td>\n",
              "    </tr>\n",
              "    <tr>\n",
              "      <th>2</th>\n",
              "      <td>3</td>\n",
              "      <td>1</td>\n",
              "      <td>3</td>\n",
              "      <td>Heikkinen, Miss. Laina</td>\n",
              "      <td>female</td>\n",
              "      <td>26.0</td>\n",
              "      <td>0</td>\n",
              "      <td>0</td>\n",
              "      <td>STON/O2. 3101282</td>\n",
              "      <td>7.9250</td>\n",
              "      <td>NaN</td>\n",
              "      <td>S</td>\n",
              "    </tr>\n",
              "    <tr>\n",
              "      <th>3</th>\n",
              "      <td>4</td>\n",
              "      <td>1</td>\n",
              "      <td>1</td>\n",
              "      <td>Futrelle, Mrs. Jacques Heath (Lily May Peel)</td>\n",
              "      <td>female</td>\n",
              "      <td>35.0</td>\n",
              "      <td>1</td>\n",
              "      <td>0</td>\n",
              "      <td>113803</td>\n",
              "      <td>53.1000</td>\n",
              "      <td>C123</td>\n",
              "      <td>S</td>\n",
              "    </tr>\n",
              "    <tr>\n",
              "      <th>4</th>\n",
              "      <td>5</td>\n",
              "      <td>0</td>\n",
              "      <td>3</td>\n",
              "      <td>Allen, Mr. William Henry</td>\n",
              "      <td>male</td>\n",
              "      <td>35.0</td>\n",
              "      <td>0</td>\n",
              "      <td>0</td>\n",
              "      <td>373450</td>\n",
              "      <td>8.0500</td>\n",
              "      <td>NaN</td>\n",
              "      <td>S</td>\n",
              "    </tr>\n",
              "  </tbody>\n",
              "</table>\n",
              "</div>"
            ],
            "text/plain": [
              "   PassengerId  Survived  Pclass  ...     Fare Cabin  Embarked\n",
              "0            1         0       3  ...   7.2500   NaN         S\n",
              "1            2         1       1  ...  71.2833   C85         C\n",
              "2            3         1       3  ...   7.9250   NaN         S\n",
              "3            4         1       1  ...  53.1000  C123         S\n",
              "4            5         0       3  ...   8.0500   NaN         S\n",
              "\n",
              "[5 rows x 12 columns]"
            ]
          },
          "metadata": {
            "tags": []
          },
          "execution_count": 7
        }
      ]
    },
    {
      "cell_type": "code",
      "metadata": {
        "trusted": true,
        "id": "fyISLpS5V31A",
        "colab": {
          "base_uri": "https://localhost:8080/",
          "height": 204
        },
        "outputId": "392b4241-ab4d-4af1-a9f0-b567339aae41"
      },
      "source": [
        "test_df.head()"
      ],
      "execution_count": 8,
      "outputs": [
        {
          "output_type": "execute_result",
          "data": {
            "text/html": [
              "<div>\n",
              "<style scoped>\n",
              "    .dataframe tbody tr th:only-of-type {\n",
              "        vertical-align: middle;\n",
              "    }\n",
              "\n",
              "    .dataframe tbody tr th {\n",
              "        vertical-align: top;\n",
              "    }\n",
              "\n",
              "    .dataframe thead th {\n",
              "        text-align: right;\n",
              "    }\n",
              "</style>\n",
              "<table border=\"1\" class=\"dataframe\">\n",
              "  <thead>\n",
              "    <tr style=\"text-align: right;\">\n",
              "      <th></th>\n",
              "      <th>PassengerId</th>\n",
              "      <th>Pclass</th>\n",
              "      <th>Name</th>\n",
              "      <th>Sex</th>\n",
              "      <th>Age</th>\n",
              "      <th>SibSp</th>\n",
              "      <th>Parch</th>\n",
              "      <th>Ticket</th>\n",
              "      <th>Fare</th>\n",
              "      <th>Cabin</th>\n",
              "      <th>Embarked</th>\n",
              "    </tr>\n",
              "  </thead>\n",
              "  <tbody>\n",
              "    <tr>\n",
              "      <th>0</th>\n",
              "      <td>892</td>\n",
              "      <td>3</td>\n",
              "      <td>Kelly, Mr. James</td>\n",
              "      <td>male</td>\n",
              "      <td>34.5</td>\n",
              "      <td>0</td>\n",
              "      <td>0</td>\n",
              "      <td>330911</td>\n",
              "      <td>7.8292</td>\n",
              "      <td>NaN</td>\n",
              "      <td>Q</td>\n",
              "    </tr>\n",
              "    <tr>\n",
              "      <th>1</th>\n",
              "      <td>893</td>\n",
              "      <td>3</td>\n",
              "      <td>Wilkes, Mrs. James (Ellen Needs)</td>\n",
              "      <td>female</td>\n",
              "      <td>47.0</td>\n",
              "      <td>1</td>\n",
              "      <td>0</td>\n",
              "      <td>363272</td>\n",
              "      <td>7.0000</td>\n",
              "      <td>NaN</td>\n",
              "      <td>S</td>\n",
              "    </tr>\n",
              "    <tr>\n",
              "      <th>2</th>\n",
              "      <td>894</td>\n",
              "      <td>2</td>\n",
              "      <td>Myles, Mr. Thomas Francis</td>\n",
              "      <td>male</td>\n",
              "      <td>62.0</td>\n",
              "      <td>0</td>\n",
              "      <td>0</td>\n",
              "      <td>240276</td>\n",
              "      <td>9.6875</td>\n",
              "      <td>NaN</td>\n",
              "      <td>Q</td>\n",
              "    </tr>\n",
              "    <tr>\n",
              "      <th>3</th>\n",
              "      <td>895</td>\n",
              "      <td>3</td>\n",
              "      <td>Wirz, Mr. Albert</td>\n",
              "      <td>male</td>\n",
              "      <td>27.0</td>\n",
              "      <td>0</td>\n",
              "      <td>0</td>\n",
              "      <td>315154</td>\n",
              "      <td>8.6625</td>\n",
              "      <td>NaN</td>\n",
              "      <td>S</td>\n",
              "    </tr>\n",
              "    <tr>\n",
              "      <th>4</th>\n",
              "      <td>896</td>\n",
              "      <td>3</td>\n",
              "      <td>Hirvonen, Mrs. Alexander (Helga E Lindqvist)</td>\n",
              "      <td>female</td>\n",
              "      <td>22.0</td>\n",
              "      <td>1</td>\n",
              "      <td>1</td>\n",
              "      <td>3101298</td>\n",
              "      <td>12.2875</td>\n",
              "      <td>NaN</td>\n",
              "      <td>S</td>\n",
              "    </tr>\n",
              "  </tbody>\n",
              "</table>\n",
              "</div>"
            ],
            "text/plain": [
              "   PassengerId  Pclass  ... Cabin Embarked\n",
              "0          892       3  ...   NaN        Q\n",
              "1          893       3  ...   NaN        S\n",
              "2          894       2  ...   NaN        Q\n",
              "3          895       3  ...   NaN        S\n",
              "4          896       3  ...   NaN        S\n",
              "\n",
              "[5 rows x 11 columns]"
            ]
          },
          "metadata": {
            "tags": []
          },
          "execution_count": 8
        }
      ]
    },
    {
      "cell_type": "markdown",
      "metadata": {
        "id": "wXeZCsOXV31B"
      },
      "source": [
        "### **4.3 Summary of datasets**"
      ]
    },
    {
      "cell_type": "code",
      "metadata": {
        "trusted": true,
        "id": "udo4hdtSV31B",
        "colab": {
          "base_uri": "https://localhost:8080/"
        },
        "outputId": "a8617b60-9698-4d00-e7ea-45e5df8df8d7"
      },
      "source": [
        "train_df.info()"
      ],
      "execution_count": 9,
      "outputs": [
        {
          "output_type": "stream",
          "text": [
            "<class 'pandas.core.frame.DataFrame'>\n",
            "RangeIndex: 891 entries, 0 to 890\n",
            "Data columns (total 12 columns):\n",
            " #   Column       Non-Null Count  Dtype  \n",
            "---  ------       --------------  -----  \n",
            " 0   PassengerId  891 non-null    int64  \n",
            " 1   Survived     891 non-null    int64  \n",
            " 2   Pclass       891 non-null    int64  \n",
            " 3   Name         891 non-null    object \n",
            " 4   Sex          891 non-null    object \n",
            " 5   Age          714 non-null    float64\n",
            " 6   SibSp        891 non-null    int64  \n",
            " 7   Parch        891 non-null    int64  \n",
            " 8   Ticket       891 non-null    object \n",
            " 9   Fare         891 non-null    float64\n",
            " 10  Cabin        204 non-null    object \n",
            " 11  Embarked     889 non-null    object \n",
            "dtypes: float64(2), int64(5), object(5)\n",
            "memory usage: 83.7+ KB\n"
          ],
          "name": "stdout"
        }
      ]
    },
    {
      "cell_type": "markdown",
      "metadata": {
        "id": "fFv4p0n2V31C"
      },
      "source": [
        "We suspect missing values in `Age`,`Cabin` and `Embarked` in training set. We will explore it later."
      ]
    },
    {
      "cell_type": "code",
      "metadata": {
        "trusted": true,
        "id": "fEQtR3pbV31C",
        "colab": {
          "base_uri": "https://localhost:8080/"
        },
        "outputId": "e0ff2b3f-7fef-4c07-ed4d-b20497b7e46f"
      },
      "source": [
        "test_df.info()"
      ],
      "execution_count": 10,
      "outputs": [
        {
          "output_type": "stream",
          "text": [
            "<class 'pandas.core.frame.DataFrame'>\n",
            "RangeIndex: 418 entries, 0 to 417\n",
            "Data columns (total 11 columns):\n",
            " #   Column       Non-Null Count  Dtype  \n",
            "---  ------       --------------  -----  \n",
            " 0   PassengerId  418 non-null    int64  \n",
            " 1   Pclass       418 non-null    int64  \n",
            " 2   Name         418 non-null    object \n",
            " 3   Sex          418 non-null    object \n",
            " 4   Age          332 non-null    float64\n",
            " 5   SibSp        418 non-null    int64  \n",
            " 6   Parch        418 non-null    int64  \n",
            " 7   Ticket       418 non-null    object \n",
            " 8   Fare         417 non-null    float64\n",
            " 9   Cabin        91 non-null     object \n",
            " 10  Embarked     418 non-null    object \n",
            "dtypes: float64(2), int64(4), object(5)\n",
            "memory usage: 36.0+ KB\n"
          ],
          "name": "stdout"
        }
      ]
    },
    {
      "cell_type": "markdown",
      "metadata": {
        "id": "SzZ0sarJV31C"
      },
      "source": [
        "Here, missing values occur in `Age`,`Fare` and `Cabin`. We will see it later."
      ]
    },
    {
      "cell_type": "markdown",
      "metadata": {
        "id": "vYqs0fwUV31D"
      },
      "source": [
        "### **4.4 Check for missing values**"
      ]
    },
    {
      "cell_type": "code",
      "metadata": {
        "trusted": true,
        "id": "vVPbdx7dV31D",
        "colab": {
          "base_uri": "https://localhost:8080/"
        },
        "outputId": "96abe8b6-1411-435f-af58-2f58deefde73"
      },
      "source": [
        "# missing values in training set\n",
        "\n",
        "var1 = [col for col in train_df.columns if train_df[col].isnull().sum() != 0]\n",
        "\n",
        "print(train_df[var1].isnull().sum())"
      ],
      "execution_count": 11,
      "outputs": [
        {
          "output_type": "stream",
          "text": [
            "Age         177\n",
            "Cabin       687\n",
            "Embarked      2\n",
            "dtype: int64\n"
          ],
          "name": "stdout"
        }
      ]
    },
    {
      "cell_type": "markdown",
      "metadata": {
        "id": "d5hvX8WlV31D"
      },
      "source": [
        "So, we are right that `Age`, `Cabin` and `Embarked` contain missing values in training set."
      ]
    },
    {
      "cell_type": "code",
      "metadata": {
        "trusted": true,
        "id": "lB40yRfzV31E",
        "colab": {
          "base_uri": "https://localhost:8080/"
        },
        "outputId": "d26fa158-cd69-42d6-c615-b0696c363eea"
      },
      "source": [
        "# missing values in test set\n",
        "\n",
        "var2 = [col for col in test_df.columns if test_df[col].isnull().sum() != 0]\n",
        "\n",
        "print(test_df[var2].isnull().sum())"
      ],
      "execution_count": 12,
      "outputs": [
        {
          "output_type": "stream",
          "text": [
            "Age       86\n",
            "Fare       1\n",
            "Cabin    327\n",
            "dtype: int64\n"
          ],
          "name": "stdout"
        }
      ]
    },
    {
      "cell_type": "markdown",
      "metadata": {
        "id": "FAuW7M-eV31E"
      },
      "source": [
        "`Age`, `Fare` and `Cabin` contain missing values in test set."
      ]
    },
    {
      "cell_type": "markdown",
      "metadata": {
        "id": "MuaSWW9uV31E"
      },
      "source": [
        "### **4.5 Statistical properties of dataset**"
      ]
    },
    {
      "cell_type": "code",
      "metadata": {
        "trusted": true,
        "id": "KaHXvDbiV31F",
        "colab": {
          "base_uri": "https://localhost:8080/",
          "height": 297
        },
        "outputId": "86733e89-fbd2-40f2-8355-3fe747a6081e"
      },
      "source": [
        "train_df.describe()"
      ],
      "execution_count": 13,
      "outputs": [
        {
          "output_type": "execute_result",
          "data": {
            "text/html": [
              "<div>\n",
              "<style scoped>\n",
              "    .dataframe tbody tr th:only-of-type {\n",
              "        vertical-align: middle;\n",
              "    }\n",
              "\n",
              "    .dataframe tbody tr th {\n",
              "        vertical-align: top;\n",
              "    }\n",
              "\n",
              "    .dataframe thead th {\n",
              "        text-align: right;\n",
              "    }\n",
              "</style>\n",
              "<table border=\"1\" class=\"dataframe\">\n",
              "  <thead>\n",
              "    <tr style=\"text-align: right;\">\n",
              "      <th></th>\n",
              "      <th>PassengerId</th>\n",
              "      <th>Survived</th>\n",
              "      <th>Pclass</th>\n",
              "      <th>Age</th>\n",
              "      <th>SibSp</th>\n",
              "      <th>Parch</th>\n",
              "      <th>Fare</th>\n",
              "    </tr>\n",
              "  </thead>\n",
              "  <tbody>\n",
              "    <tr>\n",
              "      <th>count</th>\n",
              "      <td>891.000000</td>\n",
              "      <td>891.000000</td>\n",
              "      <td>891.000000</td>\n",
              "      <td>714.000000</td>\n",
              "      <td>891.000000</td>\n",
              "      <td>891.000000</td>\n",
              "      <td>891.000000</td>\n",
              "    </tr>\n",
              "    <tr>\n",
              "      <th>mean</th>\n",
              "      <td>446.000000</td>\n",
              "      <td>0.383838</td>\n",
              "      <td>2.308642</td>\n",
              "      <td>29.699118</td>\n",
              "      <td>0.523008</td>\n",
              "      <td>0.381594</td>\n",
              "      <td>32.204208</td>\n",
              "    </tr>\n",
              "    <tr>\n",
              "      <th>std</th>\n",
              "      <td>257.353842</td>\n",
              "      <td>0.486592</td>\n",
              "      <td>0.836071</td>\n",
              "      <td>14.526497</td>\n",
              "      <td>1.102743</td>\n",
              "      <td>0.806057</td>\n",
              "      <td>49.693429</td>\n",
              "    </tr>\n",
              "    <tr>\n",
              "      <th>min</th>\n",
              "      <td>1.000000</td>\n",
              "      <td>0.000000</td>\n",
              "      <td>1.000000</td>\n",
              "      <td>0.420000</td>\n",
              "      <td>0.000000</td>\n",
              "      <td>0.000000</td>\n",
              "      <td>0.000000</td>\n",
              "    </tr>\n",
              "    <tr>\n",
              "      <th>25%</th>\n",
              "      <td>223.500000</td>\n",
              "      <td>0.000000</td>\n",
              "      <td>2.000000</td>\n",
              "      <td>20.125000</td>\n",
              "      <td>0.000000</td>\n",
              "      <td>0.000000</td>\n",
              "      <td>7.910400</td>\n",
              "    </tr>\n",
              "    <tr>\n",
              "      <th>50%</th>\n",
              "      <td>446.000000</td>\n",
              "      <td>0.000000</td>\n",
              "      <td>3.000000</td>\n",
              "      <td>28.000000</td>\n",
              "      <td>0.000000</td>\n",
              "      <td>0.000000</td>\n",
              "      <td>14.454200</td>\n",
              "    </tr>\n",
              "    <tr>\n",
              "      <th>75%</th>\n",
              "      <td>668.500000</td>\n",
              "      <td>1.000000</td>\n",
              "      <td>3.000000</td>\n",
              "      <td>38.000000</td>\n",
              "      <td>1.000000</td>\n",
              "      <td>0.000000</td>\n",
              "      <td>31.000000</td>\n",
              "    </tr>\n",
              "    <tr>\n",
              "      <th>max</th>\n",
              "      <td>891.000000</td>\n",
              "      <td>1.000000</td>\n",
              "      <td>3.000000</td>\n",
              "      <td>80.000000</td>\n",
              "      <td>8.000000</td>\n",
              "      <td>6.000000</td>\n",
              "      <td>512.329200</td>\n",
              "    </tr>\n",
              "  </tbody>\n",
              "</table>\n",
              "</div>"
            ],
            "text/plain": [
              "       PassengerId    Survived      Pclass  ...       SibSp       Parch        Fare\n",
              "count   891.000000  891.000000  891.000000  ...  891.000000  891.000000  891.000000\n",
              "mean    446.000000    0.383838    2.308642  ...    0.523008    0.381594   32.204208\n",
              "std     257.353842    0.486592    0.836071  ...    1.102743    0.806057   49.693429\n",
              "min       1.000000    0.000000    1.000000  ...    0.000000    0.000000    0.000000\n",
              "25%     223.500000    0.000000    2.000000  ...    0.000000    0.000000    7.910400\n",
              "50%     446.000000    0.000000    3.000000  ...    0.000000    0.000000   14.454200\n",
              "75%     668.500000    1.000000    3.000000  ...    1.000000    0.000000   31.000000\n",
              "max     891.000000    1.000000    3.000000  ...    8.000000    6.000000  512.329200\n",
              "\n",
              "[8 rows x 7 columns]"
            ]
          },
          "metadata": {
            "tags": []
          },
          "execution_count": 13
        }
      ]
    },
    {
      "cell_type": "code",
      "metadata": {
        "trusted": true,
        "id": "O6wFY6f4V31F",
        "colab": {
          "base_uri": "https://localhost:8080/",
          "height": 297
        },
        "outputId": "ccbd69f6-c444-43a1-a1cc-83e71d050f95"
      },
      "source": [
        "test_df.describe()"
      ],
      "execution_count": 14,
      "outputs": [
        {
          "output_type": "execute_result",
          "data": {
            "text/html": [
              "<div>\n",
              "<style scoped>\n",
              "    .dataframe tbody tr th:only-of-type {\n",
              "        vertical-align: middle;\n",
              "    }\n",
              "\n",
              "    .dataframe tbody tr th {\n",
              "        vertical-align: top;\n",
              "    }\n",
              "\n",
              "    .dataframe thead th {\n",
              "        text-align: right;\n",
              "    }\n",
              "</style>\n",
              "<table border=\"1\" class=\"dataframe\">\n",
              "  <thead>\n",
              "    <tr style=\"text-align: right;\">\n",
              "      <th></th>\n",
              "      <th>PassengerId</th>\n",
              "      <th>Pclass</th>\n",
              "      <th>Age</th>\n",
              "      <th>SibSp</th>\n",
              "      <th>Parch</th>\n",
              "      <th>Fare</th>\n",
              "    </tr>\n",
              "  </thead>\n",
              "  <tbody>\n",
              "    <tr>\n",
              "      <th>count</th>\n",
              "      <td>418.000000</td>\n",
              "      <td>418.000000</td>\n",
              "      <td>332.000000</td>\n",
              "      <td>418.000000</td>\n",
              "      <td>418.000000</td>\n",
              "      <td>417.000000</td>\n",
              "    </tr>\n",
              "    <tr>\n",
              "      <th>mean</th>\n",
              "      <td>1100.500000</td>\n",
              "      <td>2.265550</td>\n",
              "      <td>30.272590</td>\n",
              "      <td>0.447368</td>\n",
              "      <td>0.392344</td>\n",
              "      <td>35.627188</td>\n",
              "    </tr>\n",
              "    <tr>\n",
              "      <th>std</th>\n",
              "      <td>120.810458</td>\n",
              "      <td>0.841838</td>\n",
              "      <td>14.181209</td>\n",
              "      <td>0.896760</td>\n",
              "      <td>0.981429</td>\n",
              "      <td>55.907576</td>\n",
              "    </tr>\n",
              "    <tr>\n",
              "      <th>min</th>\n",
              "      <td>892.000000</td>\n",
              "      <td>1.000000</td>\n",
              "      <td>0.170000</td>\n",
              "      <td>0.000000</td>\n",
              "      <td>0.000000</td>\n",
              "      <td>0.000000</td>\n",
              "    </tr>\n",
              "    <tr>\n",
              "      <th>25%</th>\n",
              "      <td>996.250000</td>\n",
              "      <td>1.000000</td>\n",
              "      <td>21.000000</td>\n",
              "      <td>0.000000</td>\n",
              "      <td>0.000000</td>\n",
              "      <td>7.895800</td>\n",
              "    </tr>\n",
              "    <tr>\n",
              "      <th>50%</th>\n",
              "      <td>1100.500000</td>\n",
              "      <td>3.000000</td>\n",
              "      <td>27.000000</td>\n",
              "      <td>0.000000</td>\n",
              "      <td>0.000000</td>\n",
              "      <td>14.454200</td>\n",
              "    </tr>\n",
              "    <tr>\n",
              "      <th>75%</th>\n",
              "      <td>1204.750000</td>\n",
              "      <td>3.000000</td>\n",
              "      <td>39.000000</td>\n",
              "      <td>1.000000</td>\n",
              "      <td>0.000000</td>\n",
              "      <td>31.500000</td>\n",
              "    </tr>\n",
              "    <tr>\n",
              "      <th>max</th>\n",
              "      <td>1309.000000</td>\n",
              "      <td>3.000000</td>\n",
              "      <td>76.000000</td>\n",
              "      <td>8.000000</td>\n",
              "      <td>9.000000</td>\n",
              "      <td>512.329200</td>\n",
              "    </tr>\n",
              "  </tbody>\n",
              "</table>\n",
              "</div>"
            ],
            "text/plain": [
              "       PassengerId      Pclass         Age       SibSp       Parch        Fare\n",
              "count   418.000000  418.000000  332.000000  418.000000  418.000000  417.000000\n",
              "mean   1100.500000    2.265550   30.272590    0.447368    0.392344   35.627188\n",
              "std     120.810458    0.841838   14.181209    0.896760    0.981429   55.907576\n",
              "min     892.000000    1.000000    0.170000    0.000000    0.000000    0.000000\n",
              "25%     996.250000    1.000000   21.000000    0.000000    0.000000    7.895800\n",
              "50%    1100.500000    3.000000   27.000000    0.000000    0.000000   14.454200\n",
              "75%    1204.750000    3.000000   39.000000    1.000000    0.000000   31.500000\n",
              "max    1309.000000    3.000000   76.000000    8.000000    9.000000  512.329200"
            ]
          },
          "metadata": {
            "tags": []
          },
          "execution_count": 14
        }
      ]
    },
    {
      "cell_type": "markdown",
      "metadata": {
        "id": "-NfitD2gV31F"
      },
      "source": [
        "### **4.6 Types of variables**\n",
        "\n",
        "\n",
        "Now, we will classify the variables into categorical and numerical variables."
      ]
    },
    {
      "cell_type": "code",
      "metadata": {
        "trusted": true,
        "id": "yP5_s62MV31G",
        "colab": {
          "base_uri": "https://localhost:8080/"
        },
        "outputId": "15d1f873-35e6-4135-d21d-0f98ada7c391"
      },
      "source": [
        "# find categorical variables in training set\n",
        "\n",
        "categorical1 = [var for var in train_df.columns if train_df[var].dtype =='O']\n",
        "\n",
        "print('There are {} categorical variables in training set.\\n'.format(len(categorical1)))\n",
        "\n",
        "print('The categorical variables are :', categorical1)"
      ],
      "execution_count": 15,
      "outputs": [
        {
          "output_type": "stream",
          "text": [
            "There are 5 categorical variables in training set.\n",
            "\n",
            "The categorical variables are : ['Name', 'Sex', 'Ticket', 'Cabin', 'Embarked']\n"
          ],
          "name": "stdout"
        }
      ]
    },
    {
      "cell_type": "code",
      "metadata": {
        "trusted": true,
        "id": "ECD2zm9KV31G",
        "colab": {
          "base_uri": "https://localhost:8080/"
        },
        "outputId": "882deeb4-d381-401a-ab7a-e406a3d7c642"
      },
      "source": [
        "# find numerical variables in training set\n",
        "\n",
        "numerical1 = [var for var in train_df.columns if train_df[var].dtype !='O']\n",
        "\n",
        "print('There are {} numerical variables in training set.\\n'.format(len(numerical1)))\n",
        "\n",
        "print('The numerical variables are :', numerical1)"
      ],
      "execution_count": 16,
      "outputs": [
        {
          "output_type": "stream",
          "text": [
            "There are 7 numerical variables in training set.\n",
            "\n",
            "The numerical variables are : ['PassengerId', 'Survived', 'Pclass', 'Age', 'SibSp', 'Parch', 'Fare']\n"
          ],
          "name": "stdout"
        }
      ]
    },
    {
      "cell_type": "code",
      "metadata": {
        "trusted": true,
        "id": "2J4BZoiRV31G",
        "colab": {
          "base_uri": "https://localhost:8080/"
        },
        "outputId": "e4741db6-2e4f-4805-ee7d-0117ab6f4f1e"
      },
      "source": [
        "# find categorical variables in test set\n",
        "\n",
        "categorical2 = [var for var in test_df.columns if test_df[var].dtype =='O']\n",
        "\n",
        "print('There are {} categorical variables in test set.\\n'.format(len(categorical2)))\n",
        "\n",
        "print('The categorical variables are :', categorical2)"
      ],
      "execution_count": 17,
      "outputs": [
        {
          "output_type": "stream",
          "text": [
            "There are 5 categorical variables in test set.\n",
            "\n",
            "The categorical variables are : ['Name', 'Sex', 'Ticket', 'Cabin', 'Embarked']\n"
          ],
          "name": "stdout"
        }
      ]
    },
    {
      "cell_type": "code",
      "metadata": {
        "trusted": true,
        "id": "n-F-xbeCV31H",
        "colab": {
          "base_uri": "https://localhost:8080/"
        },
        "outputId": "a3e7d404-340c-4791-a110-f80c144eaf80"
      },
      "source": [
        "# find numerical variables in test set\n",
        "\n",
        "numerical2 = [var for var in test_df.columns if test_df[var].dtype !='O']\n",
        "\n",
        "print('There are {} numerical variables in test set.\\n'.format(len(numerical2)))\n",
        "\n",
        "print('The numerical variables are :', numerical2)"
      ],
      "execution_count": 18,
      "outputs": [
        {
          "output_type": "stream",
          "text": [
            "There are 6 numerical variables in test set.\n",
            "\n",
            "The numerical variables are : ['PassengerId', 'Pclass', 'Age', 'SibSp', 'Parch', 'Fare']\n"
          ],
          "name": "stdout"
        }
      ]
    },
    {
      "cell_type": "markdown",
      "metadata": {
        "id": "l0aogQbuV31H"
      },
      "source": [
        "## **5. Data Visualization** \n"
      ]
    },
    {
      "cell_type": "markdown",
      "metadata": {
        "id": "tXzntkYLV31I"
      },
      "source": [
        "### **5.1 Missing values** "
      ]
    },
    {
      "cell_type": "code",
      "metadata": {
        "trusted": true,
        "id": "mMblo5BbV31I",
        "colab": {
          "base_uri": "https://localhost:8080/",
          "height": 452
        },
        "outputId": "213c8d29-1b9d-4a3f-e866-db35a7edf7a0"
      },
      "source": [
        "# view missing values in training set\n",
        "\n",
        "msno.matrix(train_df, figsize = (30,10))"
      ],
      "execution_count": 19,
      "outputs": [
        {
          "output_type": "execute_result",
          "data": {
            "text/plain": [
              "<matplotlib.axes._subplots.AxesSubplot at 0x7f307c3607d0>"
            ]
          },
          "metadata": {
            "tags": []
          },
          "execution_count": 19
        },
        {
          "output_type": "display_data",
          "data": {
            "image/png": "[encoded data removed]",
            "text/plain": [
              "<Figure size 2160x720 with 2 Axes>"
            ]
          },
          "metadata": {
            "tags": [],
            "needs_background": "light"
          }
        }
      ]
    },
    {
      "cell_type": "code",
      "metadata": {
        "trusted": true,
        "id": "Vv2ZwvVNV31J",
        "colab": {
          "base_uri": "https://localhost:8080/",
          "height": 451
        },
        "outputId": "4e8e1df5-65e0-4a2f-dc4e-087576055ee0"
      },
      "source": [
        "# view missing values in test set\n",
        "\n",
        "msno.matrix(test_df, figsize = (30,10))"
      ],
      "execution_count": 20,
      "outputs": [
        {
          "output_type": "execute_result",
          "data": {
            "text/plain": [
              "<matplotlib.axes._subplots.AxesSubplot at 0x7f30742ac790>"
            ]
          },
          "metadata": {
            "tags": []
          },
          "execution_count": 20
        },
        {
          "output_type": "display_data",
          "data": {
            "image/png": "[encoded data removed]",
            "text/plain": [
              "<Figure size 2160x720 with 2 Axes>"
            ]
          },
          "metadata": {
            "tags": [],
            "needs_background": "light"
          }
        }
      ]
    },
    {
      "cell_type": "markdown",
      "metadata": {
        "id": "HYtqK7EqUE8u"
      },
      "source": [
        "### **5.2 Explore passenger variables**"
      ]
    },
    {
      "cell_type": "markdown",
      "metadata": {
        "id": "bJUOYGGQV31J"
      },
      "source": [
        "#### **5.2.1 Survived**  "
      ]
    },
    {
      "cell_type": "code",
      "metadata": {
        "trusted": true,
        "id": "AoKKX5TqV31K",
        "colab": {
          "base_uri": "https://localhost:8080/"
        },
        "outputId": "ddadd7fd-d6ca-4589-a035-a3a15a13b4aa"
      },
      "source": [
        "train_df['Survived'].value_counts()"
      ],
      "execution_count": 21,
      "outputs": [
        {
          "output_type": "execute_result",
          "data": {
            "text/plain": [
              "0    549\n",
              "1    342\n",
              "Name: Survived, dtype: int64"
            ]
          },
          "metadata": {
            "tags": []
          },
          "execution_count": 21
        }
      ]
    },
    {
      "cell_type": "markdown",
      "metadata": {
        "id": "ZI-VqSWAV31K"
      },
      "source": [
        "Here 0 stands for not survived and 1 stands for survived.\n",
        "\n",
        "So, 549 people survived and 342 people did not survive.\n",
        "\n",
        "Let's visualize it by plotting."
      ]
    },
    {
      "cell_type": "code",
      "metadata": {
        "trusted": true,
        "id": "rI5ehAVhV31K",
        "colab": {
          "base_uri": "https://localhost:8080/",
          "height": 412
        },
        "outputId": "beb3ee4e-a43d-414e-9da4-4b5f2de3b4a0"
      },
      "source": [
        "fig, ax = plt.subplots(figsize=(6,6))\n",
        "graph = sns.countplot(ax=ax,x=train_df['Survived'], data = train_df, palette = 'PuBuGn_d')\n",
        "graph.set_title('Distribution of people who survived', fontsize = 12)\n",
        "graph.set_xticklabels(graph.get_xticklabels(),rotation=30)\n",
        "for p in graph.patches:\n",
        "    height = p.get_height()\n",
        "    graph.text(p.get_x()+p.get_width()/2., height + 0.1,height ,ha=\"center\")"
      ],
      "execution_count": 22,
      "outputs": [
        {
          "output_type": "display_data",
          "data": {
            "image/png": "[encoded data removed]",
            "text/plain": [
              "<Figure size 432x432 with 1 Axes>"
            ]
          },
          "metadata": {
            "tags": [],
            "needs_background": "light"
          }
        }
      ]
    },
    {
      "cell_type": "markdown",
      "metadata": {
        "id": "o-KF_HVuV31L"
      },
      "source": [
        "Now females have higher probability of survival than males.\n",
        "\n",
        "Let' check it"
      ]
    },
    {
      "cell_type": "code",
      "metadata": {
        "trusted": true,
        "id": "VvYEcpsJV31L",
        "colab": {
          "base_uri": "https://localhost:8080/"
        },
        "outputId": "fbdb60d9-ef1d-4687-e7eb-4279672b1d70"
      },
      "source": [
        "train_df.groupby('Survived')['Sex'].value_counts()"
      ],
      "execution_count": 23,
      "outputs": [
        {
          "output_type": "execute_result",
          "data": {
            "text/plain": [
              "Survived  Sex   \n",
              "0         male      468\n",
              "          female     81\n",
              "1         female    233\n",
              "          male      109\n",
              "Name: Sex, dtype: int64"
            ]
          },
          "metadata": {
            "tags": []
          },
          "execution_count": 23
        }
      ]
    },
    {
      "cell_type": "code",
      "metadata": {
        "trusted": true,
        "id": "YYPxJWOhV31L",
        "colab": {
          "base_uri": "https://localhost:8080/",
          "height": 412
        },
        "outputId": "db7d3c4c-bf0c-4a0f-d0ca-2758c0955bf0"
      },
      "source": [
        "fig, ax = plt.subplots(figsize=(6,6))\n",
        "graph = sns.countplot(ax=ax,x=train_df['Survived'], data = train_df, hue='Sex', palette = 'PuBuGn_d')\n",
        "graph.set_title('Distribution of people who survived', fontsize = 12)\n",
        "graph.set_xticklabels(graph.get_xticklabels(),rotation=30)\n",
        "for p in graph.patches:\n",
        "    height = p.get_height()\n",
        "    graph.text(p.get_x()+p.get_width()/2., height + 0.1,height ,ha=\"center\")"
      ],
      "execution_count": 24,
      "outputs": [
        {
          "output_type": "display_data",
          "data": {
            "image/png": "[encoded data removed]",
            "text/plain": [
              "<Figure size 432x432 with 1 Axes>"
            ]
          },
          "metadata": {
            "tags": [],
            "needs_background": "light"
          }
        }
      ]
    },
    {
      "cell_type": "markdown",
      "metadata": {
        "id": "hnWM8vupV31M"
      },
      "source": [
        "Let's check the percentage of survival for males and females separately."
      ]
    },
    {
      "cell_type": "code",
      "metadata": {
        "trusted": true,
        "id": "qiyJLoQyV31M",
        "colab": {
          "base_uri": "https://localhost:8080/",
          "height": 204
        },
        "outputId": "eef8105b-e7a7-407f-f4af-4dd3cec53bf2"
      },
      "source": [
        "females = train_df[train_df['Sex'] == 'female']\n",
        "females.head()"
      ],
      "execution_count": 25,
      "outputs": [
        {
          "output_type": "execute_result",
          "data": {
            "text/html": [
              "<div>\n",
              "<style scoped>\n",
              "    .dataframe tbody tr th:only-of-type {\n",
              "        vertical-align: middle;\n",
              "    }\n",
              "\n",
              "    .dataframe tbody tr th {\n",
              "        vertical-align: top;\n",
              "    }\n",
              "\n",
              "    .dataframe thead th {\n",
              "        text-align: right;\n",
              "    }\n",
              "</style>\n",
              "<table border=\"1\" class=\"dataframe\">\n",
              "  <thead>\n",
              "    <tr style=\"text-align: right;\">\n",
              "      <th></th>\n",
              "      <th>PassengerId</th>\n",
              "      <th>Survived</th>\n",
              "      <th>Pclass</th>\n",
              "      <th>Name</th>\n",
              "      <th>Sex</th>\n",
              "      <th>Age</th>\n",
              "      <th>SibSp</th>\n",
              "      <th>Parch</th>\n",
              "      <th>Ticket</th>\n",
              "      <th>Fare</th>\n",
              "      <th>Cabin</th>\n",
              "      <th>Embarked</th>\n",
              "    </tr>\n",
              "  </thead>\n",
              "  <tbody>\n",
              "    <tr>\n",
              "      <th>1</th>\n",
              "      <td>2</td>\n",
              "      <td>1</td>\n",
              "      <td>1</td>\n",
              "      <td>Cumings, Mrs. John Bradley (Florence Briggs Th...</td>\n",
              "      <td>female</td>\n",
              "      <td>38.0</td>\n",
              "      <td>1</td>\n",
              "      <td>0</td>\n",
              "      <td>PC 17599</td>\n",
              "      <td>71.2833</td>\n",
              "      <td>C85</td>\n",
              "      <td>C</td>\n",
              "    </tr>\n",
              "    <tr>\n",
              "      <th>2</th>\n",
              "      <td>3</td>\n",
              "      <td>1</td>\n",
              "      <td>3</td>\n",
              "      <td>Heikkinen, Miss. Laina</td>\n",
              "      <td>female</td>\n",
              "      <td>26.0</td>\n",
              "      <td>0</td>\n",
              "      <td>0</td>\n",
              "      <td>STON/O2. 3101282</td>\n",
              "      <td>7.9250</td>\n",
              "      <td>NaN</td>\n",
              "      <td>S</td>\n",
              "    </tr>\n",
              "    <tr>\n",
              "      <th>3</th>\n",
              "      <td>4</td>\n",
              "      <td>1</td>\n",
              "      <td>1</td>\n",
              "      <td>Futrelle, Mrs. Jacques Heath (Lily May Peel)</td>\n",
              "      <td>female</td>\n",
              "      <td>35.0</td>\n",
              "      <td>1</td>\n",
              "      <td>0</td>\n",
              "      <td>113803</td>\n",
              "      <td>53.1000</td>\n",
              "      <td>C123</td>\n",
              "      <td>S</td>\n",
              "    </tr>\n",
              "    <tr>\n",
              "      <th>8</th>\n",
              "      <td>9</td>\n",
              "      <td>1</td>\n",
              "      <td>3</td>\n",
              "      <td>Johnson, Mrs. Oscar W (Elisabeth Vilhelmina Berg)</td>\n",
              "      <td>female</td>\n",
              "      <td>27.0</td>\n",
              "      <td>0</td>\n",
              "      <td>2</td>\n",
              "      <td>347742</td>\n",
              "      <td>11.1333</td>\n",
              "      <td>NaN</td>\n",
              "      <td>S</td>\n",
              "    </tr>\n",
              "    <tr>\n",
              "      <th>9</th>\n",
              "      <td>10</td>\n",
              "      <td>1</td>\n",
              "      <td>2</td>\n",
              "      <td>Nasser, Mrs. Nicholas (Adele Achem)</td>\n",
              "      <td>female</td>\n",
              "      <td>14.0</td>\n",
              "      <td>1</td>\n",
              "      <td>0</td>\n",
              "      <td>237736</td>\n",
              "      <td>30.0708</td>\n",
              "      <td>NaN</td>\n",
              "      <td>C</td>\n",
              "    </tr>\n",
              "  </tbody>\n",
              "</table>\n",
              "</div>"
            ],
            "text/plain": [
              "   PassengerId  Survived  Pclass  ...     Fare Cabin  Embarked\n",
              "1            2         1       1  ...  71.2833   C85         C\n",
              "2            3         1       3  ...   7.9250   NaN         S\n",
              "3            4         1       1  ...  53.1000  C123         S\n",
              "8            9         1       3  ...  11.1333   NaN         S\n",
              "9           10         1       2  ...  30.0708   NaN         C\n",
              "\n",
              "[5 rows x 12 columns]"
            ]
          },
          "metadata": {
            "tags": []
          },
          "execution_count": 25
        }
      ]
    },
    {
      "cell_type": "code",
      "metadata": {
        "trusted": true,
        "id": "tcHvZbIPV31M",
        "colab": {
          "base_uri": "https://localhost:8080/"
        },
        "outputId": "e467e459-27c9-46c6-de2a-170d44de3c09"
      },
      "source": [
        "females['Survived'].value_counts()/len(females)"
      ],
      "execution_count": 26,
      "outputs": [
        {
          "output_type": "execute_result",
          "data": {
            "text/plain": [
              "1    0.742038\n",
              "0    0.257962\n",
              "Name: Survived, dtype: float64"
            ]
          },
          "metadata": {
            "tags": []
          },
          "execution_count": 26
        }
      ]
    },
    {
      "cell_type": "code",
      "metadata": {
        "trusted": true,
        "id": "FCZDhR3rV31N",
        "colab": {
          "base_uri": "https://localhost:8080/",
          "height": 204
        },
        "outputId": "8dfe866b-9468-4e51-cf64-9035bf164f51"
      },
      "source": [
        "males = train_df[train_df['Sex'] == 'male']\n",
        "males.head()"
      ],
      "execution_count": 27,
      "outputs": [
        {
          "output_type": "execute_result",
          "data": {
            "text/html": [
              "<div>\n",
              "<style scoped>\n",
              "    .dataframe tbody tr th:only-of-type {\n",
              "        vertical-align: middle;\n",
              "    }\n",
              "\n",
              "    .dataframe tbody tr th {\n",
              "        vertical-align: top;\n",
              "    }\n",
              "\n",
              "    .dataframe thead th {\n",
              "        text-align: right;\n",
              "    }\n",
              "</style>\n",
              "<table border=\"1\" class=\"dataframe\">\n",
              "  <thead>\n",
              "    <tr style=\"text-align: right;\">\n",
              "      <th></th>\n",
              "      <th>PassengerId</th>\n",
              "      <th>Survived</th>\n",
              "      <th>Pclass</th>\n",
              "      <th>Name</th>\n",
              "      <th>Sex</th>\n",
              "      <th>Age</th>\n",
              "      <th>SibSp</th>\n",
              "      <th>Parch</th>\n",
              "      <th>Ticket</th>\n",
              "      <th>Fare</th>\n",
              "      <th>Cabin</th>\n",
              "      <th>Embarked</th>\n",
              "    </tr>\n",
              "  </thead>\n",
              "  <tbody>\n",
              "    <tr>\n",
              "      <th>0</th>\n",
              "      <td>1</td>\n",
              "      <td>0</td>\n",
              "      <td>3</td>\n",
              "      <td>Braund, Mr. Owen Harris</td>\n",
              "      <td>male</td>\n",
              "      <td>22.0</td>\n",
              "      <td>1</td>\n",
              "      <td>0</td>\n",
              "      <td>A/5 21171</td>\n",
              "      <td>7.2500</td>\n",
              "      <td>NaN</td>\n",
              "      <td>S</td>\n",
              "    </tr>\n",
              "    <tr>\n",
              "      <th>4</th>\n",
              "      <td>5</td>\n",
              "      <td>0</td>\n",
              "      <td>3</td>\n",
              "      <td>Allen, Mr. William Henry</td>\n",
              "      <td>male</td>\n",
              "      <td>35.0</td>\n",
              "      <td>0</td>\n",
              "      <td>0</td>\n",
              "      <td>373450</td>\n",
              "      <td>8.0500</td>\n",
              "      <td>NaN</td>\n",
              "      <td>S</td>\n",
              "    </tr>\n",
              "    <tr>\n",
              "      <th>5</th>\n",
              "      <td>6</td>\n",
              "      <td>0</td>\n",
              "      <td>3</td>\n",
              "      <td>Moran, Mr. James</td>\n",
              "      <td>male</td>\n",
              "      <td>NaN</td>\n",
              "      <td>0</td>\n",
              "      <td>0</td>\n",
              "      <td>330877</td>\n",
              "      <td>8.4583</td>\n",
              "      <td>NaN</td>\n",
              "      <td>Q</td>\n",
              "    </tr>\n",
              "    <tr>\n",
              "      <th>6</th>\n",
              "      <td>7</td>\n",
              "      <td>0</td>\n",
              "      <td>1</td>\n",
              "      <td>McCarthy, Mr. Timothy J</td>\n",
              "      <td>male</td>\n",
              "      <td>54.0</td>\n",
              "      <td>0</td>\n",
              "      <td>0</td>\n",
              "      <td>17463</td>\n",
              "      <td>51.8625</td>\n",
              "      <td>E46</td>\n",
              "      <td>S</td>\n",
              "    </tr>\n",
              "    <tr>\n",
              "      <th>7</th>\n",
              "      <td>8</td>\n",
              "      <td>0</td>\n",
              "      <td>3</td>\n",
              "      <td>Palsson, Master. Gosta Leonard</td>\n",
              "      <td>male</td>\n",
              "      <td>2.0</td>\n",
              "      <td>3</td>\n",
              "      <td>1</td>\n",
              "      <td>349909</td>\n",
              "      <td>21.0750</td>\n",
              "      <td>NaN</td>\n",
              "      <td>S</td>\n",
              "    </tr>\n",
              "  </tbody>\n",
              "</table>\n",
              "</div>"
            ],
            "text/plain": [
              "   PassengerId  Survived  Pclass  ...     Fare Cabin  Embarked\n",
              "0            1         0       3  ...   7.2500   NaN         S\n",
              "4            5         0       3  ...   8.0500   NaN         S\n",
              "5            6         0       3  ...   8.4583   NaN         Q\n",
              "6            7         0       1  ...  51.8625   E46         S\n",
              "7            8         0       3  ...  21.0750   NaN         S\n",
              "\n",
              "[5 rows x 12 columns]"
            ]
          },
          "metadata": {
            "tags": []
          },
          "execution_count": 27
        }
      ]
    },
    {
      "cell_type": "code",
      "metadata": {
        "trusted": true,
        "id": "6_VdTM_MV31N",
        "colab": {
          "base_uri": "https://localhost:8080/"
        },
        "outputId": "b13bf344-f5f8-4884-ee23-d68de45b8f30"
      },
      "source": [
        "males['Survived'].value_counts()/len(males)"
      ],
      "execution_count": 28,
      "outputs": [
        {
          "output_type": "execute_result",
          "data": {
            "text/plain": [
              "0    0.811092\n",
              "1    0.188908\n",
              "Name: Survived, dtype: float64"
            ]
          },
          "metadata": {
            "tags": []
          },
          "execution_count": 28
        }
      ]
    },
    {
      "cell_type": "markdown",
      "metadata": {
        "id": "bzbV3CbdV31N"
      },
      "source": [
        "As expected females have higher probability of survival (value 1) 74.20% than males 18.89%.\n",
        "\n",
        "Let's visualize it."
      ]
    },
    {
      "cell_type": "code",
      "metadata": {
        "trusted": true,
        "id": "kw37rGxMV31O",
        "colab": {
          "base_uri": "https://localhost:8080/",
          "height": 543
        },
        "outputId": "b3f1db94-27c7-4f33-b619-c45ff601e9b0"
      },
      "source": [
        "# create the first of two pie-charts and set current axis\n",
        "plt.figure(figsize=(8,6))\n",
        "plt.subplot(1, 2, 1)   # (rows, columns, panel number)\n",
        "labels1 = females['Survived'].value_counts().index\n",
        "size1 = females['Survived'].value_counts()\n",
        "colors1=['cyan','pink']\n",
        "plt.pie(size1, labels = labels1, colors = colors1, shadow = True, autopct='%1.1f%%',startangle = 90)\n",
        "plt.title('Percentage of females who survived', fontsize = 20)\n",
        "plt.legend(['1:Survived', '0:Not Survived'], loc=0)\n",
        "plt.show()\n",
        "\n",
        "# create the second of two pie-charts and set current axis\n",
        "plt.figure(figsize=(8,6))\n",
        "plt.subplot(1, 2, 2)   # (rows, columns, panel number)\n",
        "labels2 = males['Survived'].value_counts().index\n",
        "size2 = males['Survived'].value_counts()\n",
        "colors2=['pink','cyan']\n",
        "plt.pie(size2, labels = labels2, colors = colors2, shadow = True, autopct='%1.1f%%',startangle = 90)\n",
        "plt.title('Percentage of males who survived', fontsize = 20)\n",
        "plt.legend(['0:Not Survived','1:Survived'])\n",
        "plt.show()"
      ],
      "execution_count": 29,
      "outputs": [
        {
          "output_type": "display_data",
          "data": {
            "image/png": "[encoded data removed]",
            "text/plain": [
              "<Figure size 576x432 with 1 Axes>"
            ]
          },
          "metadata": {
            "tags": []
          }
        },
        {
          "output_type": "display_data",
          "data": {
            "image/png": "[encoded data removed]",
            "text/plain": [
              "<Figure size 576x432 with 1 Axes>"
            ]
          },
          "metadata": {
            "tags": []
          }
        }
      ]
    },
    {
      "cell_type": "markdown",
      "metadata": {
        "id": "T9PxI7OmV31O"
      },
      "source": [
        "#### **5.2.2 Sex** "
      ]
    },
    {
      "cell_type": "code",
      "metadata": {
        "trusted": true,
        "id": "XyTaL3i5V31O",
        "colab": {
          "base_uri": "https://localhost:8080/"
        },
        "outputId": "a79abf87-3fc9-4c1b-d3cf-eb695d505672"
      },
      "source": [
        "train_df['Sex'].value_counts()"
      ],
      "execution_count": 30,
      "outputs": [
        {
          "output_type": "execute_result",
          "data": {
            "text/plain": [
              "male      577\n",
              "female    314\n",
              "Name: Sex, dtype: int64"
            ]
          },
          "metadata": {
            "tags": []
          },
          "execution_count": 30
        }
      ]
    },
    {
      "cell_type": "code",
      "metadata": {
        "trusted": true,
        "id": "yaMDknyOV31P",
        "colab": {
          "base_uri": "https://localhost:8080/",
          "height": 427
        },
        "outputId": "ede399da-dcc4-496d-8f3a-8aecce131b39"
      },
      "source": [
        "fig, ax = plt.subplots(figsize=(6,6))\n",
        "graph = sns.countplot(ax=ax,x=train_df['Sex'], data=train_df, palette = 'bone')\n",
        "graph.set_title('Distribution of sex among passengers', fontsize = 12)\n",
        "graph.set_xticklabels(graph.get_xticklabels(),rotation=30)\n",
        "for p in graph.patches:\n",
        "    height = p.get_height()\n",
        "    graph.text(p.get_x()+p.get_width()/2., height + 0.1,height ,ha=\"center\")"
      ],
      "execution_count": 31,
      "outputs": [
        {
          "output_type": "display_data",
          "data": {
            "image/png": "[encoded data removed]",
            "text/plain": [
              "<Figure size 432x432 with 1 Axes>"
            ]
          },
          "metadata": {
            "tags": [],
            "needs_background": "light"
          }
        }
      ]
    },
    {
      "cell_type": "code",
      "metadata": {
        "trusted": true,
        "id": "Bh-hOmw0V31P",
        "colab": {
          "base_uri": "https://localhost:8080/"
        },
        "outputId": "5d3f6b1e-8e98-44ef-e59c-b7e5f06763ef"
      },
      "source": [
        "train_df['Sex'].value_counts()/len(train_df)"
      ],
      "execution_count": 32,
      "outputs": [
        {
          "output_type": "execute_result",
          "data": {
            "text/plain": [
              "male      0.647587\n",
              "female    0.352413\n",
              "Name: Sex, dtype: float64"
            ]
          },
          "metadata": {
            "tags": []
          },
          "execution_count": 32
        }
      ]
    },
    {
      "cell_type": "code",
      "metadata": {
        "trusted": true,
        "id": "C0aHzJqvV31P",
        "colab": {
          "base_uri": "https://localhost:8080/",
          "height": 378
        },
        "outputId": "b8bf7e6c-90ca-4b04-fb51-131cba99948a"
      },
      "source": [
        "plt.figure(figsize=(8,6))\n",
        "labels = train_df['Sex'].value_counts().index\n",
        "size = train_df['Sex'].value_counts()\n",
        "colors=['cyan','pink']\n",
        "plt.pie(size, labels = labels, shadow = True, colors=colors, autopct='%1.1f%%',startangle = 90)\n",
        "plt.title('Percentage distribution of sex among passengers', fontsize = 20)\n",
        "plt.legend()\n",
        "plt.show()"
      ],
      "execution_count": 33,
      "outputs": [
        {
          "output_type": "display_data",
          "data": {
            "image/png": "[encoded data removed]",
            "text/plain": [
              "<Figure size 576x432 with 1 Axes>"
            ]
          },
          "metadata": {
            "tags": []
          }
        }
      ]
    },
    {
      "cell_type": "markdown",
      "metadata": {
        "id": "_XqKqP14V31Q"
      },
      "source": [
        "#### **5.2.3 Pclass** "
      ]
    },
    {
      "cell_type": "code",
      "metadata": {
        "trusted": true,
        "id": "C3oxI52oV31Q",
        "colab": {
          "base_uri": "https://localhost:8080/"
        },
        "outputId": "442767aa-b66f-4576-d50d-b0ce89c146c8"
      },
      "source": [
        "train_df.groupby('Pclass')['Sex'].value_counts()"
      ],
      "execution_count": 34,
      "outputs": [
        {
          "output_type": "execute_result",
          "data": {
            "text/plain": [
              "Pclass  Sex   \n",
              "1       male      122\n",
              "        female     94\n",
              "2       male      108\n",
              "        female     76\n",
              "3       male      347\n",
              "        female    144\n",
              "Name: Sex, dtype: int64"
            ]
          },
          "metadata": {
            "tags": []
          },
          "execution_count": 34
        }
      ]
    },
    {
      "cell_type": "code",
      "metadata": {
        "trusted": true,
        "id": "jKeNI9ZgV31Q",
        "colab": {
          "base_uri": "https://localhost:8080/",
          "height": 412
        },
        "outputId": "0334ebde-f016-47f1-a69b-2eb14cea6136"
      },
      "source": [
        "fig, ax = plt.subplots(figsize=(8,6))\n",
        "graph = sns.countplot(ax=ax,x=train_df['Pclass'], data=train_df, palette = 'bone')\n",
        "graph.set_title('Number of people in different classes', fontsize = 12)\n",
        "graph.set_xticklabels(graph.get_xticklabels(),rotation=30)\n",
        "for p in graph.patches:\n",
        "    height = p.get_height()\n",
        "    graph.text(p.get_x()+p.get_width()/2., height + 0.1,height ,ha=\"center\")"
      ],
      "execution_count": 35,
      "outputs": [
        {
          "output_type": "display_data",
          "data": {
            "image/png": "[encoded data removed]",
            "text/plain": [
              "<Figure size 576x432 with 1 Axes>"
            ]
          },
          "metadata": {
            "tags": [],
            "needs_background": "light"
          }
        }
      ]
    },
    {
      "cell_type": "code",
      "metadata": {
        "trusted": true,
        "id": "UHQqm1fyV31R",
        "colab": {
          "base_uri": "https://localhost:8080/",
          "height": 412
        },
        "outputId": "4c6c2d67-c90c-41b3-9d92-230f5478cdc8"
      },
      "source": [
        "fig, ax = plt.subplots(figsize=(8,6))\n",
        "graph = sns.countplot(ax=ax,x=train_df['Pclass'], data=train_df, hue='Survived', palette = 'bone')\n",
        "graph.set_title('Distribution of people segregated by survival', fontsize = 12)\n",
        "graph.set_xticklabels(graph.get_xticklabels(),rotation=30)\n",
        "for p in graph.patches:\n",
        "    height = p.get_height()\n",
        "    graph.text(p.get_x()+p.get_width()/2., height + 0.1,height ,ha=\"center\")"
      ],
      "execution_count": 36,
      "outputs": [
        {
          "output_type": "display_data",
          "data": {
            "image/png": "[encoded data removed]",
            "text/plain": [
              "<Figure size 576x432 with 1 Axes>"
            ]
          },
          "metadata": {
            "tags": [],
            "needs_background": "light"
          }
        }
      ]
    },
    {
      "cell_type": "markdown",
      "metadata": {
        "id": "xtG0M6oSV31R"
      },
      "source": [
        "Here 0 stands for not survived and 1 stands for survived.\n",
        "\n",
        "So, we can see that Pclass plays a major role in survival.\n",
        "\n",
        "Majority of people survived in Pclass 1 while a large number of people do not survive in Pclass 3."
      ]
    },
    {
      "cell_type": "code",
      "metadata": {
        "trusted": true,
        "id": "39JkmW4dV31R",
        "colab": {
          "base_uri": "https://localhost:8080/",
          "height": 403
        },
        "outputId": "d178a584-8426-4ef1-f50e-b0734846b48c"
      },
      "source": [
        "# percentage of survivors per class\n",
        "sns.factorplot('Pclass', 'Survived', data = train_df)"
      ],
      "execution_count": 37,
      "outputs": [
        {
          "output_type": "execute_result",
          "data": {
            "text/plain": [
              "<seaborn.axisgrid.FacetGrid at 0x7f309505f9d0>"
            ]
          },
          "metadata": {
            "tags": []
          },
          "execution_count": 37
        },
        {
          "output_type": "display_data",
          "data": {
            "image/png": "[encoded data removed]",
            "text/plain": [
              "<Figure size 360x360 with 1 Axes>"
            ]
          },
          "metadata": {
            "tags": [],
            "needs_background": "light"
          }
        }
      ]
    },
    {
      "cell_type": "markdown",
      "metadata": {
        "id": "PBdujxosV31S"
      },
      "source": [
        "#### **5.2.4 Embarked** "
      ]
    },
    {
      "cell_type": "code",
      "metadata": {
        "trusted": true,
        "id": "68-3_Kb_V31S",
        "colab": {
          "base_uri": "https://localhost:8080/",
          "height": 413
        },
        "outputId": "ded68073-fa8b-49d9-e9d4-9948f651eb5c"
      },
      "source": [
        "fig, ax = plt.subplots(figsize=(8,6))\n",
        "graph = sns.countplot(ax=ax,x=train_df['Embarked'], data=train_df, palette = 'bone')\n",
        "graph.set_title('Number of people across different embarkment', fontsize = 12)\n",
        "graph.set_xticklabels(graph.get_xticklabels(),rotation=30)\n",
        "for p in graph.patches:\n",
        "    height = p.get_height()\n",
        "    graph.text(p.get_x()+p.get_width()/2., height + 0.1,height ,ha=\"center\")"
      ],
      "execution_count": 38,
      "outputs": [
        {
          "output_type": "display_data",
          "data": {
            "image/png": "[encoded data removed]",
            "text/plain": [
              "<Figure size 576x432 with 1 Axes>"
            ]
          },
          "metadata": {
            "tags": [],
            "needs_background": "light"
          }
        }
      ]
    },
    {
      "cell_type": "code",
      "metadata": {
        "trusted": true,
        "id": "3NfaNlkiV31S",
        "colab": {
          "base_uri": "https://localhost:8080/",
          "height": 413
        },
        "outputId": "cb8f127b-631e-499c-bbbe-915cdd03ade8"
      },
      "source": [
        "fig, ax = plt.subplots(figsize=(8,6))\n",
        "graph = sns.countplot(ax=ax,x=train_df['Embarked'], data=train_df, hue='Survived', palette = 'bone')\n",
        "graph.set_title('Number of people who survived across different embarkment', fontsize = 12)\n",
        "graph.set_xticklabels(graph.get_xticklabels(),rotation=30)\n",
        "for p in graph.patches:\n",
        "    height = p.get_height()\n",
        "    graph.text(p.get_x()+p.get_width()/2., height + 0.1,height ,ha=\"center\")"
      ],
      "execution_count": 39,
      "outputs": [
        {
          "output_type": "display_data",
          "data": {
            "image/png": "[encoded data removed]",
            "text/plain": [
              "<Figure size 576x432 with 1 Axes>"
            ]
          },
          "metadata": {
            "tags": [],
            "needs_background": "light"
          }
        }
      ]
    },
    {
      "cell_type": "markdown",
      "metadata": {
        "id": "jgYG__nGV31S"
      },
      "source": [
        "We can see that port of embarkment plays a major role in survival probability."
      ]
    },
    {
      "cell_type": "markdown",
      "metadata": {
        "id": "eK_OcBjNV31T"
      },
      "source": [
        "#### **5.2.5 Age** "
      ]
    },
    {
      "cell_type": "code",
      "metadata": {
        "trusted": true,
        "id": "nHJeALWwV31T",
        "colab": {
          "base_uri": "https://localhost:8080/",
          "height": 415
        },
        "outputId": "e10d1e6c-ce2a-4e80-a6ff-877160d1e79e"
      },
      "source": [
        "x = train_df['Age']\n",
        "plt.figure(figsize=(8,6))\n",
        "plt.hist(x, bins=25, color='g')\n",
        "plt.xlabel('Age')\n",
        "plt.ylabel('Number of passengers')\n",
        "plt.title('Age distribution of passengers', fontsize = 20)\n",
        "plt.show()"
      ],
      "execution_count": 40,
      "outputs": [
        {
          "output_type": "display_data",
          "data": {
            "image/png": "[encoded data removed]",
            "text/plain": [
              "<Figure size 576x432 with 1 Axes>"
            ]
          },
          "metadata": {
            "tags": [],
            "needs_background": "light"
          }
        }
      ]
    },
    {
      "cell_type": "markdown",
      "metadata": {
        "id": "Qj5ysfmLV31T"
      },
      "source": [
        "We can see that majority of passengers are aged between 20 and 40."
      ]
    },
    {
      "cell_type": "code",
      "metadata": {
        "trusted": true,
        "id": "5bROPiwZV31U",
        "colab": {
          "base_uri": "https://localhost:8080/",
          "height": 410
        },
        "outputId": "f3db097e-d9e3-40c4-c375-62aa7e6ca995"
      },
      "source": [
        "plt.figure(figsize=(8,6))\n",
        "train_df.Age[train_df.Pclass == 1].plot(kind='kde')    \n",
        "train_df.Age[train_df.Pclass == 2].plot(kind='kde')\n",
        "train_df.Age[train_df.Pclass == 3].plot(kind='kde')\n",
        " # plots an axis lable\n",
        "plt.xlabel(\"Age\")    \n",
        "plt.title(\"Age Distribution within classes\")\n",
        "# sets our legend for our graph.\n",
        "plt.legend(('1st Class', '2nd Class','3rd Class'),loc='best') ;"
      ],
      "execution_count": 41,
      "outputs": [
        {
          "output_type": "display_data",
          "data": {
            "image/png": "[encoded data removed]",
            "text/plain": [
              "<Figure size 576x432 with 1 Axes>"
            ]
          },
          "metadata": {
            "tags": [],
            "needs_background": "light"
          }
        }
      ]
    },
    {
      "cell_type": "markdown",
      "metadata": {
        "id": "dO2mN9MAV31U"
      },
      "source": [
        "### **5.3 Visualizations about training set** "
      ]
    },
    {
      "cell_type": "code",
      "metadata": {
        "trusted": true,
        "id": "e-uXdNnaV31U",
        "colab": {
          "base_uri": "https://localhost:8080/",
          "height": 501
        },
        "outputId": "8d514adc-2da9-4eca-858e-5fa33606b577"
      },
      "source": [
        "train_df.hist(bins=10,figsize=(12,8),grid=False);"
      ],
      "execution_count": 42,
      "outputs": [
        {
          "output_type": "display_data",
          "data": {
            "image/png": "[encoded data removed]",
            "text/plain": [
              "<Figure size 864x576 with 9 Axes>"
            ]
          },
          "metadata": {
            "tags": [],
            "needs_background": "light"
          }
        }
      ]
    },
    {
      "cell_type": "markdown",
      "metadata": {
        "id": "THrgiVFRV31U"
      },
      "source": [
        "We can see that `Age` and `Fare` are measured on very different scaling. So we need to do feature scaling before predictions."
      ]
    },
    {
      "cell_type": "code",
      "metadata": {
        "trusted": true,
        "id": "ImBEnClHV31V",
        "colab": {
          "base_uri": "https://localhost:8080/",
          "height": 441
        },
        "outputId": "f50c3b0c-799c-4419-9e81-283c88c55a3f"
      },
      "source": [
        "g = sns.FacetGrid(train_df, col=\"Sex\", row=\"Survived\", margin_titles=True)\n",
        "g.map(plt.hist, \"Age\", color=\"green\");"
      ],
      "execution_count": 43,
      "outputs": [
        {
          "output_type": "display_data",
          "data": {
            "image/png": "[encoded data removed]",
            "text/plain": [
              "<Figure size 432x432 with 4 Axes>"
            ]
          },
          "metadata": {
            "tags": [],
            "needs_background": "light"
          }
        }
      ]
    },
    {
      "cell_type": "markdown",
      "metadata": {
        "id": "R9kgil-bV31V"
      },
      "source": [
        "### **5.4 Correlation heatmap** "
      ]
    },
    {
      "cell_type": "code",
      "metadata": {
        "trusted": true,
        "id": "Dck8BV8EV31V",
        "colab": {
          "base_uri": "https://localhost:8080/",
          "height": 578
        },
        "outputId": "38f27c91-71ac-42c0-f495-ec72a295e38d"
      },
      "source": [
        "corr = train_df.corr()#[\"Survived\"]\n",
        "plt.figure(figsize=(10, 10))\n",
        "sns.heatmap(corr, vmax=.8, linewidths=0.01, square=True,annot=True,cmap='YlGnBu',linecolor=\"white\")\n",
        "plt.title('Correlation between features');"
      ],
      "execution_count": 44,
      "outputs": [
        {
          "output_type": "display_data",
          "data": {
            "image/png": "[encoded data removed]",
            "text/plain": [
              "<Figure size 720x720 with 2 Axes>"
            ]
          },
          "metadata": {
            "tags": [],
            "needs_background": "light"
          }
        }
      ]
    },
    {
      "cell_type": "code",
      "metadata": {
        "trusted": true,
        "id": "YcIwMLY1V31W",
        "colab": {
          "base_uri": "https://localhost:8080/"
        },
        "outputId": "0857b239-ebb9-4c61-f932-f8dc658f8c24"
      },
      "source": [
        "#correlation of features with target variable\n",
        "train_df.corr()[\"Survived\"]"
      ],
      "execution_count": 45,
      "outputs": [
        {
          "output_type": "execute_result",
          "data": {
            "text/plain": [
              "PassengerId   -0.005007\n",
              "Survived       1.000000\n",
              "Pclass        -0.338481\n",
              "Age           -0.077221\n",
              "SibSp         -0.035322\n",
              "Parch          0.081629\n",
              "Fare           0.257307\n",
              "Name: Survived, dtype: float64"
            ]
          },
          "metadata": {
            "tags": []
          },
          "execution_count": 45
        }
      ]
    },
    {
      "cell_type": "markdown",
      "metadata": {
        "id": "4BztmXgzV31W"
      },
      "source": [
        "So, `Pclass` has got highest negative correlation with `Survived` and `Fare` has got highest positive correlation with `Survived`."
      ]
    },
    {
      "cell_type": "code",
      "metadata": {
        "trusted": true,
        "id": "x_xThkQBV31W",
        "colab": {
          "base_uri": "https://localhost:8080/",
          "height": 458
        },
        "outputId": "3f33b699-4d48-4ff0-8116-2e85ffd55bea"
      },
      "source": [
        "g = sns.factorplot(x=\"Age\", y=\"Embarked\",\n",
        "                    hue=\"Sex\", row=\"Pclass\",\n",
        "                    data=train_df[train_df.Embarked.notnull()],\n",
        "                    orient=\"h\", size=2, aspect=3.5, \n",
        "                   palette={'male':\"purple\", 'female':\"blue\"},\n",
        "                    kind=\"violin\", split=True, cut=0, bw=.2);"
      ],
      "execution_count": 46,
      "outputs": [
        {
          "output_type": "display_data",
          "data": {
            "image/png": "[encoded data removed]",
            "text/plain": [
              "<Figure size 581.975x432 with 3 Axes>"
            ]
          },
          "metadata": {
            "tags": [],
            "needs_background": "light"
          }
        }
      ]
    },
    {
      "cell_type": "markdown",
      "metadata": {
        "id": "hV7sNHRXV31X"
      },
      "source": [
        "## **6. Data Preprocessing** \n"
      ]
    },
    {
      "cell_type": "markdown",
      "metadata": {
        "id": "b0yxoDLhV31X"
      },
      "source": [
        "### **6.1 Missing values imputation** \n",
        "\n"
      ]
    },
    {
      "cell_type": "markdown",
      "metadata": {
        "id": "mk3HrCglV31X"
      },
      "source": [
        "It is important to fill missing values, because some machine learning algorithms can't accept them eg SVM.\n",
        "\n",
        "\n",
        "But filling missing values with mean/median/mode is also a prediction which may not be 100% accurate, instead we can use models like Decision Trees and Random Forest which handle missing values very well."
      ]
    },
    {
      "cell_type": "markdown",
      "metadata": {
        "id": "t1qQ-b0UV31X"
      },
      "source": [
        "#### **Embarked Column**"
      ]
    },
    {
      "cell_type": "code",
      "metadata": {
        "trusted": true,
        "id": "m1FWqWU8V31Y",
        "colab": {
          "base_uri": "https://localhost:8080/",
          "height": 111
        },
        "outputId": "ea640969-f088-4f91-aaf1-3957953eb64a"
      },
      "source": [
        "#Lets check which rows have null Embarked column\n",
        "train_df[train_df['Embarked'].isnull()]"
      ],
      "execution_count": 47,
      "outputs": [
        {
          "output_type": "execute_result",
          "data": {
            "text/html": [
              "<div>\n",
              "<style scoped>\n",
              "    .dataframe tbody tr th:only-of-type {\n",
              "        vertical-align: middle;\n",
              "    }\n",
              "\n",
              "    .dataframe tbody tr th {\n",
              "        vertical-align: top;\n",
              "    }\n",
              "\n",
              "    .dataframe thead th {\n",
              "        text-align: right;\n",
              "    }\n",
              "</style>\n",
              "<table border=\"1\" class=\"dataframe\">\n",
              "  <thead>\n",
              "    <tr style=\"text-align: right;\">\n",
              "      <th></th>\n",
              "      <th>PassengerId</th>\n",
              "      <th>Survived</th>\n",
              "      <th>Pclass</th>\n",
              "      <th>Name</th>\n",
              "      <th>Sex</th>\n",
              "      <th>Age</th>\n",
              "      <th>SibSp</th>\n",
              "      <th>Parch</th>\n",
              "      <th>Ticket</th>\n",
              "      <th>Fare</th>\n",
              "      <th>Cabin</th>\n",
              "      <th>Embarked</th>\n",
              "    </tr>\n",
              "  </thead>\n",
              "  <tbody>\n",
              "    <tr>\n",
              "      <th>61</th>\n",
              "      <td>62</td>\n",
              "      <td>1</td>\n",
              "      <td>1</td>\n",
              "      <td>Icard, Miss. Amelie</td>\n",
              "      <td>female</td>\n",
              "      <td>38.0</td>\n",
              "      <td>0</td>\n",
              "      <td>0</td>\n",
              "      <td>113572</td>\n",
              "      <td>80.0</td>\n",
              "      <td>B28</td>\n",
              "      <td>NaN</td>\n",
              "    </tr>\n",
              "    <tr>\n",
              "      <th>829</th>\n",
              "      <td>830</td>\n",
              "      <td>1</td>\n",
              "      <td>1</td>\n",
              "      <td>Stone, Mrs. George Nelson (Martha Evelyn)</td>\n",
              "      <td>female</td>\n",
              "      <td>62.0</td>\n",
              "      <td>0</td>\n",
              "      <td>0</td>\n",
              "      <td>113572</td>\n",
              "      <td>80.0</td>\n",
              "      <td>B28</td>\n",
              "      <td>NaN</td>\n",
              "    </tr>\n",
              "  </tbody>\n",
              "</table>\n",
              "</div>"
            ],
            "text/plain": [
              "     PassengerId  Survived  Pclass  ...  Fare Cabin  Embarked\n",
              "61            62         1       1  ...  80.0   B28       NaN\n",
              "829          830         1       1  ...  80.0   B28       NaN\n",
              "\n",
              "[2 rows x 12 columns]"
            ]
          },
          "metadata": {
            "tags": []
          },
          "execution_count": 47
        }
      ]
    },
    {
      "cell_type": "markdown",
      "metadata": {
        "id": "oXD1myoHV31Y"
      },
      "source": [
        "**PassengerId** **62** and **830** have missing embarked values. Both have **Passenger class 1** and **fare $80**.\n",
        "\n",
        "\n",
        "Now, lets plot a graph to visualize and try to guess from where they embarked."
      ]
    },
    {
      "cell_type": "code",
      "metadata": {
        "trusted": true,
        "id": "NrvZNE8cV31Y",
        "colab": {
          "base_uri": "https://localhost:8080/",
          "height": 394
        },
        "outputId": "03ffea18-7fc0-4a5f-f7a9-ed8438cbc6b6"
      },
      "source": [
        "plt.figure(figsize=(8,6))\n",
        "sns.boxplot(x=\"Embarked\", y=\"Fare\", hue=\"Pclass\", data=train_df)\n",
        "plt.show()"
      ],
      "execution_count": 48,
      "outputs": [
        {
          "output_type": "display_data",
          "data": {
            "image/png": "[encoded data removed]",
            "text/plain": [
              "<Figure size 576x432 with 1 Axes>"
            ]
          },
          "metadata": {
            "tags": [],
            "needs_background": "light"
          }
        }
      ]
    },
    {
      "cell_type": "markdown",
      "metadata": {
        "id": "K3Gro8PIV31Y"
      },
      "source": [
        "We can see that for 1st class median line is coming around fare $80 for embarked value 'C'. So we can replace NA values in Embarked column with 'C'."
      ]
    },
    {
      "cell_type": "code",
      "metadata": {
        "trusted": true,
        "id": "vVUsG4ayV31Z"
      },
      "source": [
        "train_df[\"Embarked\"] = train_df[\"Embarked\"].fillna('C')"
      ],
      "execution_count": 49,
      "outputs": []
    },
    {
      "cell_type": "code",
      "metadata": {
        "trusted": true,
        "id": "5gi_qUekV31Z",
        "colab": {
          "base_uri": "https://localhost:8080/",
          "height": 297
        },
        "outputId": "a419a9b2-8d72-4f2a-c970-1bd714493397"
      },
      "source": [
        "#there is an empty fare column in test set\n",
        "test_df.describe()"
      ],
      "execution_count": 50,
      "outputs": [
        {
          "output_type": "execute_result",
          "data": {
            "text/html": [
              "<div>\n",
              "<style scoped>\n",
              "    .dataframe tbody tr th:only-of-type {\n",
              "        vertical-align: middle;\n",
              "    }\n",
              "\n",
              "    .dataframe tbody tr th {\n",
              "        vertical-align: top;\n",
              "    }\n",
              "\n",
              "    .dataframe thead th {\n",
              "        text-align: right;\n",
              "    }\n",
              "</style>\n",
              "<table border=\"1\" class=\"dataframe\">\n",
              "  <thead>\n",
              "    <tr style=\"text-align: right;\">\n",
              "      <th></th>\n",
              "      <th>PassengerId</th>\n",
              "      <th>Pclass</th>\n",
              "      <th>Age</th>\n",
              "      <th>SibSp</th>\n",
              "      <th>Parch</th>\n",
              "      <th>Fare</th>\n",
              "    </tr>\n",
              "  </thead>\n",
              "  <tbody>\n",
              "    <tr>\n",
              "      <th>count</th>\n",
              "      <td>418.000000</td>\n",
              "      <td>418.000000</td>\n",
              "      <td>332.000000</td>\n",
              "      <td>418.000000</td>\n",
              "      <td>418.000000</td>\n",
              "      <td>417.000000</td>\n",
              "    </tr>\n",
              "    <tr>\n",
              "      <th>mean</th>\n",
              "      <td>1100.500000</td>\n",
              "      <td>2.265550</td>\n",
              "      <td>30.272590</td>\n",
              "      <td>0.447368</td>\n",
              "      <td>0.392344</td>\n",
              "      <td>35.627188</td>\n",
              "    </tr>\n",
              "    <tr>\n",
              "      <th>std</th>\n",
              "      <td>120.810458</td>\n",
              "      <td>0.841838</td>\n",
              "      <td>14.181209</td>\n",
              "      <td>0.896760</td>\n",
              "      <td>0.981429</td>\n",
              "      <td>55.907576</td>\n",
              "    </tr>\n",
              "    <tr>\n",
              "      <th>min</th>\n",
              "      <td>892.000000</td>\n",
              "      <td>1.000000</td>\n",
              "      <td>0.170000</td>\n",
              "      <td>0.000000</td>\n",
              "      <td>0.000000</td>\n",
              "      <td>0.000000</td>\n",
              "    </tr>\n",
              "    <tr>\n",
              "      <th>25%</th>\n",
              "      <td>996.250000</td>\n",
              "      <td>1.000000</td>\n",
              "      <td>21.000000</td>\n",
              "      <td>0.000000</td>\n",
              "      <td>0.000000</td>\n",
              "      <td>7.895800</td>\n",
              "    </tr>\n",
              "    <tr>\n",
              "      <th>50%</th>\n",
              "      <td>1100.500000</td>\n",
              "      <td>3.000000</td>\n",
              "      <td>27.000000</td>\n",
              "      <td>0.000000</td>\n",
              "      <td>0.000000</td>\n",
              "      <td>14.454200</td>\n",
              "    </tr>\n",
              "    <tr>\n",
              "      <th>75%</th>\n",
              "      <td>1204.750000</td>\n",
              "      <td>3.000000</td>\n",
              "      <td>39.000000</td>\n",
              "      <td>1.000000</td>\n",
              "      <td>0.000000</td>\n",
              "      <td>31.500000</td>\n",
              "    </tr>\n",
              "    <tr>\n",
              "      <th>max</th>\n",
              "      <td>1309.000000</td>\n",
              "      <td>3.000000</td>\n",
              "      <td>76.000000</td>\n",
              "      <td>8.000000</td>\n",
              "      <td>9.000000</td>\n",
              "      <td>512.329200</td>\n",
              "    </tr>\n",
              "  </tbody>\n",
              "</table>\n",
              "</div>"
            ],
            "text/plain": [
              "       PassengerId      Pclass         Age       SibSp       Parch        Fare\n",
              "count   418.000000  418.000000  332.000000  418.000000  418.000000  417.000000\n",
              "mean   1100.500000    2.265550   30.272590    0.447368    0.392344   35.627188\n",
              "std     120.810458    0.841838   14.181209    0.896760    0.981429   55.907576\n",
              "min     892.000000    1.000000    0.170000    0.000000    0.000000    0.000000\n",
              "25%     996.250000    1.000000   21.000000    0.000000    0.000000    7.895800\n",
              "50%    1100.500000    3.000000   27.000000    0.000000    0.000000   14.454200\n",
              "75%    1204.750000    3.000000   39.000000    1.000000    0.000000   31.500000\n",
              "max    1309.000000    3.000000   76.000000    8.000000    9.000000  512.329200"
            ]
          },
          "metadata": {
            "tags": []
          },
          "execution_count": 50
        }
      ]
    },
    {
      "cell_type": "markdown",
      "metadata": {
        "id": "tb2InuldV31Z"
      },
      "source": [
        "#### **Fare Column**"
      ]
    },
    {
      "cell_type": "code",
      "metadata": {
        "trusted": true,
        "id": "QZj9bnxDV31a",
        "colab": {
          "base_uri": "https://localhost:8080/",
          "height": 80
        },
        "outputId": "dad53b65-f49c-4d26-ba44-698b6ba3fdc2"
      },
      "source": [
        "test_df[test_df['Fare'].isnull()]"
      ],
      "execution_count": 51,
      "outputs": [
        {
          "output_type": "execute_result",
          "data": {
            "text/html": [
              "<div>\n",
              "<style scoped>\n",
              "    .dataframe tbody tr th:only-of-type {\n",
              "        vertical-align: middle;\n",
              "    }\n",
              "\n",
              "    .dataframe tbody tr th {\n",
              "        vertical-align: top;\n",
              "    }\n",
              "\n",
              "    .dataframe thead th {\n",
              "        text-align: right;\n",
              "    }\n",
              "</style>\n",
              "<table border=\"1\" class=\"dataframe\">\n",
              "  <thead>\n",
              "    <tr style=\"text-align: right;\">\n",
              "      <th></th>\n",
              "      <th>PassengerId</th>\n",
              "      <th>Pclass</th>\n",
              "      <th>Name</th>\n",
              "      <th>Sex</th>\n",
              "      <th>Age</th>\n",
              "      <th>SibSp</th>\n",
              "      <th>Parch</th>\n",
              "      <th>Ticket</th>\n",
              "      <th>Fare</th>\n",
              "      <th>Cabin</th>\n",
              "      <th>Embarked</th>\n",
              "    </tr>\n",
              "  </thead>\n",
              "  <tbody>\n",
              "    <tr>\n",
              "      <th>152</th>\n",
              "      <td>1044</td>\n",
              "      <td>3</td>\n",
              "      <td>Storey, Mr. Thomas</td>\n",
              "      <td>male</td>\n",
              "      <td>60.5</td>\n",
              "      <td>0</td>\n",
              "      <td>0</td>\n",
              "      <td>3701</td>\n",
              "      <td>NaN</td>\n",
              "      <td>NaN</td>\n",
              "      <td>S</td>\n",
              "    </tr>\n",
              "  </tbody>\n",
              "</table>\n",
              "</div>"
            ],
            "text/plain": [
              "     PassengerId  Pclass                Name   Sex  ...  Ticket  Fare  Cabin Embarked\n",
              "152         1044       3  Storey, Mr. Thomas  male  ...    3701   NaN    NaN        S\n",
              "\n",
              "[1 rows x 11 columns]"
            ]
          },
          "metadata": {
            "tags": []
          },
          "execution_count": 51
        }
      ]
    },
    {
      "cell_type": "code",
      "metadata": {
        "trusted": true,
        "id": "U6pS6IDKV31a"
      },
      "source": [
        "#we can replace missing value in fare by taking median of all fares of those passengers \n",
        "#who share 3rd Passenger class and Embarked from 'S' \n",
        "def fill_missing_fare(df):\n",
        "    median_fare=df[(df['Pclass'] == 3) & (df['Embarked'] == 'S')]['Fare'].median()\n",
        "#'S'\n",
        "       #print(median_fare)\n",
        "    df[\"Fare\"] = df[\"Fare\"].fillna(median_fare)\n",
        "    return df\n",
        "\n",
        "test_df=fill_missing_fare(test_df)"
      ],
      "execution_count": 52,
      "outputs": []
    },
    {
      "cell_type": "markdown",
      "metadata": {
        "id": "CAThsD07V31a"
      },
      "source": [
        "## **7. Feature Engineering** \n"
      ]
    },
    {
      "cell_type": "markdown",
      "metadata": {
        "id": "LhDWrYprV31a"
      },
      "source": [
        "### **Deck**\n",
        "\n",
        "-  Where exactly were passenger on the ship?"
      ]
    },
    {
      "cell_type": "code",
      "metadata": {
        "trusted": true,
        "id": "Q7ApuldJV31b",
        "colab": {
          "base_uri": "https://localhost:8080/"
        },
        "outputId": "6d3f79c2-d7a8-4c48-81d3-26a5f714171d"
      },
      "source": [
        "train_df[\"Deck\"]=train_df.Cabin.str[0]\n",
        "test_df[\"Deck\"]=test_df.Cabin.str[0]\n",
        "train_df[\"Deck\"].unique() # 0 is for null values"
      ],
      "execution_count": 53,
      "outputs": [
        {
          "output_type": "execute_result",
          "data": {
            "text/plain": [
              "array([nan, 'C', 'E', 'G', 'D', 'A', 'B', 'F', 'T'], dtype=object)"
            ]
          },
          "metadata": {
            "tags": []
          },
          "execution_count": 53
        }
      ]
    },
    {
      "cell_type": "code",
      "metadata": {
        "trusted": true,
        "id": "ky_tttglV31b",
        "colab": {
          "base_uri": "https://localhost:8080/",
          "height": 386
        },
        "outputId": "dc28b0a4-0168-47f1-9fa3-ad848cf8872a"
      },
      "source": [
        "g = sns.factorplot(\"Survived\", col=\"Deck\", col_wrap=4,\n",
        "                    data=train_df[train_df.Deck.notnull()],\n",
        "                    kind=\"count\", size=2.5, aspect=.8);"
      ],
      "execution_count": 54,
      "outputs": [
        {
          "output_type": "display_data",
          "data": {
            "image/png": "[encoded data removed]",
            "text/plain": [
              "<Figure size 576x360 with 8 Axes>"
            ]
          },
          "metadata": {
            "tags": [],
            "needs_background": "light"
          }
        }
      ]
    },
    {
      "cell_type": "code",
      "metadata": {
        "trusted": true,
        "id": "rltm7ABdV31b",
        "colab": {
          "base_uri": "https://localhost:8080/",
          "height": 225
        },
        "outputId": "27065b9a-313c-42f3-f1eb-8e1379b31890"
      },
      "source": [
        "train_df = train_df.assign(Deck=train_df.Deck.astype(object)).sort_values(\"Deck\")\n",
        "g = sns.FacetGrid(train_df, col=\"Pclass\", sharex=False,\n",
        "                  gridspec_kws={\"width_ratios\": [5, 3, 3]})\n",
        "g.map(sns.boxplot, \"Deck\", \"Age\");"
      ],
      "execution_count": 55,
      "outputs": [
        {
          "output_type": "display_data",
          "data": {
            "image/png": "[encoded data removed]",
            "text/plain": [
              "<Figure size 648x216 with 3 Axes>"
            ]
          },
          "metadata": {
            "tags": [],
            "needs_background": "light"
          }
        }
      ]
    },
    {
      "cell_type": "code",
      "metadata": {
        "trusted": true,
        "id": "FtrGtQkFV31c",
        "colab": {
          "base_uri": "https://localhost:8080/"
        },
        "outputId": "d7251422-5bc7-4cf2-c221-4c560a0e439e"
      },
      "source": [
        "train_df.Deck.fillna('Z', inplace=True)\n",
        "test_df.Deck.fillna('Z', inplace=True)\n",
        "train_df[\"Deck\"].unique() # Z is for null values"
      ],
      "execution_count": 56,
      "outputs": [
        {
          "output_type": "execute_result",
          "data": {
            "text/plain": [
              "array(['A', 'B', 'C', 'D', 'E', 'F', 'G', 'T', 'Z'], dtype=object)"
            ]
          },
          "metadata": {
            "tags": []
          },
          "execution_count": 56
        }
      ]
    },
    {
      "cell_type": "markdown",
      "metadata": {
        "id": "mfae-EzWV31c"
      },
      "source": [
        "How Big is your family?"
      ]
    },
    {
      "cell_type": "code",
      "metadata": {
        "trusted": true,
        "id": "-4IZ5XPvV31c",
        "colab": {
          "base_uri": "https://localhost:8080/"
        },
        "outputId": "ca4a6464-066b-4e29-f220-48e25db86ce8"
      },
      "source": [
        "# Create a family size variable including the passenger themselves\n",
        "train_df[\"FamilySize\"] = train_df[\"SibSp\"] + train_df[\"Parch\"]+1\n",
        "test_df[\"FamilySize\"] = test_df[\"SibSp\"] + test_df[\"Parch\"]+1\n",
        "print(train_df[\"FamilySize\"].value_counts())"
      ],
      "execution_count": 57,
      "outputs": [
        {
          "output_type": "stream",
          "text": [
            "1     537\n",
            "2     161\n",
            "3     102\n",
            "4      29\n",
            "6      22\n",
            "5      15\n",
            "7      12\n",
            "11      7\n",
            "8       6\n",
            "Name: FamilySize, dtype: int64\n"
          ],
          "name": "stdout"
        }
      ]
    },
    {
      "cell_type": "code",
      "metadata": {
        "trusted": true,
        "id": "nrt4gd3nV31d"
      },
      "source": [
        "# Discretize family size\n",
        "train_df.loc[train_df[\"FamilySize\"] == 1, \"FsizeD\"] = 'singleton'\n",
        "train_df.loc[(train_df[\"FamilySize\"] > 1)  &  (train_df[\"FamilySize\"] < 5) , \"FsizeD\"] = 'small'\n",
        "train_df.loc[train_df[\"FamilySize\"] >4, \"FsizeD\"] = 'large'\n",
        "\n",
        "test_df.loc[test_df[\"FamilySize\"] == 1, \"FsizeD\"] = 'singleton'\n",
        "test_df.loc[(test_df[\"FamilySize\"] >1) & (test_df[\"FamilySize\"] <5) , \"FsizeD\"] = 'small'\n",
        "test_df.loc[test_df[\"FamilySize\"] >4, \"FsizeD\"] = 'large'\n"
      ],
      "execution_count": 58,
      "outputs": []
    },
    {
      "cell_type": "code",
      "metadata": {
        "trusted": true,
        "id": "5AZOosJMV31d",
        "colab": {
          "base_uri": "https://localhost:8080/"
        },
        "outputId": "cb0d8e49-f9ef-4b0a-8cf6-c31a0f471fd4"
      },
      "source": [
        "print(train_df[\"FsizeD\"].unique())\n",
        "print(train_df[\"FsizeD\"].value_counts())"
      ],
      "execution_count": 59,
      "outputs": [
        {
          "output_type": "stream",
          "text": [
            "['singleton' 'small' 'large']\n",
            "singleton    537\n",
            "small        292\n",
            "large         62\n",
            "Name: FsizeD, dtype: int64\n"
          ],
          "name": "stdout"
        }
      ]
    },
    {
      "cell_type": "code",
      "metadata": {
        "trusted": true,
        "id": "B3FTjT0rV31d",
        "colab": {
          "base_uri": "https://localhost:8080/",
          "height": 386
        },
        "outputId": "f2da26d7-8b29-441f-be2f-9af4f376457f"
      },
      "source": [
        "sns.factorplot(x=\"FsizeD\", y=\"Survived\", data=train_df);"
      ],
      "execution_count": 60,
      "outputs": [
        {
          "output_type": "display_data",
          "data": {
            "image/png": "[encoded data removed]",
            "text/plain": [
              "<Figure size 360x360 with 1 Axes>"
            ]
          },
          "metadata": {
            "tags": [],
            "needs_background": "light"
          }
        }
      ]
    },
    {
      "cell_type": "markdown",
      "metadata": {
        "id": "Dc8cL8kNV31e"
      },
      "source": [
        "### **Do you have longer names?**"
      ]
    },
    {
      "cell_type": "code",
      "metadata": {
        "trusted": true,
        "id": "KoCo7I_HV31e"
      },
      "source": [
        "#Create feature for length of name \n",
        "# The apply method generates a new series\n",
        "\n",
        "train_df[\"NameLength\"] = train_df[\"Name\"].apply(lambda x: len(x))\n",
        "test_df[\"NameLength\"] = test_df[\"Name\"].apply(lambda x: len(x))\n",
        "bins = [0, 20, 40, 57, 85]\n",
        "group_names = ['short', 'okay', 'good', 'long']\n",
        "train_df['NlengthD'] = pd.cut(train_df['NameLength'], bins, labels=group_names)\n",
        "test_df['NlengthD'] = pd.cut(test_df['NameLength'], bins, labels=group_names)\n"
      ],
      "execution_count": 61,
      "outputs": []
    },
    {
      "cell_type": "code",
      "metadata": {
        "trusted": true,
        "id": "t6FcEt4LV31e",
        "colab": {
          "base_uri": "https://localhost:8080/",
          "height": 420
        },
        "outputId": "f60e3962-3014-4e49-d3d9-830ee644c5a6"
      },
      "source": [
        "sns.factorplot(x=\"NlengthD\", y=\"Survived\", data=train_df)\n",
        "print(train_df[\"NlengthD\"].unique())"
      ],
      "execution_count": 62,
      "outputs": [
        {
          "output_type": "stream",
          "text": [
            "['okay', 'short', 'good', 'long']\n",
            "Categories (4, object): ['short' < 'okay' < 'good' < 'long']\n"
          ],
          "name": "stdout"
        },
        {
          "output_type": "display_data",
          "data": {
            "image/png": "[encoded data removed]",
            "text/plain": [
              "<Figure size 360x360 with 1 Axes>"
            ]
          },
          "metadata": {
            "tags": [],
            "needs_background": "light"
          }
        }
      ]
    },
    {
      "cell_type": "markdown",
      "metadata": {
        "id": "LFi4jf1gV31e"
      },
      "source": [
        "### **What's in the name?**"
      ]
    },
    {
      "cell_type": "code",
      "metadata": {
        "trusted": true,
        "id": "LGO8ACDSV31f"
      },
      "source": [
        "import re\n",
        "\n",
        "#A function to get the title from a name.\n",
        "def get_title(name):\n",
        "    \"\"\"Use a regular expression to search for a title.  \n",
        "       Titles always consist of capital and lowercase letters, and end with a period\"\"\"\n",
        "    title_search = re.search(' ([A-Za-z]+)\\.', name)\n",
        "    #If the title exists, extract and return it.\n",
        "    if title_search:\n",
        "        return title_search.group(1)\n",
        "    return \"\""
      ],
      "execution_count": 63,
      "outputs": []
    },
    {
      "cell_type": "code",
      "metadata": {
        "trusted": true,
        "id": "8uJhQsY5V31f",
        "colab": {
          "base_uri": "https://localhost:8080/"
        },
        "outputId": "b06101c0-d644-402e-e015-480d0a1f4537"
      },
      "source": [
        "#Get all the titles and print how often each one occurs.\n",
        "titles = train_df[\"Name\"].apply(get_title)\n",
        "print(pd.value_counts(titles))\n"
      ],
      "execution_count": 64,
      "outputs": [
        {
          "output_type": "stream",
          "text": [
            "Mr          517\n",
            "Miss        182\n",
            "Mrs         125\n",
            "Master       40\n",
            "Dr            7\n",
            "Rev           6\n",
            "Major         2\n",
            "Col           2\n",
            "Mlle          2\n",
            "Sir           1\n",
            "Countess      1\n",
            "Capt          1\n",
            "Ms            1\n",
            "Lady          1\n",
            "Jonkheer      1\n",
            "Mme           1\n",
            "Don           1\n",
            "Name: Name, dtype: int64\n"
          ],
          "name": "stdout"
        }
      ]
    },
    {
      "cell_type": "code",
      "metadata": {
        "trusted": true,
        "id": "kEgizvJyV31f"
      },
      "source": [
        "#Add in the title column.\n",
        "train_df[\"Title\"] = titles"
      ],
      "execution_count": 65,
      "outputs": []
    },
    {
      "cell_type": "code",
      "metadata": {
        "trusted": true,
        "id": "BcJMoU64V31g"
      },
      "source": [
        "# Titles with very low cell counts to be combined to \"rare\" level\n",
        "rare_title = ['Dona', 'Lady', 'Countess','Capt', 'Col', 'Don', \n",
        "                'Dr', 'Major', 'Rev', 'Sir', 'Jonkheer']\n"
      ],
      "execution_count": 66,
      "outputs": []
    },
    {
      "cell_type": "code",
      "metadata": {
        "trusted": true,
        "id": "l2PaN2xeV31g"
      },
      "source": [
        "# Also reassign mlle, ms, and mme accordingly\n",
        "train_df.loc[train_df[\"Title\"] == \"Mlle\", \"Title\"] = 'Miss'\n",
        "train_df.loc[train_df[\"Title\"] == \"Ms\", \"Title\"] = 'Miss'\n",
        "train_df.loc[train_df[\"Title\"] == \"Mme\", \"Title\"] = 'Mrs'\n",
        "train_df.loc[train_df[\"Title\"] == \"Dona\", \"Title\"] = 'Rare Title'\n",
        "train_df.loc[train_df[\"Title\"] == \"Lady\", \"Title\"] = 'Rare Title'\n",
        "train_df.loc[train_df[\"Title\"] == \"Countess\", \"Title\"] = 'Rare Title'\n",
        "train_df.loc[train_df[\"Title\"] == \"Capt\", \"Title\"] = 'Rare Title'\n",
        "train_df.loc[train_df[\"Title\"] == \"Col\", \"Title\"] = 'Rare Title'\n",
        "train_df.loc[train_df[\"Title\"] == \"Don\", \"Title\"] = 'Rare Title'\n",
        "train_df.loc[train_df[\"Title\"] == \"Major\", \"Title\"] = 'Rare Title'\n",
        "train_df.loc[train_df[\"Title\"] == \"Rev\", \"Title\"] = 'Rare Title'\n",
        "train_df.loc[train_df[\"Title\"] == \"Sir\", \"Title\"] = 'Rare Title'\n",
        "train_df.loc[train_df[\"Title\"] == \"Jonkheer\", \"Title\"] = 'Rare Title'\n",
        "train_df.loc[train_df[\"Title\"] == \"Dr\", \"Title\"] = 'Rare Title'\n"
      ],
      "execution_count": 67,
      "outputs": []
    },
    {
      "cell_type": "markdown",
      "metadata": {
        "id": "RXG1xWEFV31g"
      },
      "source": [
        "### **Do the same with test set**"
      ]
    },
    {
      "cell_type": "code",
      "metadata": {
        "trusted": true,
        "id": "UOfiDtL9V31h",
        "colab": {
          "base_uri": "https://localhost:8080/"
        },
        "outputId": "71b6d1f6-2708-4117-9903-ad4d968477af"
      },
      "source": [
        "titles = test_df[\"Name\"].apply(get_title)\n",
        "print(pd.value_counts(titles))"
      ],
      "execution_count": 68,
      "outputs": [
        {
          "output_type": "stream",
          "text": [
            "Mr        240\n",
            "Miss       78\n",
            "Mrs        72\n",
            "Master     21\n",
            "Col         2\n",
            "Rev         2\n",
            "Ms          1\n",
            "Dr          1\n",
            "Dona        1\n",
            "Name: Name, dtype: int64\n"
          ],
          "name": "stdout"
        }
      ]
    },
    {
      "cell_type": "code",
      "metadata": {
        "trusted": true,
        "id": "gsutChA8V31h"
      },
      "source": [
        "#Add in the title column.\n",
        "test_df[\"Title\"] = titles\n"
      ],
      "execution_count": 69,
      "outputs": []
    },
    {
      "cell_type": "code",
      "metadata": {
        "trusted": true,
        "id": "sh8a6tqYV31h"
      },
      "source": [
        "# Titles with very low cell counts to be combined to \"rare\" level\n",
        "rare_title = ['Dona', 'Lady', 'Countess','Capt', 'Col', 'Don', \n",
        "                'Dr', 'Major', 'Rev', 'Sir', 'Jonkheer']"
      ],
      "execution_count": 70,
      "outputs": []
    },
    {
      "cell_type": "code",
      "metadata": {
        "trusted": true,
        "id": "oOGB5EzPV31i"
      },
      "source": [
        "# Also reassign mlle, ms, and mme accordingly\n",
        "test_df.loc[test_df[\"Title\"] == \"Mlle\", \"Title\"] = 'Miss'\n",
        "test_df.loc[test_df[\"Title\"] == \"Ms\", \"Title\"] = 'Miss'\n",
        "test_df.loc[test_df[\"Title\"] == \"Mme\", \"Title\"] = 'Mrs'\n",
        "test_df.loc[test_df[\"Title\"] == \"Dona\", \"Title\"] = 'Rare Title'\n",
        "test_df.loc[test_df[\"Title\"] == \"Lady\", \"Title\"] = 'Rare Title'\n",
        "test_df.loc[test_df[\"Title\"] == \"Countess\", \"Title\"] = 'Rare Title'\n",
        "test_df.loc[test_df[\"Title\"] == \"Capt\", \"Title\"] = 'Rare Title'\n",
        "test_df.loc[test_df[\"Title\"] == \"Col\", \"Title\"] = 'Rare Title'\n",
        "test_df.loc[test_df[\"Title\"] == \"Don\", \"Title\"] = 'Rare Title'\n",
        "test_df.loc[test_df[\"Title\"] == \"Major\", \"Title\"] = 'Rare Title'\n",
        "test_df.loc[test_df[\"Title\"] == \"Rev\", \"Title\"] = 'Rare Title'\n",
        "test_df.loc[test_df[\"Title\"] == \"Sir\", \"Title\"] = 'Rare Title'\n",
        "test_df.loc[test_df[\"Title\"] == \"Jonkheer\", \"Title\"] = 'Rare Title'\n",
        "test_df.loc[test_df[\"Title\"] == \"Dr\", \"Title\"] = 'Rare Title'\n"
      ],
      "execution_count": 71,
      "outputs": []
    },
    {
      "cell_type": "code",
      "metadata": {
        "trusted": true,
        "id": "DclgC3BzV31i",
        "colab": {
          "base_uri": "https://localhost:8080/"
        },
        "outputId": "004ecb47-c809-45e8-f0cf-f8f02aa8c7a8"
      },
      "source": [
        "test_df[\"Title\"].value_counts()"
      ],
      "execution_count": 72,
      "outputs": [
        {
          "output_type": "execute_result",
          "data": {
            "text/plain": [
              "Mr            240\n",
              "Miss           79\n",
              "Mrs            72\n",
              "Master         21\n",
              "Rare Title      6\n",
              "Name: Title, dtype: int64"
            ]
          },
          "metadata": {
            "tags": []
          },
          "execution_count": 72
        }
      ]
    },
    {
      "cell_type": "markdown",
      "metadata": {
        "id": "c_3qX8RgV31i"
      },
      "source": [
        "### **Ticket column**"
      ]
    },
    {
      "cell_type": "code",
      "metadata": {
        "trusted": true,
        "id": "bMt__OwkV31j",
        "colab": {
          "base_uri": "https://localhost:8080/"
        },
        "outputId": "eccea454-05a0-4cbe-8dad-8e52b18757f0"
      },
      "source": [
        "train_df[\"Ticket\"].tail()"
      ],
      "execution_count": 73,
      "outputs": [
        {
          "output_type": "execute_result",
          "data": {
            "text/plain": [
              "884    SOTON/OQ 392076\n",
              "885             382652\n",
              "886             211536\n",
              "888         W./C. 6607\n",
              "890             370376\n",
              "Name: Ticket, dtype: object"
            ]
          },
          "metadata": {
            "tags": []
          },
          "execution_count": 73
        }
      ]
    },
    {
      "cell_type": "code",
      "metadata": {
        "trusted": true,
        "id": "RvlaIl83V31j"
      },
      "source": [
        "train_df[\"TicketNumber\"] = train_df[\"Ticket\"].str.extract('(\\d{2,})', expand=True)\n",
        "train_df[\"TicketNumber\"] = train_df[\"TicketNumber\"].apply(pd.to_numeric)"
      ],
      "execution_count": 74,
      "outputs": []
    },
    {
      "cell_type": "code",
      "metadata": {
        "trusted": true,
        "id": "ygdTU9TvV31j"
      },
      "source": [
        "test_df[\"TicketNumber\"] = test_df[\"Ticket\"].str.extract('(\\d{2,})', expand=True)\n",
        "test_df[\"TicketNumber\"] = test_df[\"TicketNumber\"].apply(pd.to_numeric)"
      ],
      "execution_count": 75,
      "outputs": []
    },
    {
      "cell_type": "code",
      "metadata": {
        "trusted": true,
        "id": "YclOyMbxV31k",
        "colab": {
          "base_uri": "https://localhost:8080/",
          "height": 493
        },
        "outputId": "18ecf92b-06f5-4a3a-b492-b35468809349"
      },
      "source": [
        "#some rows in ticket column dont have numeric value so we got NaN there\n",
        "train_df[train_df[\"TicketNumber\"].isnull()]"
      ],
      "execution_count": 76,
      "outputs": [
        {
          "output_type": "execute_result",
          "data": {
            "text/html": [
              "<div>\n",
              "<style scoped>\n",
              "    .dataframe tbody tr th:only-of-type {\n",
              "        vertical-align: middle;\n",
              "    }\n",
              "\n",
              "    .dataframe tbody tr th {\n",
              "        vertical-align: top;\n",
              "    }\n",
              "\n",
              "    .dataframe thead th {\n",
              "        text-align: right;\n",
              "    }\n",
              "</style>\n",
              "<table border=\"1\" class=\"dataframe\">\n",
              "  <thead>\n",
              "    <tr style=\"text-align: right;\">\n",
              "      <th></th>\n",
              "      <th>PassengerId</th>\n",
              "      <th>Survived</th>\n",
              "      <th>Pclass</th>\n",
              "      <th>Name</th>\n",
              "      <th>Sex</th>\n",
              "      <th>Age</th>\n",
              "      <th>SibSp</th>\n",
              "      <th>Parch</th>\n",
              "      <th>Ticket</th>\n",
              "      <th>Fare</th>\n",
              "      <th>Cabin</th>\n",
              "      <th>Embarked</th>\n",
              "      <th>Deck</th>\n",
              "      <th>FamilySize</th>\n",
              "      <th>FsizeD</th>\n",
              "      <th>NameLength</th>\n",
              "      <th>NlengthD</th>\n",
              "      <th>Title</th>\n",
              "      <th>TicketNumber</th>\n",
              "    </tr>\n",
              "  </thead>\n",
              "  <tbody>\n",
              "    <tr>\n",
              "      <th>772</th>\n",
              "      <td>773</td>\n",
              "      <td>0</td>\n",
              "      <td>2</td>\n",
              "      <td>Mack, Mrs. (Mary)</td>\n",
              "      <td>female</td>\n",
              "      <td>57.0</td>\n",
              "      <td>0</td>\n",
              "      <td>0</td>\n",
              "      <td>S.O./P.P. 3</td>\n",
              "      <td>10.5</td>\n",
              "      <td>E77</td>\n",
              "      <td>S</td>\n",
              "      <td>E</td>\n",
              "      <td>1</td>\n",
              "      <td>singleton</td>\n",
              "      <td>17</td>\n",
              "      <td>short</td>\n",
              "      <td>Mrs</td>\n",
              "      <td>NaN</td>\n",
              "    </tr>\n",
              "    <tr>\n",
              "      <th>179</th>\n",
              "      <td>180</td>\n",
              "      <td>0</td>\n",
              "      <td>3</td>\n",
              "      <td>Leonard, Mr. Lionel</td>\n",
              "      <td>male</td>\n",
              "      <td>36.0</td>\n",
              "      <td>0</td>\n",
              "      <td>0</td>\n",
              "      <td>LINE</td>\n",
              "      <td>0.0</td>\n",
              "      <td>NaN</td>\n",
              "      <td>S</td>\n",
              "      <td>Z</td>\n",
              "      <td>1</td>\n",
              "      <td>singleton</td>\n",
              "      <td>19</td>\n",
              "      <td>short</td>\n",
              "      <td>Mr</td>\n",
              "      <td>NaN</td>\n",
              "    </tr>\n",
              "    <tr>\n",
              "      <th>271</th>\n",
              "      <td>272</td>\n",
              "      <td>1</td>\n",
              "      <td>3</td>\n",
              "      <td>Tornquist, Mr. William Henry</td>\n",
              "      <td>male</td>\n",
              "      <td>25.0</td>\n",
              "      <td>0</td>\n",
              "      <td>0</td>\n",
              "      <td>LINE</td>\n",
              "      <td>0.0</td>\n",
              "      <td>NaN</td>\n",
              "      <td>S</td>\n",
              "      <td>Z</td>\n",
              "      <td>1</td>\n",
              "      <td>singleton</td>\n",
              "      <td>28</td>\n",
              "      <td>okay</td>\n",
              "      <td>Mr</td>\n",
              "      <td>NaN</td>\n",
              "    </tr>\n",
              "    <tr>\n",
              "      <th>302</th>\n",
              "      <td>303</td>\n",
              "      <td>0</td>\n",
              "      <td>3</td>\n",
              "      <td>Johnson, Mr. William Cahoone Jr</td>\n",
              "      <td>male</td>\n",
              "      <td>19.0</td>\n",
              "      <td>0</td>\n",
              "      <td>0</td>\n",
              "      <td>LINE</td>\n",
              "      <td>0.0</td>\n",
              "      <td>NaN</td>\n",
              "      <td>S</td>\n",
              "      <td>Z</td>\n",
              "      <td>1</td>\n",
              "      <td>singleton</td>\n",
              "      <td>31</td>\n",
              "      <td>okay</td>\n",
              "      <td>Mr</td>\n",
              "      <td>NaN</td>\n",
              "    </tr>\n",
              "    <tr>\n",
              "      <th>597</th>\n",
              "      <td>598</td>\n",
              "      <td>0</td>\n",
              "      <td>3</td>\n",
              "      <td>Johnson, Mr. Alfred</td>\n",
              "      <td>male</td>\n",
              "      <td>49.0</td>\n",
              "      <td>0</td>\n",
              "      <td>0</td>\n",
              "      <td>LINE</td>\n",
              "      <td>0.0</td>\n",
              "      <td>NaN</td>\n",
              "      <td>S</td>\n",
              "      <td>Z</td>\n",
              "      <td>1</td>\n",
              "      <td>singleton</td>\n",
              "      <td>19</td>\n",
              "      <td>short</td>\n",
              "      <td>Mr</td>\n",
              "      <td>NaN</td>\n",
              "    </tr>\n",
              "    <tr>\n",
              "      <th>841</th>\n",
              "      <td>842</td>\n",
              "      <td>0</td>\n",
              "      <td>2</td>\n",
              "      <td>Mudd, Mr. Thomas Charles</td>\n",
              "      <td>male</td>\n",
              "      <td>16.0</td>\n",
              "      <td>0</td>\n",
              "      <td>0</td>\n",
              "      <td>S.O./P.P. 3</td>\n",
              "      <td>10.5</td>\n",
              "      <td>NaN</td>\n",
              "      <td>S</td>\n",
              "      <td>Z</td>\n",
              "      <td>1</td>\n",
              "      <td>singleton</td>\n",
              "      <td>24</td>\n",
              "      <td>okay</td>\n",
              "      <td>Mr</td>\n",
              "      <td>NaN</td>\n",
              "    </tr>\n",
              "  </tbody>\n",
              "</table>\n",
              "</div>"
            ],
            "text/plain": [
              "     PassengerId  Survived  Pclass  ... NlengthD Title  TicketNumber\n",
              "772          773         0       2  ...    short   Mrs           NaN\n",
              "179          180         0       3  ...    short    Mr           NaN\n",
              "271          272         1       3  ...     okay    Mr           NaN\n",
              "302          303         0       3  ...     okay    Mr           NaN\n",
              "597          598         0       3  ...    short    Mr           NaN\n",
              "841          842         0       2  ...     okay    Mr           NaN\n",
              "\n",
              "[6 rows x 19 columns]"
            ]
          },
          "metadata": {
            "tags": []
          },
          "execution_count": 76
        }
      ]
    },
    {
      "cell_type": "code",
      "metadata": {
        "trusted": true,
        "id": "X3TOSXlhV31k"
      },
      "source": [
        "train_df.TicketNumber.fillna(train_df[\"TicketNumber\"].median(), inplace=True)\n",
        "test_df.TicketNumber.fillna(test_df[\"TicketNumber\"].median(), inplace=True)"
      ],
      "execution_count": 77,
      "outputs": []
    },
    {
      "cell_type": "markdown",
      "metadata": {
        "id": "7eUq-tD2V31k"
      },
      "source": [
        "## **8. Categorical Encoding** "
      ]
    },
    {
      "cell_type": "code",
      "metadata": {
        "trusted": true,
        "id": "hvBu5ujnV31l"
      },
      "source": [
        "labelenc=LabelEncoder()\n",
        "\n",
        "cat_vars=['Embarked','Sex',\"Title\",\"FsizeD\",\"NlengthD\",'Deck']\n",
        "for col in cat_vars:\n",
        "    train_df[col]=labelenc.fit_transform(train_df[col])\n",
        "    test_df[col]=labelenc.fit_transform(test_df[col])"
      ],
      "execution_count": 78,
      "outputs": []
    },
    {
      "cell_type": "code",
      "metadata": {
        "trusted": true,
        "id": "OzwdhHAOV31l",
        "colab": {
          "base_uri": "https://localhost:8080/",
          "height": 394
        },
        "outputId": "b7fcb16a-2546-4f54-8891-987ba20bdff2"
      },
      "source": [
        "train_df.head()"
      ],
      "execution_count": 79,
      "outputs": [
        {
          "output_type": "execute_result",
          "data": {
            "text/html": [
              "<div>\n",
              "<style scoped>\n",
              "    .dataframe tbody tr th:only-of-type {\n",
              "        vertical-align: middle;\n",
              "    }\n",
              "\n",
              "    .dataframe tbody tr th {\n",
              "        vertical-align: top;\n",
              "    }\n",
              "\n",
              "    .dataframe thead th {\n",
              "        text-align: right;\n",
              "    }\n",
              "</style>\n",
              "<table border=\"1\" class=\"dataframe\">\n",
              "  <thead>\n",
              "    <tr style=\"text-align: right;\">\n",
              "      <th></th>\n",
              "      <th>PassengerId</th>\n",
              "      <th>Survived</th>\n",
              "      <th>Pclass</th>\n",
              "      <th>Name</th>\n",
              "      <th>Sex</th>\n",
              "      <th>Age</th>\n",
              "      <th>SibSp</th>\n",
              "      <th>Parch</th>\n",
              "      <th>Ticket</th>\n",
              "      <th>Fare</th>\n",
              "      <th>Cabin</th>\n",
              "      <th>Embarked</th>\n",
              "      <th>Deck</th>\n",
              "      <th>FamilySize</th>\n",
              "      <th>FsizeD</th>\n",
              "      <th>NameLength</th>\n",
              "      <th>NlengthD</th>\n",
              "      <th>Title</th>\n",
              "      <th>TicketNumber</th>\n",
              "    </tr>\n",
              "  </thead>\n",
              "  <tbody>\n",
              "    <tr>\n",
              "      <th>475</th>\n",
              "      <td>476</td>\n",
              "      <td>0</td>\n",
              "      <td>1</td>\n",
              "      <td>Clifford, Mr. George Quincy</td>\n",
              "      <td>1</td>\n",
              "      <td>NaN</td>\n",
              "      <td>0</td>\n",
              "      <td>0</td>\n",
              "      <td>110465</td>\n",
              "      <td>52.0000</td>\n",
              "      <td>A14</td>\n",
              "      <td>2</td>\n",
              "      <td>0</td>\n",
              "      <td>1</td>\n",
              "      <td>1</td>\n",
              "      <td>27</td>\n",
              "      <td>2</td>\n",
              "      <td>2</td>\n",
              "      <td>110465.0</td>\n",
              "    </tr>\n",
              "    <tr>\n",
              "      <th>174</th>\n",
              "      <td>175</td>\n",
              "      <td>0</td>\n",
              "      <td>1</td>\n",
              "      <td>Smith, Mr. James Clinch</td>\n",
              "      <td>1</td>\n",
              "      <td>56.0</td>\n",
              "      <td>0</td>\n",
              "      <td>0</td>\n",
              "      <td>17764</td>\n",
              "      <td>30.6958</td>\n",
              "      <td>A7</td>\n",
              "      <td>0</td>\n",
              "      <td>0</td>\n",
              "      <td>1</td>\n",
              "      <td>1</td>\n",
              "      <td>23</td>\n",
              "      <td>2</td>\n",
              "      <td>2</td>\n",
              "      <td>17764.0</td>\n",
              "    </tr>\n",
              "    <tr>\n",
              "      <th>209</th>\n",
              "      <td>210</td>\n",
              "      <td>1</td>\n",
              "      <td>1</td>\n",
              "      <td>Blank, Mr. Henry</td>\n",
              "      <td>1</td>\n",
              "      <td>40.0</td>\n",
              "      <td>0</td>\n",
              "      <td>0</td>\n",
              "      <td>112277</td>\n",
              "      <td>31.0000</td>\n",
              "      <td>A31</td>\n",
              "      <td>0</td>\n",
              "      <td>0</td>\n",
              "      <td>1</td>\n",
              "      <td>1</td>\n",
              "      <td>16</td>\n",
              "      <td>3</td>\n",
              "      <td>2</td>\n",
              "      <td>112277.0</td>\n",
              "    </tr>\n",
              "    <tr>\n",
              "      <th>445</th>\n",
              "      <td>446</td>\n",
              "      <td>1</td>\n",
              "      <td>1</td>\n",
              "      <td>Dodge, Master. Washington</td>\n",
              "      <td>1</td>\n",
              "      <td>4.0</td>\n",
              "      <td>0</td>\n",
              "      <td>2</td>\n",
              "      <td>33638</td>\n",
              "      <td>81.8583</td>\n",
              "      <td>A34</td>\n",
              "      <td>2</td>\n",
              "      <td>0</td>\n",
              "      <td>3</td>\n",
              "      <td>2</td>\n",
              "      <td>25</td>\n",
              "      <td>2</td>\n",
              "      <td>0</td>\n",
              "      <td>33638.0</td>\n",
              "    </tr>\n",
              "    <tr>\n",
              "      <th>647</th>\n",
              "      <td>648</td>\n",
              "      <td>1</td>\n",
              "      <td>1</td>\n",
              "      <td>Simonius-Blumer, Col. Oberst Alfons</td>\n",
              "      <td>1</td>\n",
              "      <td>56.0</td>\n",
              "      <td>0</td>\n",
              "      <td>0</td>\n",
              "      <td>13213</td>\n",
              "      <td>35.5000</td>\n",
              "      <td>A26</td>\n",
              "      <td>0</td>\n",
              "      <td>0</td>\n",
              "      <td>1</td>\n",
              "      <td>1</td>\n",
              "      <td>35</td>\n",
              "      <td>2</td>\n",
              "      <td>4</td>\n",
              "      <td>13213.0</td>\n",
              "    </tr>\n",
              "  </tbody>\n",
              "</table>\n",
              "</div>"
            ],
            "text/plain": [
              "     PassengerId  Survived  Pclass  ... NlengthD  Title  TicketNumber\n",
              "475          476         0       1  ...        2      2      110465.0\n",
              "174          175         0       1  ...        2      2       17764.0\n",
              "209          210         1       1  ...        3      2      112277.0\n",
              "445          446         1       1  ...        2      0       33638.0\n",
              "647          648         1       1  ...        2      4       13213.0\n",
              "\n",
              "[5 rows x 19 columns]"
            ]
          },
          "metadata": {
            "tags": []
          },
          "execution_count": 79
        }
      ]
    },
    {
      "cell_type": "markdown",
      "metadata": {
        "id": "gPsTPz08V31l"
      },
      "source": [
        "### **Age Column**\n",
        "\n",
        "Age seems to be promising feature. So it doesnt make sense to simply fill null values out with median/mean/mode.\n",
        "\n",
        "We will use Random Forest algorithm to predict ages."
      ]
    },
    {
      "cell_type": "code",
      "metadata": {
        "trusted": true,
        "id": "p5k34c96V31m",
        "colab": {
          "base_uri": "https://localhost:8080/",
          "height": 318
        },
        "outputId": "118ae28d-bdce-47c7-834b-f004830c7102"
      },
      "source": [
        "with sns.plotting_context(\"notebook\",font_scale=1.5):\n",
        "    sns.set_style(\"whitegrid\")\n",
        "    sns.distplot(train_df[\"Age\"].dropna(),\n",
        "                 bins=80,\n",
        "                 kde=False,\n",
        "                 color=\"red\")\n",
        "    plt.title(\"Age Distribution\")\n",
        "    plt.ylabel(\"Count\");"
      ],
      "execution_count": 80,
      "outputs": [
        {
          "output_type": "display_data",
          "data": {
            "image/png": "[encoded data removed]",
            "text/plain": [
              "<Figure size 432x288 with 1 Axes>"
            ]
          },
          "metadata": {
            "tags": []
          }
        }
      ]
    },
    {
      "cell_type": "code",
      "metadata": {
        "trusted": true,
        "id": "Ici-bbN5V31m"
      },
      "source": [
        "from sklearn.ensemble import RandomForestRegressor\n",
        "#predicting missing values in age using Random Forest\n",
        "def fill_missing_age(df):\n",
        "    \n",
        "    #Feature set\n",
        "    age_df = df[['Age','Embarked','Fare', 'Parch', 'SibSp',\n",
        "                 'TicketNumber', 'Title','Pclass','FamilySize',\n",
        "                 'FsizeD','NameLength',\"NlengthD\",'Deck']]\n",
        "    # Split sets into train and test\n",
        "    train  = age_df.loc[ (df.Age.notnull()) ]# known Age values\n",
        "    test = age_df.loc[ (df.Age.isnull()) ]# null Ages\n",
        "    \n",
        "    # All age values are stored in a target array\n",
        "    y = train.values[:, 0]\n",
        "    \n",
        "    # All the other values are stored in the feature array\n",
        "    X = train.values[:, 1::]\n",
        "    \n",
        "    # Create and fit a model\n",
        "    rtr = RandomForestRegressor(n_estimators=2000, n_jobs=-1)\n",
        "    rtr.fit(X, y)\n",
        "    \n",
        "    # Use the fitted model to predict the missing values\n",
        "    predictedAges = rtr.predict(test.values[:, 1::])\n",
        "    \n",
        "    # Assign those predictions to the full data set\n",
        "    df.loc[ (df.Age.isnull()), 'Age' ] = predictedAges \n",
        "    \n",
        "    return df"
      ],
      "execution_count": 81,
      "outputs": []
    },
    {
      "cell_type": "code",
      "metadata": {
        "trusted": true,
        "id": "OuroIlf7V31n"
      },
      "source": [
        "train_df=fill_missing_age(train_df)\n",
        "test_df=fill_missing_age(test_df)"
      ],
      "execution_count": 82,
      "outputs": []
    },
    {
      "cell_type": "markdown",
      "metadata": {
        "id": "kbncXh2TV31n"
      },
      "source": [
        "## **9. Feature Scaling** \n",
        "\n",
        "\n",
        "We can see that Age, Fare are measured on different scales, so we need to do Feature Scaling first before we proceed with making predictions with **stacked classifier**."
      ]
    },
    {
      "cell_type": "code",
      "metadata": {
        "trusted": true,
        "id": "RGachvrRV31n"
      },
      "source": [
        "from sklearn import preprocessing\n",
        "\n",
        "std_scale = preprocessing.StandardScaler().fit(train_df[['Age', 'Fare']])\n",
        "train_df[['Age', 'Fare']] = std_scale.transform(train_df[['Age', 'Fare']])\n",
        "\n",
        "\n",
        "std_scale = preprocessing.StandardScaler().fit(test_df[['Age', 'Fare']])\n",
        "test_df[['Age', 'Fare']] = std_scale.transform(test_df[['Age', 'Fare']])"
      ],
      "execution_count": 83,
      "outputs": []
    },
    {
      "cell_type": "markdown",
      "metadata": {
        "id": "Onni_C1qV31n"
      },
      "source": [
        "### **Correlation of features with target**"
      ]
    },
    {
      "cell_type": "code",
      "metadata": {
        "trusted": true,
        "id": "KRDb_c0OV31o",
        "colab": {
          "base_uri": "https://localhost:8080/"
        },
        "outputId": "27c91998-2551-4a62-9c6a-cc77b46d2959"
      },
      "source": [
        "train_df.corr()[\"Survived\"]"
      ],
      "execution_count": 84,
      "outputs": [
        {
          "output_type": "execute_result",
          "data": {
            "text/plain": [
              "PassengerId    -0.005007\n",
              "Survived        1.000000\n",
              "Pclass         -0.338481\n",
              "Sex            -0.543351\n",
              "Age            -0.078653\n",
              "SibSp          -0.035322\n",
              "Parch           0.081629\n",
              "Fare            0.257307\n",
              "Embarked       -0.174199\n",
              "Deck           -0.301116\n",
              "FamilySize      0.016639\n",
              "FsizeD          0.283810\n",
              "NameLength      0.332350\n",
              "NlengthD       -0.312234\n",
              "Title          -0.071174\n",
              "TicketNumber   -0.096161\n",
              "Name: Survived, dtype: float64"
            ]
          },
          "metadata": {
            "tags": []
          },
          "execution_count": 84
        }
      ]
    },
    {
      "cell_type": "markdown",
      "metadata": {
        "id": "et7-uTDEV31o"
      },
      "source": [
        "## **10. Declare feature vector and target label** "
      ]
    },
    {
      "cell_type": "code",
      "metadata": {
        "trusted": true,
        "id": "qibYNQeVV31o"
      },
      "source": [
        "# Declare feature vector and target variable\n",
        "X_train = train_df.drop(labels = ['Survived'],axis = 1)\n",
        "y_train = train_df['Survived']\n",
        "X_test = test_df\n"
      ],
      "execution_count": 85,
      "outputs": []
    },
    {
      "cell_type": "markdown",
      "metadata": {
        "id": "kaQ_JgasV31p"
      },
      "source": [
        "## **11. Individual Classifiers** \n",
        "\n",
        "\n",
        "For the purpose of illustration, we will train a **Support Vector Classifier (SVC)**, **Multi-layer Perceptron (MLP) classifier**, **Nu-Support Vector classifier (NuSVC)** and a **Random Forest (RF) classifier** — classifiers available in Scikit-learn. \n"
      ]
    },
    {
      "cell_type": "code",
      "metadata": {
        "trusted": true,
        "id": "EzuvFfvuV31p"
      },
      "source": [
        "# Initializing Support Vector classifier\n",
        "clf_svc = SVC(C = 50, degree = 1, gamma = \"auto\", kernel = \"rbf\", probability = True)\n",
        "\n",
        "# Initializing Multi-layer perceptron  classifier\n",
        "clf_mlp = MLPClassifier(activation = \"relu\", alpha = 0.1, hidden_layer_sizes = (10,10,10),\n",
        "                            learning_rate = \"constant\", max_iter = 2000, random_state = 1000)\n",
        "\n",
        "# Initialing Nu Support Vector classifier\n",
        "clf_nusvc = NuSVC(degree = 1, kernel = \"rbf\", nu = 0.25, probability = True)\n",
        "\n",
        "# Initializing Random Forest classifier\n",
        "clf_rfc = RandomForestClassifier(n_estimators = 500, criterion = \"gini\", max_depth = 10,\n",
        "                                     max_features = \"auto\", min_samples_leaf = 0.005,\n",
        "                                     min_samples_split = 0.005, n_jobs = -1, random_state = 1000)"
      ],
      "execution_count": 86,
      "outputs": []
    },
    {
      "cell_type": "markdown",
      "metadata": {
        "id": "uf9VNk3vV31q"
      },
      "source": [
        "## **12. Stacked Classifier** \n",
        "\n",
        "- To stack the above classifiers, we will use the [StackingClassifier](https://scikit-learn.org/stable/modules/generated/sklearn.ensemble.StackingClassifier.html#sklearn.ensemble.StackingClassifier) from scikit-learn library.\n",
        "\n",
        "\n",
        "- We can also use the [StackingCVClassifier](http://rasbt.github.io/mlxtend/user_guide/classifier/StackingCVClassifier/) from MLXTEND for the same purpose. We can take a look at the [official documentation](http://rasbt.github.io/mlxtend/user_guide/classifier/StackingCVClassifier/) since it goes in detail over useful examples of how to implement the StackingCVClassifier.\n"
      ]
    },
    {
      "cell_type": "code",
      "metadata": {
        "trusted": true,
        "id": "wMxSAFkcV31q"
      },
      "source": [
        "classifiers = [('svc', clf_svc),\n",
        "               ('mlp', clf_mlp),                             \n",
        "               ('nusvc', clf_nusvc),\n",
        "               ('rfc', clf_rfc)]"
      ],
      "execution_count": 87,
      "outputs": []
    },
    {
      "cell_type": "code",
      "metadata": {
        "trusted": true,
        "id": "TwPan6LJV31q"
      },
      "source": [
        "clf = StackingClassifier(estimators=classifiers, \n",
        "                         final_estimator=LogisticRegression(),\n",
        "                         stack_method='auto',\n",
        "                         n_jobs=-1,\n",
        "                         passthrough=False)"
      ],
      "execution_count": 88,
      "outputs": []
    },
    {
      "cell_type": "code",
      "metadata": {
        "trusted": true,
        "id": "SK5NpwMbV31q",
        "colab": {
          "base_uri": "https://localhost:8080/"
        },
        "outputId": "bf2971de-d65c-4c7a-bf1c-9d12979dd25f"
      },
      "source": [
        "predictors=[\"Pclass\", \"Sex\", \"Age\", \"Fare\", \"Embarked\",\"NlengthD\",\n",
        "              \"FsizeD\", \"Title\",\"Deck\",\"NameLength\",\"TicketNumber\"]\n",
        "\n",
        "clf.fit(X_train[predictors],y_train)"
      ],
      "execution_count": 89,
      "outputs": [
        {
          "output_type": "execute_result",
          "data": {
            "text/plain": [
              "StackingClassifier(cv=None,\n",
              "                   estimators=[('svc',\n",
              "                                SVC(C=50, break_ties=False, cache_size=200,\n",
              "                                    class_weight=None, coef0=0.0,\n",
              "                                    decision_function_shape='ovr', degree=1,\n",
              "                                    gamma='auto', kernel='rbf', max_iter=-1,\n",
              "                                    probability=True, random_state=None,\n",
              "                                    shrinking=True, tol=0.001, verbose=False)),\n",
              "                               ('mlp',\n",
              "                                MLPClassifier(activation='relu', alpha=0.1,\n",
              "                                              batch_size='auto', beta_1=0.9,\n",
              "                                              beta...\n",
              "                                                       random_state=1000,\n",
              "                                                       verbose=0,\n",
              "                                                       warm_start=False))],\n",
              "                   final_estimator=LogisticRegression(C=1.0, class_weight=None,\n",
              "                                                      dual=False,\n",
              "                                                      fit_intercept=True,\n",
              "                                                      intercept_scaling=1,\n",
              "                                                      l1_ratio=None,\n",
              "                                                      max_iter=100,\n",
              "                                                      multi_class='auto',\n",
              "                                                      n_jobs=None, penalty='l2',\n",
              "                                                      random_state=None,\n",
              "                                                      solver='lbfgs',\n",
              "                                                      tol=0.0001, verbose=0,\n",
              "                                                      warm_start=False),\n",
              "                   n_jobs=-1, passthrough=False, stack_method='auto',\n",
              "                   verbose=0)"
            ]
          },
          "metadata": {
            "tags": []
          },
          "execution_count": 89
        }
      ]
    },
    {
      "cell_type": "code",
      "metadata": {
        "trusted": true,
        "id": "aa-htydDV31r"
      },
      "source": [
        "test_predictions=clf.predict(X_test[predictors])\n"
      ],
      "execution_count": 90,
      "outputs": []
    },
    {
      "cell_type": "code",
      "metadata": {
        "trusted": true,
        "id": "7OvXfpDGV31r"
      },
      "source": [
        "test_predictions=test_predictions.astype(int)\n",
        "\n",
        "submission = pd.DataFrame({\n",
        "        \"PassengerId\": test_df[\"PassengerId\"],\n",
        "        \"Survived\": test_predictions\n",
        "    })\n",
        "\n",
        "submission.to_csv(\"titanic_submission.csv\", index=False)"
      ],
      "execution_count": 91,
      "outputs": []
    }
  ]
}